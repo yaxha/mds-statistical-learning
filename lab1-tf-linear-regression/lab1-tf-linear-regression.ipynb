{
 "cells": [
  {
   "cell_type": "markdown",
   "metadata": {},
   "source": [
    "# Laboratorio 1 \n",
    "**José Barrios - 20007192**\n",
    "\n",
    "## Descripción general\n",
    "Utilizar el mismo dataset del proyecto de Introducción a la Ciencia de los Datos para implementar Batch Gradient Descent usando TensorFlow y TensorBoard.\n",
    "\n",
    "Se pide hallar los parámetros de la función y\n",
    "> y = f(x) = mx +b\n",
    "\n",
    "Donde:\n",
    "<br>y = la variable dependiente\n",
    "<br>x = variable independiente\n",
    "<br>m = pendiente de la recta(parámetro del modelo)\n",
    "<br>b = intercepto(parámetro del modelo)\n",
    "\n",
    "Tanto “x” como “y” son parte del dataset usado , “m” y “b” son parámetros del modelo los cuales buscamos estimar con los datos, esto significa que se busca encontrar que valores de “m” y “b” producen una recta que describa de la mejor manera posible la relación entre los datos \"x\" y \"y\".\n",
    "\n",
    "Se usará el proyecto del curso anterior como base de este laboratorio. El proyecto se encuentra en el repositorio https://github.com/yaxha/mds-idc-proyecto \n",
    "\n",
    "Además, se utilizará este ejemplo para la implementación con Python https://www.geeksforgeeks.org/linear-regression-using-tensorflow/ \n",
    "\n",
    "Para este proyecto, ya no se utilizarán las variables _m_ y _b_ directamente, sino que se convertirán a las posiciones de un vector $theta$ de tamaño 2.\n",
    "\n",
    "### Pasos solicitados\n",
    "Los datos se encuentran dados en el formato binario de NumPy .npy por lo tanto usaremos la función “load” de numpy para poderlos utilizar:\n"
   ]
  },
  {
   "cell_type": "code",
   "execution_count": 1,
   "metadata": {},
   "outputs": [],
   "source": [
    "import numpy as np\n",
    "import tensorflow.compat.v1 as tf\n",
    "#import tensorflow as tf\n",
    "import pandas as pd\n",
    "import matplotlib.pyplot as plt\n",
    "import datetime"
   ]
  },
  {
   "cell_type": "code",
   "execution_count": 2,
   "metadata": {},
   "outputs": [
    {
     "name": "stdout",
     "output_type": "stream",
     "text": [
      "WARNING:tensorflow:From D:\\Programs\\Anaconda\\envs\\clase22\\lib\\site-packages\\tensorflow_core\\python\\compat\\v2_compat.py:88: disable_resource_variables (from tensorflow.python.ops.variable_scope) is deprecated and will be removed in a future version.\n",
      "Instructions for updating:\n",
      "non-resource variables are not supported in the long term\n",
      "Enabled compatitility to tf1.x\n"
     ]
    }
   ],
   "source": [
    "if tf.__version__.startswith(\"2.\"):\n",
    "  import tensorflow.compat.v1 as tf\n",
    "  tf.compat.v1.disable_v2_behavior()\n",
    "  tf.compat.v1.disable_eager_execution()\n",
    "  print(\"Enabled compatitility to tf1.x\")"
   ]
  },
  {
   "cell_type": "code",
   "execution_count": 3,
   "metadata": {},
   "outputs": [],
   "source": [
    "%load_ext tensorboard"
   ]
  },
  {
   "cell_type": "code",
   "execution_count": 4,
   "metadata": {},
   "outputs": [],
   "source": [
    "data = np.load('proyecto_training_data.npy')"
   ]
  },
  {
   "cell_type": "code",
   "execution_count": 5,
   "metadata": {},
   "outputs": [
    {
     "data": {
      "text/html": [
       "<div>\n",
       "<style scoped>\n",
       "    .dataframe tbody tr th:only-of-type {\n",
       "        vertical-align: middle;\n",
       "    }\n",
       "\n",
       "    .dataframe tbody tr th {\n",
       "        vertical-align: top;\n",
       "    }\n",
       "\n",
       "    .dataframe thead th {\n",
       "        text-align: right;\n",
       "    }\n",
       "</style>\n",
       "<table border=\"1\" class=\"dataframe\">\n",
       "  <thead>\n",
       "    <tr style=\"text-align: right;\">\n",
       "      <th></th>\n",
       "      <th>SalePrice</th>\n",
       "      <th>OverallQual</th>\n",
       "      <th>1stFlrSF</th>\n",
       "      <th>TotRmsAbvGrd</th>\n",
       "      <th>YearBuilt</th>\n",
       "      <th>LotFrontage</th>\n",
       "    </tr>\n",
       "  </thead>\n",
       "  <tbody>\n",
       "    <tr>\n",
       "      <th>0</th>\n",
       "      <td>208500</td>\n",
       "      <td>7</td>\n",
       "      <td>856</td>\n",
       "      <td>8</td>\n",
       "      <td>2003</td>\n",
       "      <td>65.0</td>\n",
       "    </tr>\n",
       "    <tr>\n",
       "      <th>1</th>\n",
       "      <td>181500</td>\n",
       "      <td>6</td>\n",
       "      <td>1262</td>\n",
       "      <td>6</td>\n",
       "      <td>1976</td>\n",
       "      <td>80.0</td>\n",
       "    </tr>\n",
       "    <tr>\n",
       "      <th>2</th>\n",
       "      <td>223500</td>\n",
       "      <td>7</td>\n",
       "      <td>920</td>\n",
       "      <td>6</td>\n",
       "      <td>2001</td>\n",
       "      <td>68.0</td>\n",
       "    </tr>\n",
       "    <tr>\n",
       "      <th>3</th>\n",
       "      <td>140000</td>\n",
       "      <td>7</td>\n",
       "      <td>961</td>\n",
       "      <td>7</td>\n",
       "      <td>1915</td>\n",
       "      <td>60.0</td>\n",
       "    </tr>\n",
       "    <tr>\n",
       "      <th>4</th>\n",
       "      <td>250000</td>\n",
       "      <td>8</td>\n",
       "      <td>1145</td>\n",
       "      <td>9</td>\n",
       "      <td>2000</td>\n",
       "      <td>84.0</td>\n",
       "    </tr>\n",
       "  </tbody>\n",
       "</table>\n",
       "</div>"
      ],
      "text/plain": [
       "   SalePrice  OverallQual  1stFlrSF  TotRmsAbvGrd  YearBuilt  LotFrontage\n",
       "0     208500            7       856             8       2003         65.0\n",
       "1     181500            6      1262             6       1976         80.0\n",
       "2     223500            7       920             6       2001         68.0\n",
       "3     140000            7       961             7       1915         60.0\n",
       "4     250000            8      1145             9       2000         84.0"
      ]
     },
     "execution_count": 5,
     "metadata": {},
     "output_type": "execute_result"
    }
   ],
   "source": [
    "data = pd.DataFrame(data = data, columns = [\"SalePrice\", \"OverallQual\",\"1stFlrSF\", \"TotRmsAbvGrd\", \"YearBuilt\", \"LotFrontage\"])\n",
    "data = data.astype({\"SalePrice\" : int, \"OverallQual\" : int, \"1stFlrSF\" : int, \"TotRmsAbvGrd\" : int, \"YearBuilt\" : int})\n",
    "data.head()"
   ]
  },
  {
   "cell_type": "code",
   "execution_count": 5,
   "metadata": {},
   "outputs": [
    {
     "data": {
      "text/html": [
       "<div>\n",
       "<style scoped>\n",
       "    .dataframe tbody tr th:only-of-type {\n",
       "        vertical-align: middle;\n",
       "    }\n",
       "\n",
       "    .dataframe tbody tr th {\n",
       "        vertical-align: top;\n",
       "    }\n",
       "\n",
       "    .dataframe thead th {\n",
       "        text-align: right;\n",
       "    }\n",
       "</style>\n",
       "<table border=\"1\" class=\"dataframe\">\n",
       "  <thead>\n",
       "    <tr style=\"text-align: right;\">\n",
       "      <th></th>\n",
       "      <th>SalePrice</th>\n",
       "      <th>OverallQual</th>\n",
       "      <th>1stFlrSF</th>\n",
       "      <th>TotRmsAbvGrd</th>\n",
       "      <th>YearBuilt</th>\n",
       "      <th>LotFrontage</th>\n",
       "    </tr>\n",
       "  </thead>\n",
       "  <tbody>\n",
       "    <tr>\n",
       "      <th>count</th>\n",
       "      <td>1460.000000</td>\n",
       "      <td>1460.000000</td>\n",
       "      <td>1460.000000</td>\n",
       "      <td>1460.000000</td>\n",
       "      <td>1460.000000</td>\n",
       "      <td>1201.000000</td>\n",
       "    </tr>\n",
       "    <tr>\n",
       "      <th>mean</th>\n",
       "      <td>180921.195890</td>\n",
       "      <td>6.099315</td>\n",
       "      <td>1162.626712</td>\n",
       "      <td>6.517808</td>\n",
       "      <td>1971.267808</td>\n",
       "      <td>70.049958</td>\n",
       "    </tr>\n",
       "    <tr>\n",
       "      <th>std</th>\n",
       "      <td>79442.502883</td>\n",
       "      <td>1.382997</td>\n",
       "      <td>386.587738</td>\n",
       "      <td>1.625393</td>\n",
       "      <td>30.202904</td>\n",
       "      <td>24.284752</td>\n",
       "    </tr>\n",
       "    <tr>\n",
       "      <th>min</th>\n",
       "      <td>34900.000000</td>\n",
       "      <td>1.000000</td>\n",
       "      <td>334.000000</td>\n",
       "      <td>2.000000</td>\n",
       "      <td>1872.000000</td>\n",
       "      <td>21.000000</td>\n",
       "    </tr>\n",
       "    <tr>\n",
       "      <th>25%</th>\n",
       "      <td>129975.000000</td>\n",
       "      <td>5.000000</td>\n",
       "      <td>882.000000</td>\n",
       "      <td>5.000000</td>\n",
       "      <td>1954.000000</td>\n",
       "      <td>59.000000</td>\n",
       "    </tr>\n",
       "    <tr>\n",
       "      <th>50%</th>\n",
       "      <td>163000.000000</td>\n",
       "      <td>6.000000</td>\n",
       "      <td>1087.000000</td>\n",
       "      <td>6.000000</td>\n",
       "      <td>1973.000000</td>\n",
       "      <td>69.000000</td>\n",
       "    </tr>\n",
       "    <tr>\n",
       "      <th>75%</th>\n",
       "      <td>214000.000000</td>\n",
       "      <td>7.000000</td>\n",
       "      <td>1391.250000</td>\n",
       "      <td>7.000000</td>\n",
       "      <td>2000.000000</td>\n",
       "      <td>80.000000</td>\n",
       "    </tr>\n",
       "    <tr>\n",
       "      <th>max</th>\n",
       "      <td>755000.000000</td>\n",
       "      <td>10.000000</td>\n",
       "      <td>4692.000000</td>\n",
       "      <td>14.000000</td>\n",
       "      <td>2010.000000</td>\n",
       "      <td>313.000000</td>\n",
       "    </tr>\n",
       "  </tbody>\n",
       "</table>\n",
       "</div>"
      ],
      "text/plain": [
       "           SalePrice  OverallQual     1stFlrSF  TotRmsAbvGrd    YearBuilt  \\\n",
       "count    1460.000000  1460.000000  1460.000000   1460.000000  1460.000000   \n",
       "mean   180921.195890     6.099315  1162.626712      6.517808  1971.267808   \n",
       "std     79442.502883     1.382997   386.587738      1.625393    30.202904   \n",
       "min     34900.000000     1.000000   334.000000      2.000000  1872.000000   \n",
       "25%    129975.000000     5.000000   882.000000      5.000000  1954.000000   \n",
       "50%    163000.000000     6.000000  1087.000000      6.000000  1973.000000   \n",
       "75%    214000.000000     7.000000  1391.250000      7.000000  2000.000000   \n",
       "max    755000.000000    10.000000  4692.000000     14.000000  2010.000000   \n",
       "\n",
       "       LotFrontage  \n",
       "count  1201.000000  \n",
       "mean     70.049958  \n",
       "std      24.284752  \n",
       "min      21.000000  \n",
       "25%      59.000000  \n",
       "50%      69.000000  \n",
       "75%      80.000000  \n",
       "max     313.000000  "
      ]
     },
     "execution_count": 5,
     "metadata": {},
     "output_type": "execute_result"
    }
   ],
   "source": [
    "data.describe()"
   ]
  },
  {
   "cell_type": "code",
   "execution_count": 6,
   "metadata": {},
   "outputs": [
    {
     "name": "stdout",
     "output_type": "stream",
     "text": [
      "Forma o tamaño:  (1460, 6)\n"
     ]
    }
   ],
   "source": [
    "print(\"Forma o tamaño: \", data.shape)"
   ]
  },
  {
   "cell_type": "markdown",
   "metadata": {},
   "source": [
    "### Correlación entre variables\n",
    "Para cada variable independiente x:\n",
    "* Calcular el coeficiente de correlación entre x y _y_ \n",
    "* Graficar x vs y (scatterplot) usando matplotlib\n",
    "* Colocar el coeficiente de correlación y colocarlo como parte del título de la gráfica"
   ]
  },
  {
   "cell_type": "code",
   "execution_count": 9,
   "metadata": {},
   "outputs": [
    {
     "data": {
      "image/png": "[encoded data removed]",
      "text/plain": [
       "<Figure size 432x288 with 1 Axes>"
      ]
     },
     "metadata": {
      "needs_background": "light"
     },
     "output_type": "display_data"
    },
    {
     "data": {
      "image/png": "[encoded data removed]",
      "text/plain": [
       "<Figure size 432x288 with 1 Axes>"
      ]
     },
     "metadata": {
      "needs_background": "light"
     },
     "output_type": "display_data"
    },
    {
     "data": {
      "image/png": "[encoded data removed]",
      "text/plain": [
       "<Figure size 432x288 with 1 Axes>"
      ]
     },
     "metadata": {
      "needs_background": "light"
     },
     "output_type": "display_data"
    },
    {
     "data": {
      "image/png": "[encoded data removed]",
      "text/plain": [
       "<Figure size 432x288 with 1 Axes>"
      ]
     },
     "metadata": {
      "needs_background": "light"
     },
     "output_type": "display_data"
    },
    {
     "data": {
      "image/png": "[encoded data removed]",
      "text/plain": [
       "<Figure size 432x288 with 1 Axes>"
      ]
     },
     "metadata": {
      "needs_background": "light"
     },
     "output_type": "display_data"
    }
   ],
   "source": [
    "for col in data.columns:\n",
    "    if(col != 'SalePrice'):\n",
    "        cor = round(data['SalePrice'].corr(data[col]),4)\n",
    "        \n",
    "        fig = plt.figure()\n",
    "        ax = fig.add_subplot(1, 1, 1)\n",
    "        ax.scatter(data[col], data[\"SalePrice\"])\n",
    "        ax.set_xlabel(col)\n",
    "        ax.set_ylabel(\"Sale Price\")\n",
    "        ax.set_title('R = ' + str(cor))\n",
    "        ax.set_aspect('auto')\n",
    "    \n",
    "plt.show()"
   ]
  },
  {
   "cell_type": "markdown",
   "metadata": {},
   "source": [
    "## Variable seleccionada\n",
    "Según las correlaciones entre variables de la sección anterior, se selecciona:\n",
    "* OverallQual (R = 0.791)\n",
    "\n",
    "## Definición del método de entrenamiento\n",
    "Se crea una clase para entrenar un modelo de regresión lineal de una variable. Sin embargo, se tratará de parametrizar para que sea capaz de recibir más de una variable independiente, de este modo se generaliza para que la función de la variable dependiente sea:\n",
    "> $y = \\theta_0 + \\theta_1 x_1 + ... + \\theta_n x_n$\n"
   ]
  },
  {
   "cell_type": "code",
   "execution_count": 6,
   "metadata": {},
   "outputs": [],
   "source": [
    "#Clase del modelo lineal\n",
    "class LinearRegression:\n",
    "    #Inicializador de thetas a 0\n",
    "    def __init__(self, n): \n",
    "        self.theta = tf.get_variable(\"theta\", dtype=tf.float32, shape=[1, n], initializer=tf.zeros_initializer())\n",
    "\n",
    "    def __call__(self, x):\n",
    "        return tf.matmul(self.theta, x)\n",
    "    \n",
    "    #Función a optimizar por tf.gradients\n",
    "    def mse(self, x, y):\n",
    "        mse = 0.5 * tf.reduce_mean(tf.math.square(y - self(x)))\n",
    "        return mse\n",
    "    \n",
    "    #Actualización de thetas\n",
    "    def update(self, x, y, learning_rate):\n",
    "        with tf.name_scope(\"cost_function\"):\n",
    "            mse = self.mse(x, y)\n",
    "            mse_summary = tf.summary.scalar(\"mse_summary\", mse)\n",
    "        gradients = tf.gradients(mse, [self.theta])\n",
    "        theta_new = tf.assign(self.theta, self.theta - learning_rate * gradients[0])\n",
    "        return theta_new, mse, mse_summary"
   ]
  },
  {
   "cell_type": "code",
   "execution_count": 7,
   "metadata": {},
   "outputs": [],
   "source": [
    "#Función de entrenamiento usando la clase definida anteriormente\n",
    "def LinearTraining(x, y, epochs, imprimir_error_cada, learning_rate):\n",
    "    log_name = './logs/'+ datetime.datetime.now().strftime(\"%Y%m%d-%H%M%S\") + '_lr=' + str(learning_rate)+ '_epochs=' + str(epochs)\n",
    "    \n",
    "    n, m = x.shape\n",
    "    g = tf.Graph()\n",
    "    with g.as_default():\n",
    "        model = LinearRegression(n)\n",
    "        tensor_x = tf.placeholder(tf.float32, [n, m], \"tensor_x\")\n",
    "        tensor_y = tf.placeholder(tf.float32, [m], \"tensor_y\")\n",
    "        \n",
    "        update_parameters = model.update(tensor_x, tensor_y, learning_rate)\n",
    "        \n",
    "        writer = tf.summary.FileWriter(log_name, g)\n",
    "        \n",
    "        with tf.train.MonitoredSession() as session:\n",
    "            parameters_dict = {tensor_x:x, tensor_y:y}\n",
    "            for i in range(epochs + 1):\n",
    "                training = session.run(update_parameters, feed_dict = parameters_dict)\n",
    "            \n",
    "                if (i % imprimir_error_cada) == 0:\n",
    "                    W = session.run(model.theta, feed_dict = parameters_dict)\n",
    "                    writer.add_summary(training[2], i)\n",
    "                    print(\"Epoch \", i, \": Thetas: \", W, \"Cost: \", training[1])"
   ]
  },
  {
   "cell_type": "markdown",
   "metadata": {},
   "source": [
    "## Entrenamiento\n",
    "Ya definido el modelo, se utilizará para graficar el grafo resultante y el costo del entrenamiento en el tiempo. Para el entrenamiento se asume que la función de costo tiene un mínimo y la \"velocidad\" para alcanzarlo depende de la tasa de aprendizaje sin que esta tasa provoque divergencia.\n",
    "\n",
    "<img src=\"images/grafo.png\">"
   ]
  },
  {
   "cell_type": "code",
   "execution_count": 8,
   "metadata": {},
   "outputs": [],
   "source": [
    "y = data[\"SalePrice\"]\n",
    "x = data[\"OverallQual\"]\n",
    "x = np.array([x, np.ones_like(x)], dtype = \"float32\")"
   ]
  },
  {
   "cell_type": "code",
   "execution_count": 9,
   "metadata": {},
   "outputs": [
    {
     "name": "stdout",
     "output_type": "stream",
     "text": [
      "INFO:tensorflow:Graph was finalized.\n",
      "INFO:tensorflow:Running local_init_op.\n",
      "INFO:tensorflow:Done running local_init_op.\n",
      "Epoch  0 : Thetas:  [[11903.399  1809.212]] Cost:  19519640000.0\n",
      "Epoch  100 : Thetas:  [[30432.057     -109.074814]] Cost:  1406328000.0\n",
      "Epoch  200 : Thetas:  [[31131.19   -4586.9214]] Cost:  1385769500.0\n",
      "Epoch  300 : Thetas:  [[31797.744 -8856.112]] Cost:  1367081900.0\n",
      "Epoch  400 : Thetas:  [[ 32433.238 -12926.37 ]] Cost:  1350095700.0\n",
      "Epoch  500 : Thetas:  [[ 33039.12  -16806.963]] Cost:  1334655500.0\n",
      "Epoch  600 : Thetas:  [[ 33616.77  -20506.734]] Cost:  1320620900.0\n",
      "Epoch  700 : Thetas:  [[ 34167.504 -24034.111]] Cost:  1307863600.0\n",
      "Epoch  800 : Thetas:  [[ 34692.574 -27397.113]] Cost:  1296267800.0\n",
      "Epoch  900 : Thetas:  [[ 35193.176 -30603.414]] Cost:  1285727200.0\n",
      "Epoch  1000 : Thetas:  [[ 35670.453 -33660.312]] Cost:  1276145900.0\n"
     ]
    }
   ],
   "source": [
    "LinearTraining(x, y, 1000, 100, 0.01)"
   ]
  },
  {
   "cell_type": "code",
   "execution_count": 12,
   "metadata": {},
   "outputs": [
    {
     "name": "stdout",
     "output_type": "stream",
     "text": [
      "INFO:tensorflow:Graph was finalized.\n",
      "INFO:tensorflow:Running local_init_op.\n",
      "INFO:tensorflow:Done running local_init_op.\n",
      "Epoch  0 : Thetas:  [[11903.399  1809.212]] Cost:  19519640000.0\n",
      "Epoch  300 : Thetas:  [[31797.744 -8856.112]] Cost:  1367081900.0\n",
      "Epoch  600 : Thetas:  [[ 33616.77  -20506.734]] Cost:  1320620900.0\n",
      "Epoch  900 : Thetas:  [[ 35193.176 -30603.414]] Cost:  1285727200.0\n",
      "Epoch  1200 : Thetas:  [[ 36559.33  -39353.438]] Cost:  1259521200.0\n",
      "Epoch  1500 : Thetas:  [[ 37743.258 -46936.344]] Cost:  1239839400.0\n",
      "Epoch  1800 : Thetas:  [[ 38769.285 -53507.902]] Cost:  1225057500.0\n",
      "Epoch  2100 : Thetas:  [[ 39658.453 -59202.92 ]] Cost:  1213956000.0\n",
      "Epoch  2400 : Thetas:  [[ 40429.023 -64138.332]] Cost:  1205618300.0\n",
      "Epoch  2700 : Thetas:  [[ 41096.82  -68415.484]] Cost:  1199356200.0\n",
      "Epoch  3000 : Thetas:  [[ 41675.555 -72122.17 ]] Cost:  1194653700.0\n",
      "Epoch  3300 : Thetas:  [[ 42177.086 -75334.44 ]] Cost:  1191121500.0\n",
      "Epoch  3600 : Thetas:  [[ 42611.727 -78118.25 ]] Cost:  1188469100.0\n",
      "Epoch  3900 : Thetas:  [[ 42988.406 -80530.85 ]] Cost:  1186476200.0\n",
      "Epoch  4200 : Thetas:  [[ 43314.832 -82621.56 ]] Cost:  1184980700.0\n",
      "Epoch  4500 : Thetas:  [[ 43597.723 -84433.42 ]] Cost:  1183857400.0\n",
      "Epoch  4800 : Thetas:  [[ 43842.883 -86003.62 ]] Cost:  1183013000.0\n",
      "Epoch  5100 : Thetas:  [[ 44055.344 -87364.41 ]] Cost:  1182379100.0\n",
      "Epoch  5400 : Thetas:  [[ 44239.457 -88543.664]] Cost:  1181903000.0\n",
      "Epoch  5700 : Thetas:  [[ 44399.023 -89565.63 ]] Cost:  1181545700.0\n",
      "Epoch  6000 : Thetas:  [[ 44537.305 -90451.32 ]] Cost:  1181276900.0\n",
      "Epoch  6300 : Thetas:  [[ 44657.14 -91218.87]] Cost:  1181075200.0\n",
      "Epoch  6600 : Thetas:  [[ 44760.996 -91884.03 ]] Cost:  1180923800.0\n",
      "Epoch  6900 : Thetas:  [[ 44851.   -92460.49]] Cost:  1180810400.0\n",
      "Epoch  7200 : Thetas:  [[ 44928.996 -92960.055]] Cost:  1180725000.0\n",
      "Epoch  7500 : Thetas:  [[ 44996.59  -93392.984]] Cost:  1180660400.0\n",
      "Epoch  7800 : Thetas:  [[ 45055.168 -93768.164]] Cost:  1180612400.0\n",
      "Epoch  8100 : Thetas:  [[ 45105.934 -94093.32 ]] Cost:  1180575900.0\n",
      "Epoch  8400 : Thetas:  [[ 45149.93 -94375.11]] Cost:  1180549400.0\n",
      "Epoch  8700 : Thetas:  [[ 45188.055 -94619.305]] Cost:  1180528600.0\n",
      "Epoch  9000 : Thetas:  [[ 45221.094 -94830.914]] Cost:  1180513700.0\n",
      "Epoch  9300 : Thetas:  [[ 45249.734 -95014.31 ]] Cost:  1180501800.0\n",
      "Epoch  9600 : Thetas:  [[ 45274.547 -95173.25 ]] Cost:  1180493200.0\n",
      "Epoch  9900 : Thetas:  [[ 45296.05 -95311.01]] Cost:  1180486800.0\n"
     ]
    }
   ],
   "source": [
    "LinearTraining(x, y, 10000, 300, 0.01)\n",
    "#Este experimento redujo el costo a comparación del anterior. Acá se agregaron más iteraciones"
   ]
  },
  {
   "cell_type": "code",
   "execution_count": 13,
   "metadata": {},
   "outputs": [
    {
     "name": "stdout",
     "output_type": "stream",
     "text": [
      "INFO:tensorflow:Graph was finalized.\n",
      "INFO:tensorflow:Running local_init_op.\n",
      "INFO:tensorflow:Done running local_init_op.\n",
      "Epoch  0 : Thetas:  [[1190.3401   180.92122]] Cost:  19519640000.0\n",
      "Epoch  500 : Thetas:  [[30063.1     2254.0488]] Cost:  1417369100.0\n",
      "Epoch  1000 : Thetas:  [[30425.45      -66.77994]] Cost:  1406332500.0\n",
      "Epoch  1500 : Thetas:  [[30779.254  -2332.9036]] Cost:  1395810300.0\n",
      "Epoch  2000 : Thetas:  [[31124.738 -4545.61 ]] Cost:  1385778300.0\n",
      "Epoch  2500 : Thetas:  [[31462.062  -6706.1606]] Cost:  1376212900.0\n",
      "Epoch  3000 : Thetas:  [[31791.438 -8815.782]] Cost:  1367093900.0\n",
      "Epoch  3500 : Thetas:  [[ 32113.059 -10875.679]] Cost:  1358399400.0\n",
      "Epoch  4000 : Thetas:  [[ 32427.084 -12887.015]] Cost:  1350110600.0\n",
      "Epoch  4500 : Thetas:  [[ 32733.715 -14850.943]] Cost:  1342206800.0\n",
      "Epoch  5000 : Thetas:  [[ 33033.12  -16768.555]] Cost:  1334672900.0\n",
      "Epoch  5500 : Thetas:  [[ 33325.43  -18640.957]] Cost:  1327488600.0\n",
      "Epoch  6000 : Thetas:  [[ 33610.902 -20469.213]] Cost:  1320639600.0\n",
      "Epoch  6500 : Thetas:  [[ 33889.594 -22254.385]] Cost:  1314109000.0\n",
      "Epoch  7000 : Thetas:  [[ 34161.773 -23997.473]] Cost:  1307883600.0\n",
      "Epoch  7500 : Thetas:  [[ 34427.51  -25699.479]] Cost:  1301947600.0\n",
      "Epoch  8000 : Thetas:  [[ 34686.97 -27361.36]] Cost:  1296288600.0\n",
      "Epoch  8500 : Thetas:  [[ 34940.316 -28984.074]] Cost:  1290893300.0\n",
      "Epoch  9000 : Thetas:  [[ 35187.7   -30568.535]] Cost:  1285748900.0\n",
      "Epoch  9500 : Thetas:  [[ 35429.258 -32115.66 ]] Cost:  1280843900.0\n",
      "Epoch  10000 : Thetas:  [[ 35665.13 -33626.31]] Cost:  1276168000.0\n"
     ]
    }
   ],
   "source": [
    "LinearTraining(x, y, 10000, 500, 0.001)\n",
    "#En este experimento se redujo el learning rate para ver su efecto.\n",
    "#Se observó que el costo disminuye mucho más lentamente que el experimento anterior"
   ]
  },
  {
   "cell_type": "code",
   "execution_count": 14,
   "metadata": {},
   "outputs": [
    {
     "name": "stdout",
     "output_type": "stream",
     "text": [
      "INFO:tensorflow:Graph was finalized.\n",
      "INFO:tensorflow:Running local_init_op.\n",
      "INFO:tensorflow:Done running local_init_op.\n",
      "Epoch  0 : Thetas:  [[11903.399  1809.212]] Cost:  19519640000.0\n",
      "Epoch  500 : Thetas:  [[ 33039.12  -16806.963]] Cost:  1334655500.0\n",
      "Epoch  1000 : Thetas:  [[ 35670.453 -33660.312]] Cost:  1276145900.0\n",
      "Epoch  1500 : Thetas:  [[ 37743.258 -46936.344]] Cost:  1239839400.0\n",
      "Epoch  2000 : Thetas:  [[ 39376.09  -57394.418]] Cost:  1217309800.0\n",
      "Epoch  2500 : Thetas:  [[ 40662.33 -65632.6 ]] Cost:  1203329200.0\n",
      "Epoch  3000 : Thetas:  [[ 41675.555 -72122.17 ]] Cost:  1194653700.0\n",
      "Epoch  3500 : Thetas:  [[ 42473.7  -77234.22]] Cost:  1189270400.0\n",
      "Epoch  4000 : Thetas:  [[ 43102.45 -81261.27]] Cost:  1185930200.0\n",
      "Epoch  4500 : Thetas:  [[ 43597.723 -84433.42 ]] Cost:  1183857400.0\n",
      "Epoch  5000 : Thetas:  [[ 43987.87 -86932.28]] Cost:  1182570800.0\n",
      "Epoch  5500 : Thetas:  [[ 44295.203 -88900.695]] Cost:  1181772200.0\n",
      "Epoch  6000 : Thetas:  [[ 44537.305 -90451.32 ]] Cost:  1181276900.0\n",
      "Epoch  6500 : Thetas:  [[ 44728.02 -91672.81]] Cost:  1180969300.0\n",
      "Epoch  7000 : Thetas:  [[ 44878.246 -92635.016]] Cost:  1180779400.0\n",
      "Epoch  7500 : Thetas:  [[ 44996.59  -93392.984]] Cost:  1180660400.0\n",
      "Epoch  8000 : Thetas:  [[ 45089.812 -93990.07 ]] Cost:  1180587000.0\n",
      "Epoch  8500 : Thetas:  [[ 45163.25 -94460.42]] Cost:  1180542000.0\n",
      "Epoch  9000 : Thetas:  [[ 45221.094 -94830.914]] Cost:  1180513700.0\n",
      "Epoch  9500 : Thetas:  [[ 45266.668 -95122.78 ]] Cost:  1180495900.0\n",
      "Epoch  10000 : Thetas:  [[ 45302.562 -95352.7  ]] Cost:  1180485000.0\n",
      "Epoch  10500 : Thetas:  [[ 45330.84 -95533.8 ]] Cost:  1180478200.0\n",
      "Epoch  11000 : Thetas:  [[ 45353.113 -95676.48 ]] Cost:  1180473700.0\n",
      "Epoch  11500 : Thetas:  [[ 45370.668 -95788.91 ]] Cost:  1180471600.0\n",
      "Epoch  12000 : Thetas:  [[ 45384.477 -95877.36 ]] Cost:  1180470400.0\n",
      "Epoch  12500 : Thetas:  [[ 45395.367 -95947.09 ]] Cost:  1180468700.0\n",
      "Epoch  13000 : Thetas:  [[ 45403.96 -96002.12]] Cost:  1180468400.0\n",
      "Epoch  13500 : Thetas:  [[ 45410.695 -96045.28 ]] Cost:  1180467800.0\n",
      "Epoch  14000 : Thetas:  [[ 45416.023 -96079.4  ]] Cost:  1180467700.0\n",
      "Epoch  14500 : Thetas:  [[ 45420.195 -96106.11 ]] Cost:  1180467700.0\n",
      "Epoch  15000 : Thetas:  [[ 45423.504 -96127.32 ]] Cost:  1180467600.0\n",
      "Epoch  15500 : Thetas:  [[ 45426.1  -96143.96]] Cost:  1180467300.0\n",
      "Epoch  16000 : Thetas:  [[ 45428.117 -96156.836]] Cost:  1180467200.0\n",
      "Epoch  16500 : Thetas:  [[ 45429.785 -96167.516]] Cost:  1180467200.0\n",
      "Epoch  17000 : Thetas:  [[ 45431.   -96175.33]] Cost:  1180467700.0\n",
      "Epoch  17500 : Thetas:  [[ 45432.1   -96182.375]] Cost:  1180467100.0\n",
      "Epoch  18000 : Thetas:  [[ 45432.71 -96186.28]] Cost:  1180467100.0\n",
      "Epoch  18500 : Thetas:  [[ 45433.32 -96190.19]] Cost:  1180467300.0\n",
      "Epoch  19000 : Thetas:  [[ 45433.93 -96194.09]] Cost:  1180467000.0\n",
      "Epoch  19500 : Thetas:  [[ 45434.46 -96197.51]] Cost:  1180467200.0\n",
      "Epoch  20000 : Thetas:  [[ 45434.46 -96197.51]] Cost:  1180467200.0\n",
      "Epoch  20500 : Thetas:  [[ 45434.46 -96197.51]] Cost:  1180467200.0\n",
      "Epoch  21000 : Thetas:  [[ 45434.46 -96197.51]] Cost:  1180467200.0\n",
      "Epoch  21500 : Thetas:  [[ 45434.46 -96197.51]] Cost:  1180467200.0\n",
      "Epoch  22000 : Thetas:  [[ 45434.46 -96197.51]] Cost:  1180467200.0\n",
      "Epoch  22500 : Thetas:  [[ 45434.46 -96197.51]] Cost:  1180467200.0\n",
      "Epoch  23000 : Thetas:  [[ 45434.46 -96197.51]] Cost:  1180467200.0\n",
      "Epoch  23500 : Thetas:  [[ 45434.46 -96197.51]] Cost:  1180467200.0\n",
      "Epoch  24000 : Thetas:  [[ 45434.46 -96197.51]] Cost:  1180467200.0\n",
      "Epoch  24500 : Thetas:  [[ 45434.46 -96197.51]] Cost:  1180467200.0\n",
      "Epoch  25000 : Thetas:  [[ 45434.46 -96197.51]] Cost:  1180467200.0\n",
      "Epoch  25500 : Thetas:  [[ 45434.46 -96197.51]] Cost:  1180467200.0\n",
      "Epoch  26000 : Thetas:  [[ 45434.46 -96197.51]] Cost:  1180467200.0\n",
      "Epoch  26500 : Thetas:  [[ 45434.46 -96197.51]] Cost:  1180467200.0\n",
      "Epoch  27000 : Thetas:  [[ 45434.46 -96197.51]] Cost:  1180467200.0\n",
      "Epoch  27500 : Thetas:  [[ 45434.46 -96197.51]] Cost:  1180467200.0\n",
      "Epoch  28000 : Thetas:  [[ 45434.46 -96197.51]] Cost:  1180467200.0\n",
      "Epoch  28500 : Thetas:  [[ 45434.46 -96197.51]] Cost:  1180467200.0\n",
      "Epoch  29000 : Thetas:  [[ 45434.46 -96197.51]] Cost:  1180467200.0\n",
      "Epoch  29500 : Thetas:  [[ 45434.46 -96197.51]] Cost:  1180467200.0\n",
      "Epoch  30000 : Thetas:  [[ 45434.46 -96197.51]] Cost:  1180467200.0\n",
      "Epoch  30500 : Thetas:  [[ 45434.46 -96197.51]] Cost:  1180467200.0\n",
      "Epoch  31000 : Thetas:  [[ 45434.46 -96197.51]] Cost:  1180467200.0\n",
      "Epoch  31500 : Thetas:  [[ 45434.46 -96197.51]] Cost:  1180467200.0\n",
      "Epoch  32000 : Thetas:  [[ 45434.46 -96197.51]] Cost:  1180467200.0\n",
      "Epoch  32500 : Thetas:  [[ 45434.46 -96197.51]] Cost:  1180467200.0\n",
      "Epoch  33000 : Thetas:  [[ 45434.46 -96197.51]] Cost:  1180467200.0\n",
      "Epoch  33500 : Thetas:  [[ 45434.46 -96197.51]] Cost:  1180467200.0\n",
      "Epoch  34000 : Thetas:  [[ 45434.46 -96197.51]] Cost:  1180467200.0\n",
      "Epoch  34500 : Thetas:  [[ 45434.46 -96197.51]] Cost:  1180467200.0\n",
      "Epoch  35000 : Thetas:  [[ 45434.46 -96197.51]] Cost:  1180467200.0\n",
      "Epoch  35500 : Thetas:  [[ 45434.46 -96197.51]] Cost:  1180467200.0\n",
      "Epoch  36000 : Thetas:  [[ 45434.46 -96197.51]] Cost:  1180467200.0\n",
      "Epoch  36500 : Thetas:  [[ 45434.46 -96197.51]] Cost:  1180467200.0\n",
      "Epoch  37000 : Thetas:  [[ 45434.46 -96197.51]] Cost:  1180467200.0\n",
      "Epoch  37500 : Thetas:  [[ 45434.46 -96197.51]] Cost:  1180467200.0\n",
      "Epoch  38000 : Thetas:  [[ 45434.46 -96197.51]] Cost:  1180467200.0\n",
      "Epoch  38500 : Thetas:  [[ 45434.46 -96197.51]] Cost:  1180467200.0\n",
      "Epoch  39000 : Thetas:  [[ 45434.46 -96197.51]] Cost:  1180467200.0\n",
      "Epoch  39500 : Thetas:  [[ 45434.46 -96197.51]] Cost:  1180467200.0\n",
      "Epoch  40000 : Thetas:  [[ 45434.46 -96197.51]] Cost:  1180467200.0\n",
      "Epoch  40500 : Thetas:  [[ 45434.46 -96197.51]] Cost:  1180467200.0\n",
      "Epoch  41000 : Thetas:  [[ 45434.46 -96197.51]] Cost:  1180467200.0\n",
      "Epoch  41500 : Thetas:  [[ 45434.46 -96197.51]] Cost:  1180467200.0\n",
      "Epoch  42000 : Thetas:  [[ 45434.46 -96197.51]] Cost:  1180467200.0\n",
      "Epoch  42500 : Thetas:  [[ 45434.46 -96197.51]] Cost:  1180467200.0\n",
      "Epoch  43000 : Thetas:  [[ 45434.46 -96197.51]] Cost:  1180467200.0\n",
      "Epoch  43500 : Thetas:  [[ 45434.46 -96197.51]] Cost:  1180467200.0\n",
      "Epoch  44000 : Thetas:  [[ 45434.46 -96197.51]] Cost:  1180467200.0\n",
      "Epoch  44500 : Thetas:  [[ 45434.46 -96197.51]] Cost:  1180467200.0\n",
      "Epoch  45000 : Thetas:  [[ 45434.46 -96197.51]] Cost:  1180467200.0\n",
      "Epoch  45500 : Thetas:  [[ 45434.46 -96197.51]] Cost:  1180467200.0\n",
      "Epoch  46000 : Thetas:  [[ 45434.46 -96197.51]] Cost:  1180467200.0\n",
      "Epoch  46500 : Thetas:  [[ 45434.46 -96197.51]] Cost:  1180467200.0\n",
      "Epoch  47000 : Thetas:  [[ 45434.46 -96197.51]] Cost:  1180467200.0\n",
      "Epoch  47500 : Thetas:  [[ 45434.46 -96197.51]] Cost:  1180467200.0\n",
      "Epoch  48000 : Thetas:  [[ 45434.46 -96197.51]] Cost:  1180467200.0\n",
      "Epoch  48500 : Thetas:  [[ 45434.46 -96197.51]] Cost:  1180467200.0\n",
      "Epoch  49000 : Thetas:  [[ 45434.46 -96197.51]] Cost:  1180467200.0\n",
      "Epoch  49500 : Thetas:  [[ 45434.46 -96197.51]] Cost:  1180467200.0\n",
      "Epoch  50000 : Thetas:  [[ 45434.46 -96197.51]] Cost:  1180467200.0\n",
      "Epoch  50500 : Thetas:  [[ 45434.46 -96197.51]] Cost:  1180467200.0\n",
      "Epoch  51000 : Thetas:  [[ 45434.46 -96197.51]] Cost:  1180467200.0\n",
      "Epoch  51500 : Thetas:  [[ 45434.46 -96197.51]] Cost:  1180467200.0\n",
      "Epoch  52000 : Thetas:  [[ 45434.46 -96197.51]] Cost:  1180467200.0\n",
      "Epoch  52500 : Thetas:  [[ 45434.46 -96197.51]] Cost:  1180467200.0\n",
      "Epoch  53000 : Thetas:  [[ 45434.46 -96197.51]] Cost:  1180467200.0\n",
      "Epoch  53500 : Thetas:  [[ 45434.46 -96197.51]] Cost:  1180467200.0\n",
      "Epoch  54000 : Thetas:  [[ 45434.46 -96197.51]] Cost:  1180467200.0\n",
      "Epoch  54500 : Thetas:  [[ 45434.46 -96197.51]] Cost:  1180467200.0\n",
      "Epoch  55000 : Thetas:  [[ 45434.46 -96197.51]] Cost:  1180467200.0\n",
      "Epoch  55500 : Thetas:  [[ 45434.46 -96197.51]] Cost:  1180467200.0\n",
      "Epoch  56000 : Thetas:  [[ 45434.46 -96197.51]] Cost:  1180467200.0\n",
      "Epoch  56500 : Thetas:  [[ 45434.46 -96197.51]] Cost:  1180467200.0\n",
      "Epoch  57000 : Thetas:  [[ 45434.46 -96197.51]] Cost:  1180467200.0\n",
      "Epoch  57500 : Thetas:  [[ 45434.46 -96197.51]] Cost:  1180467200.0\n",
      "Epoch  58000 : Thetas:  [[ 45434.46 -96197.51]] Cost:  1180467200.0\n",
      "Epoch  58500 : Thetas:  [[ 45434.46 -96197.51]] Cost:  1180467200.0\n",
      "Epoch  59000 : Thetas:  [[ 45434.46 -96197.51]] Cost:  1180467200.0\n",
      "Epoch  59500 : Thetas:  [[ 45434.46 -96197.51]] Cost:  1180467200.0\n",
      "Epoch  60000 : Thetas:  [[ 45434.46 -96197.51]] Cost:  1180467200.0\n",
      "Epoch  60500 : Thetas:  [[ 45434.46 -96197.51]] Cost:  1180467200.0\n",
      "Epoch  61000 : Thetas:  [[ 45434.46 -96197.51]] Cost:  1180467200.0\n",
      "Epoch  61500 : Thetas:  [[ 45434.46 -96197.51]] Cost:  1180467200.0\n",
      "Epoch  62000 : Thetas:  [[ 45434.46 -96197.51]] Cost:  1180467200.0\n",
      "Epoch  62500 : Thetas:  [[ 45434.46 -96197.51]] Cost:  1180467200.0\n",
      "Epoch  63000 : Thetas:  [[ 45434.46 -96197.51]] Cost:  1180467200.0\n",
      "Epoch  63500 : Thetas:  [[ 45434.46 -96197.51]] Cost:  1180467200.0\n",
      "Epoch  64000 : Thetas:  [[ 45434.46 -96197.51]] Cost:  1180467200.0\n",
      "Epoch  64500 : Thetas:  [[ 45434.46 -96197.51]] Cost:  1180467200.0\n",
      "Epoch  65000 : Thetas:  [[ 45434.46 -96197.51]] Cost:  1180467200.0\n",
      "Epoch  65500 : Thetas:  [[ 45434.46 -96197.51]] Cost:  1180467200.0\n",
      "Epoch  66000 : Thetas:  [[ 45434.46 -96197.51]] Cost:  1180467200.0\n",
      "Epoch  66500 : Thetas:  [[ 45434.46 -96197.51]] Cost:  1180467200.0\n",
      "Epoch  67000 : Thetas:  [[ 45434.46 -96197.51]] Cost:  1180467200.0\n",
      "Epoch  67500 : Thetas:  [[ 45434.46 -96197.51]] Cost:  1180467200.0\n",
      "Epoch  68000 : Thetas:  [[ 45434.46 -96197.51]] Cost:  1180467200.0\n",
      "Epoch  68500 : Thetas:  [[ 45434.46 -96197.51]] Cost:  1180467200.0\n",
      "Epoch  69000 : Thetas:  [[ 45434.46 -96197.51]] Cost:  1180467200.0\n",
      "Epoch  69500 : Thetas:  [[ 45434.46 -96197.51]] Cost:  1180467200.0\n",
      "Epoch  70000 : Thetas:  [[ 45434.46 -96197.51]] Cost:  1180467200.0\n",
      "Epoch  70500 : Thetas:  [[ 45434.46 -96197.51]] Cost:  1180467200.0\n",
      "Epoch  71000 : Thetas:  [[ 45434.46 -96197.51]] Cost:  1180467200.0\n",
      "Epoch  71500 : Thetas:  [[ 45434.46 -96197.51]] Cost:  1180467200.0\n",
      "Epoch  72000 : Thetas:  [[ 45434.46 -96197.51]] Cost:  1180467200.0\n",
      "Epoch  72500 : Thetas:  [[ 45434.46 -96197.51]] Cost:  1180467200.0\n",
      "Epoch  73000 : Thetas:  [[ 45434.46 -96197.51]] Cost:  1180467200.0\n",
      "Epoch  73500 : Thetas:  [[ 45434.46 -96197.51]] Cost:  1180467200.0\n",
      "Epoch  74000 : Thetas:  [[ 45434.46 -96197.51]] Cost:  1180467200.0\n",
      "Epoch  74500 : Thetas:  [[ 45434.46 -96197.51]] Cost:  1180467200.0\n",
      "Epoch  75000 : Thetas:  [[ 45434.46 -96197.51]] Cost:  1180467200.0\n",
      "Epoch  75500 : Thetas:  [[ 45434.46 -96197.51]] Cost:  1180467200.0\n",
      "Epoch  76000 : Thetas:  [[ 45434.46 -96197.51]] Cost:  1180467200.0\n",
      "Epoch  76500 : Thetas:  [[ 45434.46 -96197.51]] Cost:  1180467200.0\n",
      "Epoch  77000 : Thetas:  [[ 45434.46 -96197.51]] Cost:  1180467200.0\n",
      "Epoch  77500 : Thetas:  [[ 45434.46 -96197.51]] Cost:  1180467200.0\n",
      "Epoch  78000 : Thetas:  [[ 45434.46 -96197.51]] Cost:  1180467200.0\n",
      "Epoch  78500 : Thetas:  [[ 45434.46 -96197.51]] Cost:  1180467200.0\n",
      "Epoch  79000 : Thetas:  [[ 45434.46 -96197.51]] Cost:  1180467200.0\n",
      "Epoch  79500 : Thetas:  [[ 45434.46 -96197.51]] Cost:  1180467200.0\n",
      "Epoch  80000 : Thetas:  [[ 45434.46 -96197.51]] Cost:  1180467200.0\n",
      "Epoch  80500 : Thetas:  [[ 45434.46 -96197.51]] Cost:  1180467200.0\n",
      "Epoch  81000 : Thetas:  [[ 45434.46 -96197.51]] Cost:  1180467200.0\n",
      "Epoch  81500 : Thetas:  [[ 45434.46 -96197.51]] Cost:  1180467200.0\n",
      "Epoch  82000 : Thetas:  [[ 45434.46 -96197.51]] Cost:  1180467200.0\n",
      "Epoch  82500 : Thetas:  [[ 45434.46 -96197.51]] Cost:  1180467200.0\n",
      "Epoch  83000 : Thetas:  [[ 45434.46 -96197.51]] Cost:  1180467200.0\n",
      "Epoch  83500 : Thetas:  [[ 45434.46 -96197.51]] Cost:  1180467200.0\n",
      "Epoch  84000 : Thetas:  [[ 45434.46 -96197.51]] Cost:  1180467200.0\n",
      "Epoch  84500 : Thetas:  [[ 45434.46 -96197.51]] Cost:  1180467200.0\n",
      "Epoch  85000 : Thetas:  [[ 45434.46 -96197.51]] Cost:  1180467200.0\n",
      "Epoch  85500 : Thetas:  [[ 45434.46 -96197.51]] Cost:  1180467200.0\n",
      "Epoch  86000 : Thetas:  [[ 45434.46 -96197.51]] Cost:  1180467200.0\n",
      "Epoch  86500 : Thetas:  [[ 45434.46 -96197.51]] Cost:  1180467200.0\n",
      "Epoch  87000 : Thetas:  [[ 45434.46 -96197.51]] Cost:  1180467200.0\n",
      "Epoch  87500 : Thetas:  [[ 45434.46 -96197.51]] Cost:  1180467200.0\n",
      "Epoch  88000 : Thetas:  [[ 45434.46 -96197.51]] Cost:  1180467200.0\n",
      "Epoch  88500 : Thetas:  [[ 45434.46 -96197.51]] Cost:  1180467200.0\n",
      "Epoch  89000 : Thetas:  [[ 45434.46 -96197.51]] Cost:  1180467200.0\n",
      "Epoch  89500 : Thetas:  [[ 45434.46 -96197.51]] Cost:  1180467200.0\n",
      "Epoch  90000 : Thetas:  [[ 45434.46 -96197.51]] Cost:  1180467200.0\n",
      "Epoch  90500 : Thetas:  [[ 45434.46 -96197.51]] Cost:  1180467200.0\n",
      "Epoch  91000 : Thetas:  [[ 45434.46 -96197.51]] Cost:  1180467200.0\n",
      "Epoch  91500 : Thetas:  [[ 45434.46 -96197.51]] Cost:  1180467200.0\n",
      "Epoch  92000 : Thetas:  [[ 45434.46 -96197.51]] Cost:  1180467200.0\n",
      "Epoch  92500 : Thetas:  [[ 45434.46 -96197.51]] Cost:  1180467200.0\n",
      "Epoch  93000 : Thetas:  [[ 45434.46 -96197.51]] Cost:  1180467200.0\n",
      "Epoch  93500 : Thetas:  [[ 45434.46 -96197.51]] Cost:  1180467200.0\n",
      "Epoch  94000 : Thetas:  [[ 45434.46 -96197.51]] Cost:  1180467200.0\n",
      "Epoch  94500 : Thetas:  [[ 45434.46 -96197.51]] Cost:  1180467200.0\n",
      "Epoch  95000 : Thetas:  [[ 45434.46 -96197.51]] Cost:  1180467200.0\n",
      "Epoch  95500 : Thetas:  [[ 45434.46 -96197.51]] Cost:  1180467200.0\n",
      "Epoch  96000 : Thetas:  [[ 45434.46 -96197.51]] Cost:  1180467200.0\n",
      "Epoch  96500 : Thetas:  [[ 45434.46 -96197.51]] Cost:  1180467200.0\n",
      "Epoch  97000 : Thetas:  [[ 45434.46 -96197.51]] Cost:  1180467200.0\n",
      "Epoch  97500 : Thetas:  [[ 45434.46 -96197.51]] Cost:  1180467200.0\n",
      "Epoch  98000 : Thetas:  [[ 45434.46 -96197.51]] Cost:  1180467200.0\n",
      "Epoch  98500 : Thetas:  [[ 45434.46 -96197.51]] Cost:  1180467200.0\n",
      "Epoch  99000 : Thetas:  [[ 45434.46 -96197.51]] Cost:  1180467200.0\n",
      "Epoch  99500 : Thetas:  [[ 45434.46 -96197.51]] Cost:  1180467200.0\n",
      "Epoch  100000 : Thetas:  [[ 45434.46 -96197.51]] Cost:  1180467200.0\n"
     ]
    }
   ],
   "source": [
    "LinearTraining(x, y, 100000, 500, 0.01)\n",
    "#En este experimento empecé a notar la importancia de tensorboard \n",
    "#ya que graficamente podía ver la disminución del costo a comparación de los otros experimentos.\n",
    "#Con este set de datos ya no es tan relevante una gran cantidad de epochs\n",
    "#Los siguiente experimentos serán con 25,000 epochs en vez de los 100,000 de este"
   ]
  },
  {
   "cell_type": "code",
   "execution_count": 15,
   "metadata": {},
   "outputs": [
    {
     "name": "stdout",
     "output_type": "stream",
     "text": [
      "INFO:tensorflow:Graph was finalized.\n",
      "INFO:tensorflow:Running local_init_op.\n",
      "INFO:tensorflow:Done running local_init_op.\n",
      "Epoch  0 : Thetas:  [[59517.     9046.061]] Cost:  19519640000.0\n",
      "Epoch  500 : Thetas:  [[192722.73  -41986.625]] Cost:  472523100000.0\n",
      "Epoch  1000 : Thetas:  [[820070.7   34198.89]] Cost:  12280543000000.0\n",
      "Epoch  1500 : Thetas:  [[4006261.    525067.44]] Cost:  319915440000000.0\n",
      "Epoch  2000 : Thetas:  [[20264366.   3061457.5]] Cost:  8334672000000000.0\n",
      "Epoch  2500 : Thetas:  [[1.0324766e+08 1.6017145e+07]] Cost:  2.1714259e+17\n",
      "Epoch  3000 : Thetas:  [[5.2681338e+08 8.2148888e+07]] Cost:  5.657247e+18\n",
      "Epoch  3500 : Thetas:  [[2.6887859e+09 4.1970045e+08]] Cost:  1.4738875e+20\n",
      "Epoch  4000 : Thetas:  [[1.3723943e+10 2.1426307e+09]] Cost:  3.8399126e+21\n",
      "Epoch  4500 : Thetas:  [[7.004994e+10 1.093693e+10]] Cost:  1.0004176e+23\n",
      "Epoch  5000 : Thetas:  [[3.5755436e+11 5.5825400e+10]] Cost:  2.6064604e+24\n",
      "Epoch  5500 : Thetas:  [[1.8250524e+12 2.8494941e+11]] Cost:  6.790721e+25\n",
      "Epoch  6000 : Thetas:  [[9.3155880e+12 1.4544501e+12]] Cost:  1.7692418e+27\n",
      "Epoch  6500 : Thetas:  [[4.754876e+13 7.423834e+12]] Cost:  4.6093976e+28\n",
      "Epoch  7000 : Thetas:  [[2.4270186e+14 3.7893641e+13]] Cost:  1.2009179e+30\n",
      "Epoch  7500 : Thetas:  [[1.2388045e+15 1.9341585e+14]] Cost:  3.1287614e+31\n",
      "Epoch  8000 : Thetas:  [[6.3231164e+15 9.8723427e+14]] Cost:  8.151328e+32\n",
      "Epoch  8500 : Thetas:  [[3.2273765e+16 5.0389630e+15]] Cost:  2.1235693e+34\n",
      "Epoch  9000 : Thetas:  [[1.6473464e+17 2.5720261e+16]] Cost:  inf\n",
      "Epoch  9500 : Thetas:  [[8.4082994e+17 1.3127842e+17]] Cost:  inf\n",
      "Epoch  10000 : Thetas:  [[4.2917647e+18 6.7007324e+17]] Cost:  inf\n",
      "Epoch  10500 : Thetas:  [[2.1906014e+19 3.4202225e+18]] Cost:  inf\n",
      "Epoch  11000 : Thetas:  [[1.1181445e+20 1.7457868e+19]] Cost:  inf\n",
      "Epoch  11500 : Thetas:  [[5.7072524e+20 8.9107413e+19]] Cost:  inf\n",
      "Epoch  12000 : Thetas:  [[2.9131436e+21 4.5483154e+20]] Cost:  inf\n",
      "Epoch  12500 : Thetas:  [[1.4869384e+22 2.3215693e+21]] Cost:  inf\n",
      "Epoch  13000 : Thetas:  [[7.5895670e+22 1.1849616e+22]] Cost:  inf\n",
      "Epoch  13500 : Thetas:  [[3.873920e+23 6.048436e+22]] Cost:  inf\n",
      "Epoch  14000 : Thetas:  [[1.9773053e+24 3.0872057e+23]] Cost:  inf\n",
      "Epoch  14500 : Thetas:  [[1.0092602e+25 1.5757595e+24]] Cost:  inf\n",
      "Epoch  15000 : Thetas:  [[5.1514530e+25 8.0430237e+24]] Cost:  inf\n",
      "Epoch  15500 : Thetas:  [[2.6294347e+26 4.1053008e+25]] Cost:  inf\n",
      "Epoch  16000 : Thetas:  [[1.3421182e+27 2.0954667e+26]] Cost:  inf\n",
      "Epoch  16500 : Thetas:  [[6.850431e+27 1.069566e+27]] Cost:  inf\n",
      "Epoch  17000 : Thetas:  [[3.4966319e+28 5.4592989e+27]] Cost:  inf\n",
      "Epoch  17500 : Thetas:  [[1.7847750e+29 2.7866005e+28]] Cost:  inf\n",
      "Epoch  18000 : Thetas:  [[9.1098454e+29 1.4223369e+29]] Cost:  inf\n",
      "Epoch  18500 : Thetas:  [[4.6498563e+30 7.2598821e+29]] Cost:  inf\n",
      "Epoch  19000 : Thetas:  [[2.3734176e+31 3.7056133e+30]] Cost:  inf\n",
      "Epoch  19500 : Thetas:  [[1.2114543e+32 1.8914558e+31]] Cost:  inf\n",
      "Epoch  20000 : Thetas:  [[6.1834455e+32 9.6542475e+31]] Cost:  inf\n",
      "Epoch  20500 : Thetas:  [[3.1561591e+33 4.9277403e+32]] Cost:  inf\n",
      "Epoch  21000 : Thetas:  [[1.6109824e+34 2.5152444e+33]] Cost:  inf\n",
      "Epoch  21500 : Thetas:  [[8.2228246e+34 1.2838535e+34]] Cost:  inf\n",
      "Epoch  22000 : Thetas:  [[4.197163e+35 6.553086e+34]] Cost:  inf\n",
      "Epoch  22500 : Thetas:  [[2.1423398e+36 3.3448783e+35]] Cost:  inf\n",
      "Epoch  23000 : Thetas:  [[nan nan]] Cost:  nan\n",
      "Epoch  23500 : Thetas:  [[nan nan]] Cost:  nan\n",
      "Epoch  24000 : Thetas:  [[nan nan]] Cost:  nan\n",
      "Epoch  24500 : Thetas:  [[nan nan]] Cost:  nan\n",
      "Epoch  25000 : Thetas:  [[nan nan]] Cost:  nan\n"
     ]
    }
   ],
   "source": [
    "LinearTraining(x, y, 25000, 500, 0.05)\n",
    "#cambiando el learning rate de 0.01 a 0.05\n",
    "#diverge"
   ]
  },
  {
   "cell_type": "code",
   "execution_count": 16,
   "metadata": {},
   "outputs": [
    {
     "name": "stdout",
     "output_type": "stream",
     "text": [
      "INFO:tensorflow:Graph was finalized.\n",
      "INFO:tensorflow:Running local_init_op.\n",
      "INFO:tensorflow:Done running local_init_op.\n",
      "Epoch  0 : Thetas:  [[29758.5     4523.0303]] Cost:  19519640000.0\n",
      "Epoch  500 : Thetas:  [[ 36776.66  -40745.418]] Cost:  1255804900.0\n",
      "Epoch  1000 : Thetas:  [[ 40667.78 -65667.55]] Cost:  1203309600.0\n",
      "Epoch  1500 : Thetas:  [[ 42810.367 -79390.52 ]] Cost:  1187392900.0\n",
      "Epoch  2000 : Thetas:  [[ 43990.168 -86946.984]] Cost:  1182567400.0\n",
      "Epoch  2500 : Thetas:  [[ 44639.777 -91107.64 ]] Cost:  1181103700.0\n",
      "Epoch  3000 : Thetas:  [[ 44997.49  -93398.734]] Cost:  1180660200.0\n",
      "Epoch  3500 : Thetas:  [[ 45194.45 -94660.25]] Cost:  1180526000.0\n",
      "Epoch  4000 : Thetas:  [[ 45302.902 -95354.87 ]] Cost:  1180484700.0\n",
      "Epoch  4500 : Thetas:  [[ 45362.617 -95737.336]] Cost:  1180472400.0\n",
      "Epoch  5000 : Thetas:  [[ 45395.504 -95947.98 ]] Cost:  1180468900.0\n",
      "Epoch  5500 : Thetas:  [[ 45413.613 -96063.95 ]] Cost:  1180467500.0\n",
      "Epoch  6000 : Thetas:  [[ 45423.582 -96127.81 ]] Cost:  1180467700.0\n",
      "Epoch  6500 : Thetas:  [[ 45429.08 -96163.02]] Cost:  1180467600.0\n",
      "Epoch  7000 : Thetas:  [[ 45432.1  -96182.37]] Cost:  1180467100.0\n",
      "Epoch  7500 : Thetas:  [[ 45433.727 -96192.78 ]] Cost:  1180467300.0\n",
      "Epoch  8000 : Thetas:  [[ 45434.617 -96198.47 ]] Cost:  1180467100.0\n",
      "Epoch  8500 : Thetas:  [[ 45435.223 -96202.375]] Cost:  1180467000.0\n",
      "Epoch  9000 : Thetas:  [[ 45435.27 -96202.67]] Cost:  1180466800.0\n",
      "Epoch  9500 : Thetas:  [[ 45435.27 -96202.67]] Cost:  1180466800.0\n",
      "Epoch  10000 : Thetas:  [[ 45435.27 -96202.67]] Cost:  1180466800.0\n",
      "Epoch  10500 : Thetas:  [[ 45435.27 -96202.67]] Cost:  1180466800.0\n",
      "Epoch  11000 : Thetas:  [[ 45435.27 -96202.67]] Cost:  1180466800.0\n",
      "Epoch  11500 : Thetas:  [[ 45435.27 -96202.67]] Cost:  1180466800.0\n",
      "Epoch  12000 : Thetas:  [[ 45435.27 -96202.67]] Cost:  1180466800.0\n",
      "Epoch  12500 : Thetas:  [[ 45435.27 -96202.67]] Cost:  1180466800.0\n",
      "Epoch  13000 : Thetas:  [[ 45435.27 -96202.67]] Cost:  1180466800.0\n",
      "Epoch  13500 : Thetas:  [[ 45435.27 -96202.67]] Cost:  1180466800.0\n",
      "Epoch  14000 : Thetas:  [[ 45435.27 -96202.67]] Cost:  1180466800.0\n",
      "Epoch  14500 : Thetas:  [[ 45435.27 -96202.67]] Cost:  1180466800.0\n",
      "Epoch  15000 : Thetas:  [[ 45435.27 -96202.67]] Cost:  1180466800.0\n",
      "Epoch  15500 : Thetas:  [[ 45435.27 -96202.67]] Cost:  1180466800.0\n",
      "Epoch  16000 : Thetas:  [[ 45435.27 -96202.67]] Cost:  1180466800.0\n",
      "Epoch  16500 : Thetas:  [[ 45435.27 -96202.67]] Cost:  1180466800.0\n",
      "Epoch  17000 : Thetas:  [[ 45435.27 -96202.67]] Cost:  1180466800.0\n",
      "Epoch  17500 : Thetas:  [[ 45435.27 -96202.67]] Cost:  1180466800.0\n",
      "Epoch  18000 : Thetas:  [[ 45435.27 -96202.67]] Cost:  1180466800.0\n",
      "Epoch  18500 : Thetas:  [[ 45435.27 -96202.67]] Cost:  1180466800.0\n",
      "Epoch  19000 : Thetas:  [[ 45435.27 -96202.67]] Cost:  1180466800.0\n",
      "Epoch  19500 : Thetas:  [[ 45435.27 -96202.67]] Cost:  1180466800.0\n",
      "Epoch  20000 : Thetas:  [[ 45435.27 -96202.67]] Cost:  1180466800.0\n",
      "Epoch  20500 : Thetas:  [[ 45435.27 -96202.67]] Cost:  1180466800.0\n",
      "Epoch  21000 : Thetas:  [[ 45435.27 -96202.67]] Cost:  1180466800.0\n",
      "Epoch  21500 : Thetas:  [[ 45435.27 -96202.67]] Cost:  1180466800.0\n",
      "Epoch  22000 : Thetas:  [[ 45435.27 -96202.67]] Cost:  1180466800.0\n",
      "Epoch  22500 : Thetas:  [[ 45435.27 -96202.67]] Cost:  1180466800.0\n",
      "Epoch  23000 : Thetas:  [[ 45435.27 -96202.67]] Cost:  1180466800.0\n",
      "Epoch  23500 : Thetas:  [[ 45435.27 -96202.67]] Cost:  1180466800.0\n",
      "Epoch  24000 : Thetas:  [[ 45435.27 -96202.67]] Cost:  1180466800.0\n",
      "Epoch  24500 : Thetas:  [[ 45435.27 -96202.67]] Cost:  1180466800.0\n",
      "Epoch  25000 : Thetas:  [[ 45435.27 -96202.67]] Cost:  1180466800.0\n"
     ]
    }
   ],
   "source": [
    "LinearTraining(x, y, 25000, 500, 0.025)\n",
    "#El learning rate anterior se dividió a la mitad para comprobar el comportamiento\n",
    "#Encontró el minimo local entre el epoch 8500 y el 9000"
   ]
  },
  {
   "cell_type": "code",
   "execution_count": 17,
   "metadata": {},
   "outputs": [
    {
     "name": "stdout",
     "output_type": "stream",
     "text": [
      "INFO:tensorflow:Graph was finalized.\n",
      "INFO:tensorflow:Running local_init_op.\n",
      "INFO:tensorflow:Done running local_init_op.\n",
      "Epoch  0 : Thetas:  [[44637.75    6784.5454]] Cost:  19519640000.0\n",
      "Epoch  500 : Thetas:  [[ 39015.863 -55087.203]] Cost:  1221928400.0\n",
      "Epoch  1000 : Thetas:  [[ 42813.348 -79409.59 ]] Cost:  1187385300.0\n",
      "Epoch  1500 : Thetas:  [[ 44364.57  -89344.984]] Cost:  1181621600.0\n",
      "Epoch  2000 : Thetas:  [[ 44998.223 -93403.43 ]] Cost:  1180659600.0\n",
      "Epoch  2500 : Thetas:  [[ 45257.06 -95061.25]] Cost:  1180499500.0\n",
      "Epoch  3000 : Thetas:  [[ 45362.777 -95738.375]] Cost:  1180472300.0\n",
      "Epoch  3500 : Thetas:  [[ 45405.97  -96015.016]] Cost:  1180468000.0\n",
      "Epoch  4000 : Thetas:  [[ 45423.617 -96128.01 ]] Cost:  1180467300.0\n",
      "Epoch  4500 : Thetas:  [[ 45430.824 -96174.17 ]] Cost:  1180467500.0\n",
      "Epoch  5000 : Thetas:  [[ 45433.754 -96192.95 ]] Cost:  1180467100.0\n",
      "Epoch  5500 : Thetas:  [[ 45434.945 -96200.586]] Cost:  1180467200.0\n",
      "Epoch  6000 : Thetas:  [[ 45435.453 -96203.85 ]] Cost:  1180467000.0\n",
      "Epoch  6500 : Thetas:  [[ 45435.453 -96203.85 ]] Cost:  1180467000.0\n",
      "Epoch  7000 : Thetas:  [[ 45435.453 -96203.85 ]] Cost:  1180467000.0\n",
      "Epoch  7500 : Thetas:  [[ 45435.453 -96203.85 ]] Cost:  1180467000.0\n",
      "Epoch  8000 : Thetas:  [[ 45435.453 -96203.85 ]] Cost:  1180467000.0\n",
      "Epoch  8500 : Thetas:  [[ 45435.453 -96203.85 ]] Cost:  1180467000.0\n",
      "Epoch  9000 : Thetas:  [[ 45435.453 -96203.85 ]] Cost:  1180467000.0\n",
      "Epoch  9500 : Thetas:  [[ 45435.453 -96203.85 ]] Cost:  1180467000.0\n",
      "Epoch  10000 : Thetas:  [[ 45435.453 -96203.85 ]] Cost:  1180467000.0\n",
      "Epoch  10500 : Thetas:  [[ 45435.453 -96203.85 ]] Cost:  1180467000.0\n",
      "Epoch  11000 : Thetas:  [[ 45435.453 -96203.85 ]] Cost:  1180467000.0\n",
      "Epoch  11500 : Thetas:  [[ 45435.453 -96203.85 ]] Cost:  1180467000.0\n",
      "Epoch  12000 : Thetas:  [[ 45435.453 -96203.85 ]] Cost:  1180467000.0\n",
      "Epoch  12500 : Thetas:  [[ 45435.453 -96203.85 ]] Cost:  1180467000.0\n",
      "Epoch  13000 : Thetas:  [[ 45435.453 -96203.85 ]] Cost:  1180467000.0\n",
      "Epoch  13500 : Thetas:  [[ 45435.453 -96203.85 ]] Cost:  1180467000.0\n",
      "Epoch  14000 : Thetas:  [[ 45435.453 -96203.85 ]] Cost:  1180467000.0\n",
      "Epoch  14500 : Thetas:  [[ 45435.453 -96203.85 ]] Cost:  1180467000.0\n",
      "Epoch  15000 : Thetas:  [[ 45435.453 -96203.85 ]] Cost:  1180467000.0\n"
     ]
    }
   ],
   "source": [
    "LinearTraining(x, y, 15000, 500, 0.0375)\n",
    "#Se redujo la cantidad de epochs y cambió el learning rate\n",
    "#al punto medio entre 0.05 y 0.025\n",
    "#Encontró el minimo en el epoch 6000"
   ]
  },
  {
   "cell_type": "code",
   "execution_count": 18,
   "metadata": {},
   "outputs": [
    {
     "name": "stdout",
     "output_type": "stream",
     "text": [
      "INFO:tensorflow:Graph was finalized.\n",
      "INFO:tensorflow:Running local_init_op.\n",
      "INFO:tensorflow:Done running local_init_op.\n",
      "Epoch  0 : Thetas:  [[52077.375   7915.3027]] Cost:  19519640000.0\n",
      "Epoch  500 : Thetas:  [[ 39908.28  -60803.055]] Cost:  1211221200.0\n",
      "Epoch  1000 : Thetas:  [[ 43491.17  -83750.984]] Cost:  1184273300.0\n",
      "Epoch  1500 : Thetas:  [[ 44751.668 -91824.3  ]] Cost:  1180938100.0\n",
      "Epoch  2000 : Thetas:  [[ 45195.133 -94664.59 ]] Cost:  1180525400.0\n",
      "Epoch  2500 : Thetas:  [[ 45351.133 -95663.77 ]] Cost:  1180474000.0\n",
      "Epoch  3000 : Thetas:  [[ 45406.016 -96015.27 ]] Cost:  1180468200.0\n",
      "Epoch  3500 : Thetas:  [[ 45425.324 -96138.95 ]] Cost:  1180467200.0\n",
      "Epoch  4000 : Thetas:  [[ 45432.12 -96182.48]] Cost:  1180467100.0\n",
      "Epoch  4500 : Thetas:  [[ 45434.496 -96197.7  ]] Cost:  1180467300.0\n",
      "Epoch  5000 : Thetas:  [[ 45435.33 -96203.05]] Cost:  1180466800.0\n",
      "Epoch  5500 : Thetas:  [[ 45435.508 -96204.2  ]] Cost:  1180467000.0\n",
      "Epoch  6000 : Thetas:  [[ 45435.508 -96204.2  ]] Cost:  1180467000.0\n",
      "Epoch  6500 : Thetas:  [[ 45435.508 -96204.2  ]] Cost:  1180467000.0\n",
      "Epoch  7000 : Thetas:  [[ 45435.508 -96204.2  ]] Cost:  1180467000.0\n",
      "Epoch  7500 : Thetas:  [[ 45435.508 -96204.2  ]] Cost:  1180467000.0\n",
      "Epoch  8000 : Thetas:  [[ 45435.508 -96204.2  ]] Cost:  1180467000.0\n",
      "Epoch  8500 : Thetas:  [[ 45435.508 -96204.2  ]] Cost:  1180467000.0\n",
      "Epoch  9000 : Thetas:  [[ 45435.508 -96204.2  ]] Cost:  1180467000.0\n",
      "Epoch  9500 : Thetas:  [[ 45435.508 -96204.2  ]] Cost:  1180467000.0\n",
      "Epoch  10000 : Thetas:  [[ 45435.508 -96204.2  ]] Cost:  1180467000.0\n",
      "Epoch  10500 : Thetas:  [[ 45435.508 -96204.2  ]] Cost:  1180467000.0\n",
      "Epoch  11000 : Thetas:  [[ 45435.508 -96204.2  ]] Cost:  1180467000.0\n",
      "Epoch  11500 : Thetas:  [[ 45435.508 -96204.2  ]] Cost:  1180467000.0\n",
      "Epoch  12000 : Thetas:  [[ 45435.508 -96204.2  ]] Cost:  1180467000.0\n",
      "Epoch  12500 : Thetas:  [[ 45435.508 -96204.2  ]] Cost:  1180467000.0\n",
      "Epoch  13000 : Thetas:  [[ 45435.508 -96204.2  ]] Cost:  1180467000.0\n",
      "Epoch  13500 : Thetas:  [[ 45435.508 -96204.2  ]] Cost:  1180467000.0\n",
      "Epoch  14000 : Thetas:  [[ 45435.508 -96204.2  ]] Cost:  1180467000.0\n",
      "Epoch  14500 : Thetas:  [[ 45435.508 -96204.2  ]] Cost:  1180467000.0\n",
      "Epoch  15000 : Thetas:  [[ 45435.508 -96204.2  ]] Cost:  1180467000.0\n"
     ]
    }
   ],
   "source": [
    "LinearTraining(x, y, 15000, 500, 0.04375)\n",
    "#Learning rate entre 0.05 y 0.0375\n",
    "#Encontró el minimo en el epoch 5500"
   ]
  },
  {
   "cell_type": "code",
   "execution_count": 19,
   "metadata": {},
   "outputs": [
    {
     "name": "stdout",
     "output_type": "stream",
     "text": [
      "INFO:tensorflow:Graph was finalized.\n",
      "INFO:tensorflow:Running local_init_op.\n",
      "INFO:tensorflow:Done running local_init_op.\n",
      "Epoch  0 : Thetas:  [[53565.3     8141.4546]] Cost:  19519640000.0\n",
      "Epoch  500 : Thetas:  [[ 40071.332 -61847.33 ]] Cost:  1209437000.0\n",
      "Epoch  1000 : Thetas:  [[ 43604.094 -84474.25 ]] Cost:  1183844500.0\n",
      "Epoch  1500 : Thetas:  [[ 44810.36 -92200.21]] Cost:  1180860900.0\n",
      "Epoch  2000 : Thetas:  [[ 45222.24 -94838.25]] Cost:  1180513300.0\n",
      "Epoch  2500 : Thetas:  [[ 45362.87 -95738.99]] Cost:  1180472400.0\n",
      "Epoch  3000 : Thetas:  [[ 45410.902 -96046.59 ]] Cost:  1180467800.0\n",
      "Epoch  3500 : Thetas:  [[ 45427.3  -96151.61]] Cost:  1180467300.0\n",
      "Epoch  4000 : Thetas:  [[ 45432.9   -96187.484]] Cost:  1180467100.0\n",
      "Epoch  4500 : Thetas:  [[ 45434.8  -96199.66]] Cost:  1180467000.0\n",
      "Epoch  5000 : Thetas:  [[ 45435.49 -96204.08]] Cost:  1180466800.0\n",
      "Epoch  5500 : Thetas:  [[ 45435.508 -96204.2  ]] Cost:  1180467000.0\n",
      "Epoch  6000 : Thetas:  [[ 45435.508 -96204.2  ]] Cost:  1180467000.0\n",
      "Epoch  6500 : Thetas:  [[ 45435.508 -96204.2  ]] Cost:  1180467000.0\n",
      "Epoch  7000 : Thetas:  [[ 45435.508 -96204.2  ]] Cost:  1180467000.0\n",
      "Epoch  7500 : Thetas:  [[ 45435.508 -96204.2  ]] Cost:  1180467000.0\n",
      "Epoch  8000 : Thetas:  [[ 45435.508 -96204.2  ]] Cost:  1180467000.0\n",
      "Epoch  8500 : Thetas:  [[ 45435.508 -96204.2  ]] Cost:  1180467000.0\n",
      "Epoch  9000 : Thetas:  [[ 45435.508 -96204.2  ]] Cost:  1180467000.0\n",
      "Epoch  9500 : Thetas:  [[ 45435.508 -96204.2  ]] Cost:  1180467000.0\n",
      "Epoch  10000 : Thetas:  [[ 45435.508 -96204.2  ]] Cost:  1180467000.0\n",
      "Epoch  10500 : Thetas:  [[ 45435.508 -96204.2  ]] Cost:  1180467000.0\n",
      "Epoch  11000 : Thetas:  [[ 45435.508 -96204.2  ]] Cost:  1180467000.0\n",
      "Epoch  11500 : Thetas:  [[ 45435.508 -96204.2  ]] Cost:  1180467000.0\n",
      "Epoch  12000 : Thetas:  [[ 45435.508 -96204.2  ]] Cost:  1180467000.0\n",
      "Epoch  12500 : Thetas:  [[ 45435.508 -96204.2  ]] Cost:  1180467000.0\n",
      "Epoch  13000 : Thetas:  [[ 45435.508 -96204.2  ]] Cost:  1180467000.0\n",
      "Epoch  13500 : Thetas:  [[ 45435.508 -96204.2  ]] Cost:  1180467000.0\n",
      "Epoch  14000 : Thetas:  [[ 45435.508 -96204.2  ]] Cost:  1180467000.0\n",
      "Epoch  14500 : Thetas:  [[ 45435.508 -96204.2  ]] Cost:  1180467000.0\n",
      "Epoch  15000 : Thetas:  [[ 45435.508 -96204.2  ]] Cost:  1180467000.0\n"
     ]
    }
   ],
   "source": [
    "LinearTraining(x, y, 15000, 500, 0.045)\n",
    "#Último experimento donde se alcanza el minimo con 5500 epochs\n",
    "# y un learning rate de 0.045 (rango antes de alcanzar la divergencia)"
   ]
  },
  {
   "cell_type": "code",
   "execution_count": 10,
   "metadata": {},
   "outputs": [
    {
     "data": {
      "text/plain": [
       "Reusing TensorBoard on port 6006 (pid 10548), started 0:44:26 ago. (Use '!kill 10548' to kill it.)"
      ]
     },
     "metadata": {},
     "output_type": "display_data"
    },
    {
     "data": {
      "text/html": [
       "\n",
       "      <iframe id=\"tensorboard-frame-ecdbf0fa8685f876\" width=\"100%\" height=\"800\" frameborder=\"0\">\n",
       "      </iframe>\n",
       "      <script>\n",
       "        (function() {\n",
       "          const frame = document.getElementById(\"tensorboard-frame-ecdbf0fa8685f876\");\n",
       "          const url = new URL(\"/\", window.location);\n",
       "          url.port = 6006;\n",
       "          frame.src = url;\n",
       "        })();\n",
       "      </script>\n",
       "  "
      ],
      "text/plain": [
       "<IPython.core.display.HTML object>"
      ]
     },
     "metadata": {},
     "output_type": "display_data"
    }
   ],
   "source": [
    "%tensorboard --logdir logs"
   ]
  },
  {
   "cell_type": "markdown",
   "metadata": {},
   "source": [
    "## Conclusión\n",
    "Se determina que el mejor experimento es el que tenga un learning rate entre 0.04375 y 0.045 antes de alcanzar la divergencia en 0.05. \n",
    "<img src=\"images/costo.png\">"
   ]
  },
  {
   "cell_type": "code",
   "execution_count": null,
   "metadata": {},
   "outputs": [],
   "source": []
  }
 ],
 "metadata": {
  "kernelspec": {
   "display_name": "Python 3",
   "language": "python",
   "name": "python3"
  },
  "language_info": {
   "codemirror_mode": {
    "name": "ipython",
    "version": 3
   },
   "file_extension": ".py",
   "mimetype": "text/x-python",
   "name": "python",
   "nbconvert_exporter": "python",
   "pygments_lexer": "ipython3",
   "version": "3.7.6"
  }
 },
 "nbformat": 4,
 "nbformat_minor": 4
}
