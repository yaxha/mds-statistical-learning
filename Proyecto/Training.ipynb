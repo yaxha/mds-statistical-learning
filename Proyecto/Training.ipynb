{
 "cells": [
  {
   "cell_type": "markdown",
   "metadata": {},
   "source": [
    "# **Proyecto Statistical Learning**\n",
    "# Primera parte\n",
    "**José Barrios - 20007192** \n",
    "\n",
    "## Descripción general\n",
    "El proyecto consiste en hacer una  clasificación binaria para determinar si una persona sobrevive (y=1), o no (y=0), el hundimiento del Titanic.\n",
    "\n",
    "Se busca crear un modelo con una exactitud de al menos el 80%. \n",
    "\n",
    "El proyecto está dividido en dos partes. En esta primera parte nos enfocaremos en crear los modelos, evaluar su desempeño y guardarlos para ser posteriormente usados en otro notebook.\n",
    "\n",
    "En general, se hará _feature engineering_ y luego el entrenamiento de 4 modelos:\n",
    "* Árbol de decisión\n",
    "* Support Vector Machine\n",
    "* Naive Bayes\n",
    "* Regresión Logística\n",
    "Los resultados de estos modelos se combinarán y ayudarán a predecir la supervivencia de una persona en concenso.\n",
    "\n",
    "## Datos\n",
    "Obtenemos los datos para concer su estructura."
   ]
  },
  {
   "cell_type": "code",
   "execution_count": 277,
   "metadata": {},
   "outputs": [],
   "source": [
    "import tensorflow as tf\n",
    "import numpy as np\n",
    "import pandas as pd\n",
    "import matplotlib.pyplot as plt\n",
    "import sklearn as sk\n",
    "import sklearn.preprocessing as skp \n",
    "from sklearn import tree\n",
    "from sklearn import svm\n",
    "from sklearn.naive_bayes import GaussianNB\n",
    "from sklearn.metrics import accuracy_score\n",
    "import datetime"
   ]
  },
  {
   "cell_type": "code",
   "execution_count": 109,
   "metadata": {},
   "outputs": [
    {
     "name": "stdout",
     "output_type": "stream",
     "text": [
      "Enabled compatitility to tf1.x\n"
     ]
    }
   ],
   "source": [
    "if tf.__version__.startswith(\"2.\"):\n",
    "  import tensorflow.compat.v1 as tf\n",
    "  tf.compat.v1.disable_v2_behavior()\n",
    "  tf.compat.v1.disable_eager_execution()\n",
    "  print(\"Enabled compatitility to tf1.x\")"
   ]
  },
  {
   "cell_type": "code",
   "execution_count": 168,
   "metadata": {},
   "outputs": [],
   "source": [
    "%load_ext tensorboard"
   ]
  },
  {
   "cell_type": "code",
   "execution_count": 63,
   "metadata": {},
   "outputs": [
    {
     "data": {
      "text/html": [
       "<div>\n",
       "<style scoped>\n",
       "    .dataframe tbody tr th:only-of-type {\n",
       "        vertical-align: middle;\n",
       "    }\n",
       "\n",
       "    .dataframe tbody tr th {\n",
       "        vertical-align: top;\n",
       "    }\n",
       "\n",
       "    .dataframe thead th {\n",
       "        text-align: right;\n",
       "    }\n",
       "</style>\n",
       "<table border=\"1\" class=\"dataframe\">\n",
       "  <thead>\n",
       "    <tr style=\"text-align: right;\">\n",
       "      <th></th>\n",
       "      <th>PassengerId</th>\n",
       "      <th>Name</th>\n",
       "      <th>Age</th>\n",
       "      <th>SibSp</th>\n",
       "      <th>Parch</th>\n",
       "      <th>Ticket</th>\n",
       "      <th>Fare</th>\n",
       "      <th>Cabin</th>\n",
       "      <th>Embarked</th>\n",
       "      <th>passenger_class</th>\n",
       "      <th>passenger_sex</th>\n",
       "      <th>passenger_survived</th>\n",
       "    </tr>\n",
       "  </thead>\n",
       "  <tbody>\n",
       "    <tr>\n",
       "      <th>0</th>\n",
       "      <td>1</td>\n",
       "      <td>Braund, Mr. Owen Harris</td>\n",
       "      <td>22.0</td>\n",
       "      <td>1</td>\n",
       "      <td>0</td>\n",
       "      <td>A/5 21171</td>\n",
       "      <td>7.2500</td>\n",
       "      <td>NaN</td>\n",
       "      <td>S</td>\n",
       "      <td>Lower</td>\n",
       "      <td>M</td>\n",
       "      <td>N</td>\n",
       "    </tr>\n",
       "    <tr>\n",
       "      <th>1</th>\n",
       "      <td>2</td>\n",
       "      <td>Cumings, Mrs. John Bradley (Florence Briggs Th...</td>\n",
       "      <td>38.0</td>\n",
       "      <td>1</td>\n",
       "      <td>0</td>\n",
       "      <td>PC 17599</td>\n",
       "      <td>71.2833</td>\n",
       "      <td>C85</td>\n",
       "      <td>C</td>\n",
       "      <td>Upper</td>\n",
       "      <td>F</td>\n",
       "      <td>Y</td>\n",
       "    </tr>\n",
       "    <tr>\n",
       "      <th>2</th>\n",
       "      <td>3</td>\n",
       "      <td>Heikkinen, Miss. Laina</td>\n",
       "      <td>26.0</td>\n",
       "      <td>0</td>\n",
       "      <td>0</td>\n",
       "      <td>STON/O2. 3101282</td>\n",
       "      <td>7.9250</td>\n",
       "      <td>NaN</td>\n",
       "      <td>S</td>\n",
       "      <td>Lower</td>\n",
       "      <td>F</td>\n",
       "      <td>Y</td>\n",
       "    </tr>\n",
       "    <tr>\n",
       "      <th>3</th>\n",
       "      <td>4</td>\n",
       "      <td>Futrelle, Mrs. Jacques Heath (Lily May Peel)</td>\n",
       "      <td>35.0</td>\n",
       "      <td>1</td>\n",
       "      <td>0</td>\n",
       "      <td>113803</td>\n",
       "      <td>53.1000</td>\n",
       "      <td>C123</td>\n",
       "      <td>S</td>\n",
       "      <td>Upper</td>\n",
       "      <td>F</td>\n",
       "      <td>Y</td>\n",
       "    </tr>\n",
       "    <tr>\n",
       "      <th>4</th>\n",
       "      <td>5</td>\n",
       "      <td>Allen, Mr. William Henry</td>\n",
       "      <td>35.0</td>\n",
       "      <td>0</td>\n",
       "      <td>0</td>\n",
       "      <td>373450</td>\n",
       "      <td>8.0500</td>\n",
       "      <td>NaN</td>\n",
       "      <td>S</td>\n",
       "      <td>Lower</td>\n",
       "      <td>M</td>\n",
       "      <td>N</td>\n",
       "    </tr>\n",
       "  </tbody>\n",
       "</table>\n",
       "</div>"
      ],
      "text/plain": [
       "   PassengerId                                               Name   Age  \\\n",
       "0            1                            Braund, Mr. Owen Harris  22.0   \n",
       "1            2  Cumings, Mrs. John Bradley (Florence Briggs Th...  38.0   \n",
       "2            3                             Heikkinen, Miss. Laina  26.0   \n",
       "3            4       Futrelle, Mrs. Jacques Heath (Lily May Peel)  35.0   \n",
       "4            5                           Allen, Mr. William Henry  35.0   \n",
       "\n",
       "   SibSp  Parch            Ticket     Fare Cabin Embarked passenger_class  \\\n",
       "0      1      0         A/5 21171   7.2500   NaN        S           Lower   \n",
       "1      1      0          PC 17599  71.2833   C85        C           Upper   \n",
       "2      0      0  STON/O2. 3101282   7.9250   NaN        S           Lower   \n",
       "3      1      0            113803  53.1000  C123        S           Upper   \n",
       "4      0      0            373450   8.0500   NaN        S           Lower   \n",
       "\n",
       "  passenger_sex passenger_survived  \n",
       "0             M                  N  \n",
       "1             F                  Y  \n",
       "2             F                  Y  \n",
       "3             F                  Y  \n",
       "4             M                  N  "
      ]
     },
     "execution_count": 63,
     "metadata": {},
     "output_type": "execute_result"
    }
   ],
   "source": [
    "data = pd.read_csv('data_titanic_proyecto.csv')\n",
    "data.head()"
   ]
  },
  {
   "cell_type": "code",
   "execution_count": 75,
   "metadata": {},
   "outputs": [
    {
     "name": "stdout",
     "output_type": "stream",
     "text": [
      "<class 'pandas.core.frame.DataFrame'>\n",
      "RangeIndex: 891 entries, 0 to 890\n",
      "Data columns (total 14 columns):\n",
      "PassengerId     891 non-null int64\n",
      "Age             891 non-null float64\n",
      "SibSp           891 non-null int64\n",
      "Parch           891 non-null int64\n",
      "Fare            891 non-null float64\n",
      "Embarked_C      891 non-null uint8\n",
      "Embarked_Q      891 non-null uint8\n",
      "Embarked_S      891 non-null uint8\n",
      "Class_Lower     891 non-null uint8\n",
      "Class_Middle    891 non-null uint8\n",
      "Class_Upper     891 non-null uint8\n",
      "Sex_F           891 non-null uint8\n",
      "Sex_M           891 non-null uint8\n",
      "Survived        891 non-null int64\n",
      "dtypes: float64(2), int64(4), uint8(8)\n",
      "memory usage: 48.9 KB\n"
     ]
    }
   ],
   "source": [
    "data.info()"
   ]
  },
  {
   "cell_type": "markdown",
   "metadata": {},
   "source": [
    "Notamos que algunas columnas las podemos omitir para realizar nuestros análisis ya que se considera que no aportarán a los modelos:\n",
    "* Name\n",
    "* Ticket\n",
    "* Cabin\n",
    "\n",
    "Cabin tambien se eliminó porque tiene demasiados valores nulos cuando podemos obtener información de otras features."
   ]
  },
  {
   "cell_type": "code",
   "execution_count": 64,
   "metadata": {},
   "outputs": [
    {
     "data": {
      "text/html": [
       "<div>\n",
       "<style scoped>\n",
       "    .dataframe tbody tr th:only-of-type {\n",
       "        vertical-align: middle;\n",
       "    }\n",
       "\n",
       "    .dataframe tbody tr th {\n",
       "        vertical-align: top;\n",
       "    }\n",
       "\n",
       "    .dataframe thead th {\n",
       "        text-align: right;\n",
       "    }\n",
       "</style>\n",
       "<table border=\"1\" class=\"dataframe\">\n",
       "  <thead>\n",
       "    <tr style=\"text-align: right;\">\n",
       "      <th></th>\n",
       "      <th>PassengerId</th>\n",
       "      <th>Age</th>\n",
       "      <th>SibSp</th>\n",
       "      <th>Parch</th>\n",
       "      <th>Fare</th>\n",
       "      <th>Embarked</th>\n",
       "      <th>passenger_class</th>\n",
       "      <th>passenger_sex</th>\n",
       "      <th>passenger_survived</th>\n",
       "    </tr>\n",
       "  </thead>\n",
       "  <tbody>\n",
       "    <tr>\n",
       "      <th>0</th>\n",
       "      <td>1</td>\n",
       "      <td>22.0</td>\n",
       "      <td>1</td>\n",
       "      <td>0</td>\n",
       "      <td>7.2500</td>\n",
       "      <td>S</td>\n",
       "      <td>Lower</td>\n",
       "      <td>M</td>\n",
       "      <td>N</td>\n",
       "    </tr>\n",
       "    <tr>\n",
       "      <th>1</th>\n",
       "      <td>2</td>\n",
       "      <td>38.0</td>\n",
       "      <td>1</td>\n",
       "      <td>0</td>\n",
       "      <td>71.2833</td>\n",
       "      <td>C</td>\n",
       "      <td>Upper</td>\n",
       "      <td>F</td>\n",
       "      <td>Y</td>\n",
       "    </tr>\n",
       "    <tr>\n",
       "      <th>2</th>\n",
       "      <td>3</td>\n",
       "      <td>26.0</td>\n",
       "      <td>0</td>\n",
       "      <td>0</td>\n",
       "      <td>7.9250</td>\n",
       "      <td>S</td>\n",
       "      <td>Lower</td>\n",
       "      <td>F</td>\n",
       "      <td>Y</td>\n",
       "    </tr>\n",
       "    <tr>\n",
       "      <th>3</th>\n",
       "      <td>4</td>\n",
       "      <td>35.0</td>\n",
       "      <td>1</td>\n",
       "      <td>0</td>\n",
       "      <td>53.1000</td>\n",
       "      <td>S</td>\n",
       "      <td>Upper</td>\n",
       "      <td>F</td>\n",
       "      <td>Y</td>\n",
       "    </tr>\n",
       "    <tr>\n",
       "      <th>4</th>\n",
       "      <td>5</td>\n",
       "      <td>35.0</td>\n",
       "      <td>0</td>\n",
       "      <td>0</td>\n",
       "      <td>8.0500</td>\n",
       "      <td>S</td>\n",
       "      <td>Lower</td>\n",
       "      <td>M</td>\n",
       "      <td>N</td>\n",
       "    </tr>\n",
       "  </tbody>\n",
       "</table>\n",
       "</div>"
      ],
      "text/plain": [
       "   PassengerId   Age  SibSp  Parch     Fare Embarked passenger_class  \\\n",
       "0            1  22.0      1      0   7.2500        S           Lower   \n",
       "1            2  38.0      1      0  71.2833        C           Upper   \n",
       "2            3  26.0      0      0   7.9250        S           Lower   \n",
       "3            4  35.0      1      0  53.1000        S           Upper   \n",
       "4            5  35.0      0      0   8.0500        S           Lower   \n",
       "\n",
       "  passenger_sex passenger_survived  \n",
       "0             M                  N  \n",
       "1             F                  Y  \n",
       "2             F                  Y  \n",
       "3             F                  Y  \n",
       "4             M                  N  "
      ]
     },
     "execution_count": 64,
     "metadata": {},
     "output_type": "execute_result"
    }
   ],
   "source": [
    "data = data.drop(columns = [\"Name\", \"Ticket\", \"Cabin\"])\n",
    "data.head()"
   ]
  },
  {
   "cell_type": "markdown",
   "metadata": {},
   "source": [
    "Las edades nulas las reemplazamos con la media de la edad del dataset."
   ]
  },
  {
   "cell_type": "code",
   "execution_count": 73,
   "metadata": {},
   "outputs": [],
   "source": [
    "data[\"Age\"] = data[\"Age\"].fillna(data[\"Age\"].mean())"
   ]
  },
  {
   "cell_type": "markdown",
   "metadata": {},
   "source": [
    "Realizamos one-hot-encoding para las variables Embarked, Passenger class y Passenger sex"
   ]
  },
  {
   "cell_type": "code",
   "execution_count": 65,
   "metadata": {},
   "outputs": [
    {
     "data": {
      "text/html": [
       "<div>\n",
       "<style scoped>\n",
       "    .dataframe tbody tr th:only-of-type {\n",
       "        vertical-align: middle;\n",
       "    }\n",
       "\n",
       "    .dataframe tbody tr th {\n",
       "        vertical-align: top;\n",
       "    }\n",
       "\n",
       "    .dataframe thead th {\n",
       "        text-align: right;\n",
       "    }\n",
       "</style>\n",
       "<table border=\"1\" class=\"dataframe\">\n",
       "  <thead>\n",
       "    <tr style=\"text-align: right;\">\n",
       "      <th></th>\n",
       "      <th>PassengerId</th>\n",
       "      <th>Age</th>\n",
       "      <th>SibSp</th>\n",
       "      <th>Parch</th>\n",
       "      <th>Fare</th>\n",
       "      <th>passenger_survived</th>\n",
       "      <th>Embarked_C</th>\n",
       "      <th>Embarked_Q</th>\n",
       "      <th>Embarked_S</th>\n",
       "      <th>Class_Lower</th>\n",
       "      <th>Class_Middle</th>\n",
       "      <th>Class_Upper</th>\n",
       "      <th>Sex_F</th>\n",
       "      <th>Sex_M</th>\n",
       "    </tr>\n",
       "  </thead>\n",
       "  <tbody>\n",
       "    <tr>\n",
       "      <th>0</th>\n",
       "      <td>1</td>\n",
       "      <td>22.0</td>\n",
       "      <td>1</td>\n",
       "      <td>0</td>\n",
       "      <td>7.2500</td>\n",
       "      <td>N</td>\n",
       "      <td>0</td>\n",
       "      <td>0</td>\n",
       "      <td>1</td>\n",
       "      <td>1</td>\n",
       "      <td>0</td>\n",
       "      <td>0</td>\n",
       "      <td>0</td>\n",
       "      <td>1</td>\n",
       "    </tr>\n",
       "    <tr>\n",
       "      <th>1</th>\n",
       "      <td>2</td>\n",
       "      <td>38.0</td>\n",
       "      <td>1</td>\n",
       "      <td>0</td>\n",
       "      <td>71.2833</td>\n",
       "      <td>Y</td>\n",
       "      <td>1</td>\n",
       "      <td>0</td>\n",
       "      <td>0</td>\n",
       "      <td>0</td>\n",
       "      <td>0</td>\n",
       "      <td>1</td>\n",
       "      <td>1</td>\n",
       "      <td>0</td>\n",
       "    </tr>\n",
       "    <tr>\n",
       "      <th>2</th>\n",
       "      <td>3</td>\n",
       "      <td>26.0</td>\n",
       "      <td>0</td>\n",
       "      <td>0</td>\n",
       "      <td>7.9250</td>\n",
       "      <td>Y</td>\n",
       "      <td>0</td>\n",
       "      <td>0</td>\n",
       "      <td>1</td>\n",
       "      <td>1</td>\n",
       "      <td>0</td>\n",
       "      <td>0</td>\n",
       "      <td>1</td>\n",
       "      <td>0</td>\n",
       "    </tr>\n",
       "    <tr>\n",
       "      <th>3</th>\n",
       "      <td>4</td>\n",
       "      <td>35.0</td>\n",
       "      <td>1</td>\n",
       "      <td>0</td>\n",
       "      <td>53.1000</td>\n",
       "      <td>Y</td>\n",
       "      <td>0</td>\n",
       "      <td>0</td>\n",
       "      <td>1</td>\n",
       "      <td>0</td>\n",
       "      <td>0</td>\n",
       "      <td>1</td>\n",
       "      <td>1</td>\n",
       "      <td>0</td>\n",
       "    </tr>\n",
       "    <tr>\n",
       "      <th>4</th>\n",
       "      <td>5</td>\n",
       "      <td>35.0</td>\n",
       "      <td>0</td>\n",
       "      <td>0</td>\n",
       "      <td>8.0500</td>\n",
       "      <td>N</td>\n",
       "      <td>0</td>\n",
       "      <td>0</td>\n",
       "      <td>1</td>\n",
       "      <td>1</td>\n",
       "      <td>0</td>\n",
       "      <td>0</td>\n",
       "      <td>0</td>\n",
       "      <td>1</td>\n",
       "    </tr>\n",
       "  </tbody>\n",
       "</table>\n",
       "</div>"
      ],
      "text/plain": [
       "   PassengerId   Age  SibSp  Parch     Fare passenger_survived  Embarked_C  \\\n",
       "0            1  22.0      1      0   7.2500                  N           0   \n",
       "1            2  38.0      1      0  71.2833                  Y           1   \n",
       "2            3  26.0      0      0   7.9250                  Y           0   \n",
       "3            4  35.0      1      0  53.1000                  Y           0   \n",
       "4            5  35.0      0      0   8.0500                  N           0   \n",
       "\n",
       "   Embarked_Q  Embarked_S  Class_Lower  Class_Middle  Class_Upper  Sex_F  \\\n",
       "0           0           1            1             0            0      0   \n",
       "1           0           0            0             0            1      1   \n",
       "2           0           1            1             0            0      1   \n",
       "3           0           1            0             0            1      1   \n",
       "4           0           1            1             0            0      0   \n",
       "\n",
       "   Sex_M  \n",
       "0      1  \n",
       "1      0  \n",
       "2      0  \n",
       "3      0  \n",
       "4      1  "
      ]
     },
     "execution_count": 65,
     "metadata": {},
     "output_type": "execute_result"
    }
   ],
   "source": [
    "data = pd.concat([data, pd.get_dummies(data[\"Embarked\"], prefix = \"Embarked\")], axis = 1)\n",
    "data = pd.concat([data, pd.get_dummies(data[\"passenger_class\"], prefix = \"Class\")], axis = 1)\n",
    "data = pd.concat([data, pd.get_dummies(data[\"passenger_sex\"], prefix = \"Sex\")], axis = 1)\n",
    "\n",
    "data = data.drop(columns = [\"Embarked\", \"passenger_class\", \"passenger_sex\"])\n",
    "data.head()"
   ]
  },
  {
   "cell_type": "markdown",
   "metadata": {},
   "source": [
    "Convertimos passenger_survived a enteros donde Y = 1 y N = 0"
   ]
  },
  {
   "cell_type": "code",
   "execution_count": 66,
   "metadata": {},
   "outputs": [
    {
     "data": {
      "text/html": [
       "<div>\n",
       "<style scoped>\n",
       "    .dataframe tbody tr th:only-of-type {\n",
       "        vertical-align: middle;\n",
       "    }\n",
       "\n",
       "    .dataframe tbody tr th {\n",
       "        vertical-align: top;\n",
       "    }\n",
       "\n",
       "    .dataframe thead th {\n",
       "        text-align: right;\n",
       "    }\n",
       "</style>\n",
       "<table border=\"1\" class=\"dataframe\">\n",
       "  <thead>\n",
       "    <tr style=\"text-align: right;\">\n",
       "      <th></th>\n",
       "      <th>PassengerId</th>\n",
       "      <th>Age</th>\n",
       "      <th>SibSp</th>\n",
       "      <th>Parch</th>\n",
       "      <th>Fare</th>\n",
       "      <th>Embarked_C</th>\n",
       "      <th>Embarked_Q</th>\n",
       "      <th>Embarked_S</th>\n",
       "      <th>Class_Lower</th>\n",
       "      <th>Class_Middle</th>\n",
       "      <th>Class_Upper</th>\n",
       "      <th>Sex_F</th>\n",
       "      <th>Sex_M</th>\n",
       "      <th>Survived</th>\n",
       "    </tr>\n",
       "  </thead>\n",
       "  <tbody>\n",
       "    <tr>\n",
       "      <th>0</th>\n",
       "      <td>1</td>\n",
       "      <td>22.0</td>\n",
       "      <td>1</td>\n",
       "      <td>0</td>\n",
       "      <td>7.2500</td>\n",
       "      <td>0</td>\n",
       "      <td>0</td>\n",
       "      <td>1</td>\n",
       "      <td>1</td>\n",
       "      <td>0</td>\n",
       "      <td>0</td>\n",
       "      <td>0</td>\n",
       "      <td>1</td>\n",
       "      <td>0</td>\n",
       "    </tr>\n",
       "    <tr>\n",
       "      <th>1</th>\n",
       "      <td>2</td>\n",
       "      <td>38.0</td>\n",
       "      <td>1</td>\n",
       "      <td>0</td>\n",
       "      <td>71.2833</td>\n",
       "      <td>1</td>\n",
       "      <td>0</td>\n",
       "      <td>0</td>\n",
       "      <td>0</td>\n",
       "      <td>0</td>\n",
       "      <td>1</td>\n",
       "      <td>1</td>\n",
       "      <td>0</td>\n",
       "      <td>1</td>\n",
       "    </tr>\n",
       "    <tr>\n",
       "      <th>2</th>\n",
       "      <td>3</td>\n",
       "      <td>26.0</td>\n",
       "      <td>0</td>\n",
       "      <td>0</td>\n",
       "      <td>7.9250</td>\n",
       "      <td>0</td>\n",
       "      <td>0</td>\n",
       "      <td>1</td>\n",
       "      <td>1</td>\n",
       "      <td>0</td>\n",
       "      <td>0</td>\n",
       "      <td>1</td>\n",
       "      <td>0</td>\n",
       "      <td>1</td>\n",
       "    </tr>\n",
       "    <tr>\n",
       "      <th>3</th>\n",
       "      <td>4</td>\n",
       "      <td>35.0</td>\n",
       "      <td>1</td>\n",
       "      <td>0</td>\n",
       "      <td>53.1000</td>\n",
       "      <td>0</td>\n",
       "      <td>0</td>\n",
       "      <td>1</td>\n",
       "      <td>0</td>\n",
       "      <td>0</td>\n",
       "      <td>1</td>\n",
       "      <td>1</td>\n",
       "      <td>0</td>\n",
       "      <td>1</td>\n",
       "    </tr>\n",
       "    <tr>\n",
       "      <th>4</th>\n",
       "      <td>5</td>\n",
       "      <td>35.0</td>\n",
       "      <td>0</td>\n",
       "      <td>0</td>\n",
       "      <td>8.0500</td>\n",
       "      <td>0</td>\n",
       "      <td>0</td>\n",
       "      <td>1</td>\n",
       "      <td>1</td>\n",
       "      <td>0</td>\n",
       "      <td>0</td>\n",
       "      <td>0</td>\n",
       "      <td>1</td>\n",
       "      <td>0</td>\n",
       "    </tr>\n",
       "  </tbody>\n",
       "</table>\n",
       "</div>"
      ],
      "text/plain": [
       "   PassengerId   Age  SibSp  Parch     Fare  Embarked_C  Embarked_Q  \\\n",
       "0            1  22.0      1      0   7.2500           0           0   \n",
       "1            2  38.0      1      0  71.2833           1           0   \n",
       "2            3  26.0      0      0   7.9250           0           0   \n",
       "3            4  35.0      1      0  53.1000           0           0   \n",
       "4            5  35.0      0      0   8.0500           0           0   \n",
       "\n",
       "   Embarked_S  Class_Lower  Class_Middle  Class_Upper  Sex_F  Sex_M  Survived  \n",
       "0           1            1             0            0      0      1         0  \n",
       "1           0            0             0            1      1      0         1  \n",
       "2           1            1             0            0      1      0         1  \n",
       "3           1            0             0            1      1      0         1  \n",
       "4           1            1             0            0      0      1         0  "
      ]
     },
     "execution_count": 66,
     "metadata": {},
     "output_type": "execute_result"
    }
   ],
   "source": [
    "data[\"Survived\"] = 1\n",
    "data.loc[data[\"passenger_survived\"] == \"N\", \"Survived\"] = 0\n",
    "data = data.drop(columns = [\"passenger_survived\"])\n",
    "data.head()"
   ]
  },
  {
   "cell_type": "markdown",
   "metadata": {},
   "source": [
    "Aprovechamos Pandas para crear los datasets de entrenamiento, pruebas, y validación."
   ]
  },
  {
   "cell_type": "code",
   "execution_count": 76,
   "metadata": {},
   "outputs": [
    {
     "name": "stdout",
     "output_type": "stream",
     "text": [
      "(627, 14)\n",
      "(178, 14)\n",
      "(86, 14)\n"
     ]
    }
   ],
   "source": [
    "data_train = data.sample(frac = 0.8, random_state = 123) #random state es un random seed\n",
    "data_test = data.drop(data_train.index) #Data de testing\n",
    "data_cv = data_train.sample(frac = 0.12, random_state = 123) #Data de validación (12% del entrenamiento, aprox. 10% del set original)\n",
    "data_train = data_train.drop(data_cv.index) #Data entrenamiento final, ya sin la de testing ni cross-validation\n",
    "\n",
    "print(data_train.shape)\n",
    "print(data_test.shape)\n",
    "print(data_cv.shape)"
   ]
  },
  {
   "cell_type": "markdown",
   "metadata": {},
   "source": [
    "## Creación de modelos\n",
    "### Árbol de decisión\n",
    "Implementación de árbol de decisión con ScikitLearn. Se saca provecho de que los árboles de decisión necesitan poca feature engineering para realizar un entrenamiento, así que únicamente haremos uso de las librerías disponibles."
   ]
  },
  {
   "cell_type": "code",
   "execution_count": 243,
   "metadata": {},
   "outputs": [],
   "source": [
    "model_tree = tree.DecisionTreeClassifier()\n",
    "model_tree = model_tree.fit(skp.scale(data_train[[\"Age\", \"SibSp\", \"Parch\", \"Fare\", \"Embarked_C\", \"Embarked_Q\", \"Embarked_S\", \"Class_Lower\", \"Class_Middle\", \"Class_Upper\", \"Sex_F\", \"Sex_M\"]]), \n",
    "                            data_train[\"Survived\"])"
   ]
  },
  {
   "cell_type": "code",
   "execution_count": 244,
   "metadata": {},
   "outputs": [],
   "source": [
    "prediccion_tree = model_tree.predict(skp.scale(data_cv[[\"Age\", \"SibSp\", \"Parch\", \"Fare\", \"Embarked_C\", \"Embarked_Q\", \"Embarked_S\", \"Class_Lower\", \"Class_Middle\", \"Class_Upper\", \"Sex_F\", \"Sex_M\"]]))"
   ]
  },
  {
   "cell_type": "markdown",
   "metadata": {},
   "source": [
    "Se procede a almacenar el árbol para poder utilizarlo en otro proyecto."
   ]
  },
  {
   "cell_type": "code",
   "execution_count": 232,
   "metadata": {},
   "outputs": [],
   "source": [
    "tree.export_graphviz(model_tree, \n",
    "                     out_file = \"models/model_tree.dot\", \n",
    "                     feature_names = [\"Age\", \"SibSp\", \"Parch\", \"Fare\", \"Embarked_C\", \"Embarked_Q\", \"Embarked_S\", \"Class_Lower\", \"Class_Middle\", \"Class_Upper\", \"Sex_F\", \"Sex_M\"],\n",
    "                     filled=True, \n",
    "                     rounded=True,\n",
    "                     special_characters=True)"
   ]
  },
  {
   "cell_type": "markdown",
   "metadata": {},
   "source": [
    "Definimos una función que almacena los experimentos en una hoja de Excel"
   ]
  },
  {
   "cell_type": "code",
   "execution_count": null,
   "metadata": {},
   "outputs": [],
   "source": [
    "#from openpyxl import load_workbook\n",
    "#with pd.ExcelWriter('bitacora.xlsx', engine='openpyxl', mode='a') as writer:\n",
    "#    data_cv.to_excel(writer,sheet_name='Sheet1')\n",
    "#    writer.save()\n",
    "\n",
    "#writer.close()"
   ]
  },
  {
   "cell_type": "markdown",
   "metadata": {},
   "source": [
    "### Support Vector Machine (SVM)\n",
    "Es un método de aprendizaje supervizado que es especialmente últil, aunque no limitado, para:\n",
    "* Efetivo para espacios altamente dimensionales\n",
    "* Efectivo, en su mayoría, aunque el número de dimensiones es mayor al número de observaciones\n",
    "* Utiliza vectores de soporte, que son eficientes en el uso de memoria\n",
    "\n",
    "Este modelo también se implementará utilizando Scikitlearn."
   ]
  },
  {
   "cell_type": "code",
   "execution_count": 233,
   "metadata": {},
   "outputs": [],
   "source": [
    "model_svm = svm.SVC()\n",
    "model_svm = model_svm.fit(skp.scale(data_train[[\"Age\", \"SibSp\", \"Parch\", \"Fare\", \"Embarked_C\", \"Embarked_Q\", \"Embarked_S\", \"Class_Lower\", \"Class_Middle\", \"Class_Upper\", \"Sex_F\", \"Sex_M\"]]), \n",
    "                          data_train[\"Survived\"])\n"
   ]
  },
  {
   "cell_type": "code",
   "execution_count": 234,
   "metadata": {},
   "outputs": [],
   "source": [
    "prediccion_svm = model_svm.predict(skp.scale(data_cv[[\"Age\", \"SibSp\", \"Parch\", \"Fare\", \"Embarked_C\", \"Embarked_Q\", \"Embarked_S\", \"Class_Lower\", \"Class_Middle\", \"Class_Upper\", \"Sex_F\", \"Sex_M\"]]))"
   ]
  },
  {
   "cell_type": "markdown",
   "metadata": {},
   "source": [
    "Se almacena el modelo SVM para su posterior uso en otro proyecto."
   ]
  },
  {
   "cell_type": "code",
   "execution_count": null,
   "metadata": {},
   "outputs": [],
   "source": []
  },
  {
   "cell_type": "markdown",
   "metadata": {},
   "source": [
    "### Naive Bayes\n",
    "Implementación de Bayes con Pandas. "
   ]
  },
  {
   "cell_type": "code",
   "execution_count": 236,
   "metadata": {},
   "outputs": [],
   "source": [
    "model_bayes = GaussianNB()\n",
    "model_bayes = model_bayes.fit(skp.scale(data_train[[\"Age\", \"SibSp\", \"Parch\", \"Fare\", \"Embarked_C\", \"Embarked_Q\", \"Embarked_S\", \"Class_Lower\", \"Class_Middle\", \"Class_Upper\", \"Sex_F\", \"Sex_M\"]]), \n",
    "                              data_train[\"Survived\"])"
   ]
  },
  {
   "cell_type": "code",
   "execution_count": 239,
   "metadata": {},
   "outputs": [],
   "source": [
    "prediccion_bayes = model_bayes.predict(skp.scale(data_cv[[\"Age\", \"SibSp\", \"Parch\", \"Fare\", \"Embarked_C\", \"Embarked_Q\", \"Embarked_S\", \"Class_Lower\", \"Class_Middle\", \"Class_Upper\", \"Sex_F\", \"Sex_M\"]]))"
   ]
  },
  {
   "cell_type": "markdown",
   "metadata": {},
   "source": [
    "Almacenamos los parámetros del modelo para su posterior uso en otro proyecto."
   ]
  },
  {
   "cell_type": "code",
   "execution_count": null,
   "metadata": {},
   "outputs": [],
   "source": []
  },
  {
   "cell_type": "markdown",
   "metadata": {},
   "source": [
    "### Regresión Logística\n",
    "Implementación con TensorFlow para un algoritmo con regresión logística usando la función Sigmoid con regularización tipo Lasso.\n",
    "\n",
    "Obtenemos un grafo de la forma:\n",
    "\n",
    "<img src=\"images/SigmoidGraph.png\">"
   ]
  },
  {
   "cell_type": "code",
   "execution_count": 169,
   "metadata": {},
   "outputs": [],
   "source": [
    "class SigmoidClasification:\n",
    "    def __init__(self, features):\n",
    "        self.theta = tf.get_variable(shape = [features, 1], \n",
    "                                 dtype = tf.float32, \n",
    "                                 initializer = tf.zeros_initializer(),\n",
    "                                 name = \"theta\")\n",
    "    \n",
    "    def logits(self, x):\n",
    "        return tf.matmul(x, self.theta)\n",
    "    \n",
    "    def prediction(self, x):\n",
    "        return tf.math.sigmoid(self.logits(x))\n",
    "    \n",
    "    def accuracy(self, predictions, labels):\n",
    "        _, accuracy = tf.metrics.accuracy(labels = tf.argmax(labels, 1),\n",
    "                                          predictions = tf.argmax(predictions, 1))\n",
    "        return accuracy\n",
    "    \n",
    "    def update(self, x_train, labels_train, learning_rate):\n",
    "        with tf.name_scope(\"cross_entropy\"):\n",
    "            train_error = tf.reduce_mean(tf.nn.sigmoid_cross_entropy_with_logits(labels = labels_train, \n",
    "                                                                                 logits = self.logits(x_train)))\n",
    "            train_error_summary = tf.summary.scalar(\"train_error\", train_error)\n",
    "            \n",
    "        with tf.name_scope(\"update\"):\n",
    "            gradient = tf.gradients(train_error, [self.theta])\n",
    "            theta_new = tf.assign(self.theta, self.theta - learning_rate * gradient[0])\n",
    "            \n",
    "        return theta_new, train_error, train_error_summary"
   ]
  },
  {
   "cell_type": "code",
   "execution_count": 170,
   "metadata": {},
   "outputs": [],
   "source": [
    "def training(learning_rate, epochs, imprimir_error_cada, x_train, labels_train, batch_size = 32):\n",
    "    log = './logs/'+ datetime.datetime.now().strftime(\"%Y%m%d-%H%M%S\") + \"_lr=\" +str(learning_rate) + \"_epochs=\" + str(epochs)\n",
    "    g = tf.Graph()\n",
    "    \n",
    "    with g.as_default():\n",
    "        modelo = SigmoidClasification(x_train.shape[1])\n",
    "        \n",
    "        with tf.name_scope(\"train_tensor\"):\n",
    "            tensor_x_train = tf.placeholder(tf.float32, [None, x_train.shape[1]], \"tensor_x_train\")\n",
    "            tensor_labels_train = tf.placeholder(tf.float32, [None, 1], \"tensor_labels_train\")\n",
    "        \n",
    "        update_parameters = modelo.update(tensor_x_train, tensor_labels_train, learning_rate)\n",
    "        writer = tf.summary.FileWriter(log, g)\n",
    "        \n",
    "        total_steps = int((labels_train.shape[0] / batch_size) * epochs)  \n",
    "        \n",
    "        with tf.train.MonitoredSession() as session:\n",
    "            for i in range(total_steps + 1):\n",
    "                offset = (i * batch_size) % (x_train.shape[0] - batch_size)\n",
    "                \n",
    "                batch_data = x_train[offset : (offset + batch_size),]\n",
    "                batch_labels = labels_train[offset : (offset + batch_size)]\n",
    "                \n",
    "                parameters_dict = {tensor_x_train: batch_data,\n",
    "                                   tensor_labels_train: batch_labels}\n",
    "                training = session.run(update_parameters, feed_dict = parameters_dict)\n",
    "                \n",
    "                if (i % imprimir_error_cada == 0):\n",
    "                    theta = session.run(modelo.theta, feed_dict = parameters_dict)\n",
    "                    #print(\"Epoch \", (i % labels_train.shape[0]) + 1 , \": Pesos: \", theta, \"Cost: \", training[1])\n",
    "                    writer.add_summary(training[2], i)\n",
    "            \n",
    "            return theta\n",
    "\n",
    "            writer.close()"
   ]
  },
  {
   "cell_type": "code",
   "execution_count": 189,
   "metadata": {},
   "outputs": [
    {
     "name": "stderr",
     "output_type": "stream",
     "text": [
      "D:\\Programs\\Anaconda\\envs\\clase22\\lib\\site-packages\\ipykernel_launcher.py:3: SettingWithCopyWarning: \n",
      "A value is trying to be set on a copy of a slice from a DataFrame.\n",
      "Try using .loc[row_indexer,col_indexer] = value instead\n",
      "\n",
      "See the caveats in the documentation: http://pandas.pydata.org/pandas-docs/stable/user_guide/indexing.html#returning-a-view-versus-a-copy\n",
      "  This is separate from the ipykernel package so we can avoid doing imports until\n"
     ]
    },
    {
     "data": {
      "text/plain": [
       "(627, 13)"
      ]
     },
     "execution_count": 189,
     "metadata": {},
     "output_type": "execute_result"
    }
   ],
   "source": [
    "y = data_train[[\"Survived\"]].to_numpy()\n",
    "x = data_train[[\"Age\", \"SibSp\", \"Parch\", \"Fare\", \"Embarked_C\", \"Embarked_Q\", \"Embarked_S\", \"Class_Lower\", \"Class_Middle\", \"Class_Upper\", \"Sex_F\", \"Sex_M\"]]\n",
    "x[\"Bias\"] = 1\n",
    "x = skp.scale(x)\n",
    "x.shape"
   ]
  },
  {
   "cell_type": "code",
   "execution_count": 190,
   "metadata": {},
   "outputs": [
    {
     "name": "stdout",
     "output_type": "stream",
     "text": [
      "INFO:tensorflow:Graph was finalized.\n",
      "INFO:tensorflow:Running local_init_op.\n",
      "INFO:tensorflow:Done running local_init_op.\n"
     ]
    }
   ],
   "source": [
    "theta = training(0.01, 50, 5, x, y)"
   ]
  },
  {
   "cell_type": "markdown",
   "metadata": {},
   "source": [
    "Durante el entrenamiento, los experimentos con features escalados generaban menor error de entrenamiento y podemos notarlo en la diferencia de escala en esta gráfica donde las lineas superiores son la data cruda y las inferiores son con datos escalados.\n",
    "\n",
    "<img src=\"images/SigmoidTrainingAll.png\">\n",
    "\n",
    "Ahora se muestran los errores de los entrenamientos de datos escalados.\n",
    "\n",
    "<img src=\"images/SigmoidTrainingScaled.png\">\n"
   ]
  },
  {
   "cell_type": "code",
   "execution_count": 173,
   "metadata": {},
   "outputs": [
    {
     "data": {
      "text/plain": [
       "Reusing TensorBoard on port 6006 (pid 8744), started 0:00:59 ago. (Use '!kill 8744' to kill it.)"
      ]
     },
     "metadata": {},
     "output_type": "display_data"
    },
    {
     "data": {
      "text/html": [
       "\n",
       "      <iframe id=\"tensorboard-frame-548790cf50c77b58\" width=\"100%\" height=\"800\" frameborder=\"0\">\n",
       "      </iframe>\n",
       "      <script>\n",
       "        (function() {\n",
       "          const frame = document.getElementById(\"tensorboard-frame-548790cf50c77b58\");\n",
       "          const url = new URL(\"/\", window.location);\n",
       "          url.port = 6006;\n",
       "          frame.src = url;\n",
       "        })();\n",
       "      </script>\n",
       "  "
      ],
      "text/plain": [
       "<IPython.core.display.HTML object>"
      ]
     },
     "metadata": {},
     "output_type": "display_data"
    }
   ],
   "source": [
    "%tensorboard --logdir logs"
   ]
  },
  {
   "cell_type": "markdown",
   "metadata": {},
   "source": [
    "Creamos una clase que reciba los pesos y arme un modelo de regresión logística con ellos.\n",
    "\n",
    "Para esta clase asumimos que el orden las features viene del siguiente modo:\n",
    "1. Age\n",
    "2. SibSp\n",
    "3. Parch\n",
    "4. Fare\n",
    "5. Embarked_C\n",
    "6. Embarked_Q\n",
    "7. Embarked_S\n",
    "8. Class_Lower\n",
    "9. Class_Middle\n",
    "10. Class_Upper\n",
    "11. Sex_F\n",
    "12. Sex_M\n",
    "13. Bias\n",
    "\n"
   ]
  },
  {
   "cell_type": "code",
   "execution_count": 191,
   "metadata": {},
   "outputs": [],
   "source": [
    "class SigmoidModel:\n",
    "    def __init__(self, theta):\n",
    "        self.theta = theta\n",
    "    \n",
    "    def logits(self, x):\n",
    "        return tf.matmul(x, self.theta)\n",
    "    \n",
    "    def prediction(self, x):\n",
    "        return tf.math.sigmoid(self.logits(x))\n",
    "    \n",
    "    def accuracy(self, predictions, labels):\n",
    "        _, accuracy = tf.metrics.accuracy(labels = tf.argmax(labels, 1),\n",
    "                                          predictions = tf.argmax(predictions, 1))\n",
    "        return accuracy"
   ]
  },
  {
   "cell_type": "code",
   "execution_count": 216,
   "metadata": {},
   "outputs": [],
   "source": [
    "def Sigmoidprediction(theta, x):\n",
    "    g = tf.Graph()\n",
    "    \n",
    "    with g.as_default():\n",
    "        modelo = SigmoidModel(theta)\n",
    "        \n",
    "        tensor_x = tf.placeholder(tf.float32, [None, x.shape[1]], \"tensor_x\")\n",
    "        prediction = modelo.prediction(tensor_x)\n",
    "        \n",
    "        with tf.train.MonitoredSession() as session:\n",
    "            parameters_dict = {tensor_x: x}\n",
    "            data = session.run(prediction, feed_dict = parameters_dict)\n",
    "            result = np.where(data < 0.5, 0, 1) \n",
    "            result = result.reshape(-1, )\n",
    "            return result"
   ]
  },
  {
   "cell_type": "code",
   "execution_count": 193,
   "metadata": {},
   "outputs": [
    {
     "name": "stderr",
     "output_type": "stream",
     "text": [
      "D:\\Programs\\Anaconda\\envs\\clase22\\lib\\site-packages\\ipykernel_launcher.py:2: SettingWithCopyWarning: \n",
      "A value is trying to be set on a copy of a slice from a DataFrame.\n",
      "Try using .loc[row_indexer,col_indexer] = value instead\n",
      "\n",
      "See the caveats in the documentation: http://pandas.pydata.org/pandas-docs/stable/user_guide/indexing.html#returning-a-view-versus-a-copy\n",
      "  \n"
     ]
    },
    {
     "data": {
      "text/plain": [
       "(86, 13)"
      ]
     },
     "execution_count": 193,
     "metadata": {},
     "output_type": "execute_result"
    }
   ],
   "source": [
    "x_cv = data_cv[[\"Age\", \"SibSp\", \"Parch\", \"Fare\", \"Embarked_C\", \"Embarked_Q\", \"Embarked_S\", \"Class_Lower\", \"Class_Middle\", \"Class_Upper\", \"Sex_F\", \"Sex_M\"]]\n",
    "x_cv[\"Bias\"] = 1\n",
    "x_cv = skp.scale(x_cv)\n",
    "x_cv.shape"
   ]
  },
  {
   "cell_type": "code",
   "execution_count": 217,
   "metadata": {},
   "outputs": [
    {
     "name": "stdout",
     "output_type": "stream",
     "text": [
      "INFO:tensorflow:Graph was finalized.\n",
      "INFO:tensorflow:Running local_init_op.\n",
      "INFO:tensorflow:Done running local_init_op.\n"
     ]
    }
   ],
   "source": [
    "prediccion_sigmoid = Sigmoidprediction(theta, x_cv)"
   ]
  },
  {
   "cell_type": "markdown",
   "metadata": {},
   "source": [
    "## Ensemble Learning\n",
    "Ya tenemos resultados de los 4 modelos, así que con la data de validación creamos un reporte para determinar la exactitud de las predicciones en concenso.\n",
    "\n",
    "Primero se fusionan los resultados en un solo."
   ]
  },
  {
   "cell_type": "code",
   "execution_count": 273,
   "metadata": {},
   "outputs": [
    {
     "data": {
      "text/html": [
       "<div>\n",
       "<style scoped>\n",
       "    .dataframe tbody tr th:only-of-type {\n",
       "        vertical-align: middle;\n",
       "    }\n",
       "\n",
       "    .dataframe tbody tr th {\n",
       "        vertical-align: top;\n",
       "    }\n",
       "\n",
       "    .dataframe thead th {\n",
       "        text-align: right;\n",
       "    }\n",
       "</style>\n",
       "<table border=\"1\" class=\"dataframe\">\n",
       "  <thead>\n",
       "    <tr style=\"text-align: right;\">\n",
       "      <th></th>\n",
       "      <th>Tree</th>\n",
       "      <th>SVM</th>\n",
       "      <th>Bayes</th>\n",
       "      <th>Sigmoid</th>\n",
       "    </tr>\n",
       "  </thead>\n",
       "  <tbody>\n",
       "    <tr>\n",
       "      <th>0</th>\n",
       "      <td>1</td>\n",
       "      <td>1</td>\n",
       "      <td>1</td>\n",
       "      <td>1</td>\n",
       "    </tr>\n",
       "    <tr>\n",
       "      <th>1</th>\n",
       "      <td>0</td>\n",
       "      <td>0</td>\n",
       "      <td>0</td>\n",
       "      <td>0</td>\n",
       "    </tr>\n",
       "    <tr>\n",
       "      <th>2</th>\n",
       "      <td>1</td>\n",
       "      <td>1</td>\n",
       "      <td>1</td>\n",
       "      <td>1</td>\n",
       "    </tr>\n",
       "    <tr>\n",
       "      <th>3</th>\n",
       "      <td>0</td>\n",
       "      <td>1</td>\n",
       "      <td>1</td>\n",
       "      <td>1</td>\n",
       "    </tr>\n",
       "    <tr>\n",
       "      <th>4</th>\n",
       "      <td>0</td>\n",
       "      <td>0</td>\n",
       "      <td>0</td>\n",
       "      <td>1</td>\n",
       "    </tr>\n",
       "  </tbody>\n",
       "</table>\n",
       "</div>"
      ],
      "text/plain": [
       "   Tree  SVM  Bayes  Sigmoid\n",
       "0     1    1      1        1\n",
       "1     0    0      0        0\n",
       "2     1    1      1        1\n",
       "3     0    1      1        1\n",
       "4     0    0      0        1"
      ]
     },
     "execution_count": 273,
     "metadata": {},
     "output_type": "execute_result"
    }
   ],
   "source": [
    "resultados = pd.DataFrame({\n",
    "    #\"PassengerId\": data_cv[\"PassengerId\"], \n",
    "    \"Tree\": prediccion_tree, \n",
    "    \"SVM\": prediccion_svm, \n",
    "    \"Bayes\": prediccion_bayes, \n",
    "    \"Sigmoid\": prediccion_sigmoid})\n",
    "resultados.head()"
   ]
  },
  {
   "cell_type": "markdown",
   "metadata": {},
   "source": [
    "Usaremos el promedio de la suma de los resultados y si es mayor a 0.5, se dirá que sobrevivió."
   ]
  },
  {
   "cell_type": "code",
   "execution_count": 276,
   "metadata": {},
   "outputs": [
    {
     "data": {
      "text/html": [
       "<div>\n",
       "<style scoped>\n",
       "    .dataframe tbody tr th:only-of-type {\n",
       "        vertical-align: middle;\n",
       "    }\n",
       "\n",
       "    .dataframe tbody tr th {\n",
       "        vertical-align: top;\n",
       "    }\n",
       "\n",
       "    .dataframe thead th {\n",
       "        text-align: right;\n",
       "    }\n",
       "</style>\n",
       "<table border=\"1\" class=\"dataframe\">\n",
       "  <thead>\n",
       "    <tr style=\"text-align: right;\">\n",
       "      <th></th>\n",
       "      <th>Tree</th>\n",
       "      <th>SVM</th>\n",
       "      <th>Bayes</th>\n",
       "      <th>Sigmoid</th>\n",
       "      <th>Predicted</th>\n",
       "      <th>Real</th>\n",
       "    </tr>\n",
       "  </thead>\n",
       "  <tbody>\n",
       "    <tr>\n",
       "      <th>0</th>\n",
       "      <td>1</td>\n",
       "      <td>1</td>\n",
       "      <td>1</td>\n",
       "      <td>1</td>\n",
       "      <td>1</td>\n",
       "      <td>1</td>\n",
       "    </tr>\n",
       "    <tr>\n",
       "      <th>1</th>\n",
       "      <td>0</td>\n",
       "      <td>0</td>\n",
       "      <td>0</td>\n",
       "      <td>0</td>\n",
       "      <td>0</td>\n",
       "      <td>0</td>\n",
       "    </tr>\n",
       "    <tr>\n",
       "      <th>2</th>\n",
       "      <td>1</td>\n",
       "      <td>1</td>\n",
       "      <td>1</td>\n",
       "      <td>1</td>\n",
       "      <td>1</td>\n",
       "      <td>1</td>\n",
       "    </tr>\n",
       "    <tr>\n",
       "      <th>3</th>\n",
       "      <td>0</td>\n",
       "      <td>1</td>\n",
       "      <td>1</td>\n",
       "      <td>1</td>\n",
       "      <td>1</td>\n",
       "      <td>1</td>\n",
       "    </tr>\n",
       "    <tr>\n",
       "      <th>4</th>\n",
       "      <td>0</td>\n",
       "      <td>0</td>\n",
       "      <td>0</td>\n",
       "      <td>1</td>\n",
       "      <td>0</td>\n",
       "      <td>0</td>\n",
       "    </tr>\n",
       "  </tbody>\n",
       "</table>\n",
       "</div>"
      ],
      "text/plain": [
       "   Tree  SVM  Bayes  Sigmoid  Predicted  Real\n",
       "0     1    1      1        1          1     1\n",
       "1     0    0      0        0          0     0\n",
       "2     1    1      1        1          1     1\n",
       "3     0    1      1        1          1     1\n",
       "4     0    0      0        1          0     0"
      ]
     },
     "execution_count": 276,
     "metadata": {},
     "output_type": "execute_result"
    }
   ],
   "source": [
    "resultados['Survived'] = resultados.mean(numeric_only=True, axis=1)\n",
    "resultados[\"Predicted\"] = np.where(resultados['Survived'] < 0.5, 0, 1)\n",
    "resultados = resultados.drop([\"Survived\"], axis=1)\n",
    "resultados[\"Real\"] = data_cv[[\"Survived\"]].to_numpy()\n",
    "resultados.head()"
   ]
  },
  {
   "cell_type": "code",
   "execution_count": 280,
   "metadata": {},
   "outputs": [
    {
     "name": "stdout",
     "output_type": "stream",
     "text": [
      "Precisión de validación\n",
      "Precisión de Tree:  0.6162790697674418\n",
      "Precisión de SVM:  0.8604651162790697\n",
      "Precisión de Bayes:  0.7906976744186046\n",
      "Precisión de Sigmoid:  0.813953488372093\n",
      "Precisión de Ensemble:  0.7906976744186046\n"
     ]
    }
   ],
   "source": [
    "print(\"Precisión de validación\")\n",
    "print(\"Precisión de Tree: \", accuracy_score(resultados[\"Tree\"], resultados[\"Real\"]))\n",
    "print(\"Precisión de SVM: \", accuracy_score(resultados[\"SVM\"], resultados[\"Real\"]))\n",
    "print(\"Precisión de Bayes: \", accuracy_score(resultados[\"Bayes\"], resultados[\"Real\"]))\n",
    "print(\"Precisión de Sigmoid: \", accuracy_score(resultados[\"Sigmoid\"], resultados[\"Real\"]))\n",
    "print(\"Precisión de Ensemble: \", accuracy_score(resultados[\"Predicted\"], resultados[\"Real\"]))"
   ]
  },
  {
   "cell_type": "markdown",
   "metadata": {},
   "source": [
    "## Conclusión\n",
    "* El modelo con el peor desempeño fue el de árbol de decisión. Para este caso, quizas hubiera ayudado realizar random forest en vez de un solo árbol. Sin embargo, ese modelo tiene la ventaja de ser \"facil de explicar\" al negocio.\n",
    "* La utilización de escalado para realizar feature engineering a los datos de training, y a los de test, disminuyen el error durante la fase de entrenamiento. Se pudo notar que para estos datos la variación del error es más baja y su media también.\n",
    "* Ensemble learning ayuda a complementar las predicciones de varios modelos y apoyarse en las ventajas y complementar posibles contras de cada uno de ellos.\n",
    "\n",
    "## K-Folds Cross-Validation\n",
    "Es una técnica de remuestreo que consiste en realizar k muestras aleatorias con la data de entrenamiento y utilizar una de esas k muestras para validación en cada epoch. En general, el proceso es el siguiente:\n",
    "1. Mezclar las observaciones aleatoriamente\n",
    "2. Separar la data en k grupos\n",
    "3. Para cada grupo, hacer una vez:\n",
    "    * Tomar el grupo y considerarlo como data de testing\n",
    "    * Los demáß grupos serán data de entrenamiento\n",
    "    * Entrenar el modelo y evaluarlo con el grupo que separamos para testing\n",
    "    * Retener la métrica de desempeño y descartar el modelo\n",
    "4. Sintetizar el desempeño de los modelos\n",
    "\n",
    "Se debe destacar que cada observación queda fija en el grupo que quedó durante el remuestreo de k grupos, esto quiere decir que cada observación será utilizada una vez como validación y k-1 veces como entrenamiento.\n",
    "\n",
    "<img src=\"images/cross.png\" alt=\"Ejemplo k=5\">\n",
    "\n",
    "Para este proyecto se podría haber utilizado para validar iterativamente los modelos al mismo tiempo que se entrenan, además de mostrar el desempeño que tiene cada vez que realice las validaciones."
   ]
  },
  {
   "cell_type": "code",
   "execution_count": null,
   "metadata": {},
   "outputs": [],
   "source": []
  }
 ],
 "metadata": {
  "kernelspec": {
   "display_name": "Python 3",
   "language": "python",
   "name": "python3"
  },
  "language_info": {
   "codemirror_mode": {
    "name": "ipython",
    "version": 3
   },
   "file_extension": ".py",
   "mimetype": "text/x-python",
   "name": "python",
   "nbconvert_exporter": "python",
   "pygments_lexer": "ipython3",
   "version": "3.7.6"
  }
 },
 "nbformat": 4,
 "nbformat_minor": 4
}
