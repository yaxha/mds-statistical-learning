{
 "cells": [
  {
   "cell_type": "markdown",
   "metadata": {},
   "source": [
    "# **Maldición de dimensionalidad**\n",
    "**José Barrios - 20007192**\n",
    "\n",
    "**Descripción de presentación**: Desarrollemos el siguiente ejemplo: para 1 variable, 2 variables, y 3 variables ¿Cuántos polinomios de grado 3 pueden generarse?\n",
    "\n",
    "\n",
    "**Objetivo**: Determinar cómo crece la cantidad de _features_ conforme aumentamos el grado del modelo y las interacciones entre las variables.\n",
    "\n",
    "## Desarrollo del análisis\n",
    "Se creará un dataset sin datos (filas), unicamente con columnas ya que analizaremos el crecimiento de features conforme aumentamos el grado del polinomio con sklearn."
   ]
  },
  {
   "cell_type": "code",
   "execution_count": 17,
   "metadata": {},
   "outputs": [],
   "source": [
    "import pandas as pd\n",
    "from sklearn.preprocessing import PolynomialFeatures\n",
    "import matplotlib.pyplot as plt"
   ]
  },
  {
   "cell_type": "code",
   "execution_count": 11,
   "metadata": {},
   "outputs": [],
   "source": [
    "data = pd.DataFrame(columns=['Dia', 'Mes', 'Anio'])\n",
    "data = data.fillna(0)\n",
    "data = data.append({'Dia' : 1 , 'Mes' : 1, 'Anio': 2020} , ignore_index=True)"
   ]
  },
  {
   "cell_type": "code",
   "execution_count": 4,
   "metadata": {},
   "outputs": [
    {
     "name": "stdout",
     "output_type": "stream",
     "text": [
      "Cantidad de features: 3\n"
     ]
    }
   ],
   "source": [
    "print('Cantidad de features: ' + str(data.shape[1]))"
   ]
  },
  {
   "cell_type": "markdown",
   "metadata": {},
   "source": [
    "Diseñamos un ciclo que evalue las features polinomiales"
   ]
  },
  {
   "cell_type": "code",
   "execution_count": 20,
   "metadata": {},
   "outputs": [
    {
     "name": "stdout",
     "output_type": "stream",
     "text": [
      "Grado: 1, Features: 4\n",
      "Grado: 2, Features: 10\n",
      "Grado: 3, Features: 20\n",
      "Grado: 4, Features: 35\n",
      "Grado: 5, Features: 56\n",
      "Grado: 6, Features: 84\n",
      "Grado: 7, Features: 120\n",
      "Grado: 8, Features: 165\n",
      "Grado: 9, Features: 220\n",
      "Grado: 10, Features: 286\n",
      "Grado: 11, Features: 364\n",
      "Grado: 12, Features: 455\n",
      "Grado: 13, Features: 560\n",
      "Grado: 14, Features: 680\n",
      "Grado: 15, Features: 816\n",
      "Grado: 16, Features: 969\n",
      "Grado: 17, Features: 1140\n",
      "Grado: 18, Features: 1330\n",
      "Grado: 19, Features: 1540\n",
      "Grado: 20, Features: 1771\n",
      "Grado: 21, Features: 2024\n",
      "Grado: 22, Features: 2300\n",
      "Grado: 23, Features: 2600\n",
      "Grado: 24, Features: 2925\n",
      "Grado: 25, Features: 3276\n",
      "Grado: 26, Features: 3654\n",
      "Grado: 27, Features: 4060\n",
      "Grado: 28, Features: 4495\n",
      "Grado: 29, Features: 4960\n",
      "Grado: 30, Features: 5456\n",
      "Grado: 31, Features: 5984\n",
      "Grado: 32, Features: 6545\n",
      "Grado: 33, Features: 7140\n",
      "Grado: 34, Features: 7770\n",
      "Grado: 35, Features: 8436\n",
      "Grado: 36, Features: 9139\n",
      "Grado: 37, Features: 9880\n",
      "Grado: 38, Features: 10660\n",
      "Grado: 39, Features: 11480\n"
     ]
    }
   ],
   "source": [
    "tabla_grados = pd.DataFrame(columns=['Grado', 'Cantidad'])\n",
    "tabla_grados = tabla_grados.fillna(0)\n",
    "\n",
    "for grado in range(1, 40):\n",
    "    cantidad_features = PolynomialFeatures(grado).fit_transform(data).shape[1]\n",
    "    tabla_grados = tabla_grados.append({'Grado': grado , 'Cantidad': cantidad_features} , ignore_index=True)\n",
    "    print(\"Grado: \" + str(grado) + \", Features: \" + str(cantidad_features))"
   ]
  },
  {
   "cell_type": "code",
   "execution_count": 21,
   "metadata": {},
   "outputs": [
    {
     "data": {
      "image/png": "[encoded data removed]",
      "text/plain": [
       "<Figure size 432x288 with 1 Axes>"
      ]
     },
     "metadata": {
      "needs_background": "light"
     },
     "output_type": "display_data"
    }
   ],
   "source": [
    "plt.plot(tabla_grados['Grado'], tabla_grados['Cantidad'])\n",
    "plt.ylabel('Features')\n",
    "plt.xlabel('Grado')\n",
    "plt.show()"
   ]
  },
  {
   "cell_type": "markdown",
   "metadata": {},
   "source": [
    "Notamos un crecimiento muy acelerado. En menos de un grado 20 se han pasado las mil features, por lo que es necesario tomar en cuenta la complejidad computacional que conlleva el usar _PolynomialFeatures_ y analizar si es necesario recurrir a disminución de dimensionalidad en problemas que tengan gran cantidad de variables."
   ]
  }
 ],
 "metadata": {
  "kernelspec": {
   "display_name": "Python 3",
   "language": "python",
   "name": "python3"
  },
  "language_info": {
   "codemirror_mode": {
    "name": "ipython",
    "version": 3
   },
   "file_extension": ".py",
   "mimetype": "text/x-python",
   "name": "python",
   "nbconvert_exporter": "python",
   "pygments_lexer": "ipython3",
   "version": "3.7.6"
  }
 },
 "nbformat": 4,
 "nbformat_minor": 4
}
