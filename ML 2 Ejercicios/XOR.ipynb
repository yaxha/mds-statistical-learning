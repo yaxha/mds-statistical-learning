{
 "cells": [
  {
   "cell_type": "markdown",
   "metadata": {},
   "source": [
    "# **XOR con composición y perceptrones**\n",
    "**José Barrios - 20007192**\n",
    "\n",
    "**Descripción** \n",
    "\n",
    "Parte 1: ejercicio de composición de funciones para XOR\n",
    "\n",
    "Parte 2: Usando activación \"step\" y el algoritmo de entrenamiento de perceptrones visto en clase, entrenar:\n",
    "* 1 perceptrón para la operación \"and\"\n",
    "* 1 perceptrón para la operación \"or\""
   ]
  },
  {
   "cell_type": "code",
   "execution_count": 1,
   "metadata": {},
   "outputs": [],
   "source": [
    "import numpy as np"
   ]
  },
  {
   "cell_type": "markdown",
   "metadata": {},
   "source": [
    "## Parte 1: XOR\n",
    "Generar una función XOR compuesta con funciones NOT, AND y OR."
   ]
  },
  {
   "cell_type": "code",
   "execution_count": 43,
   "metadata": {},
   "outputs": [],
   "source": [
    "def fNOT(a):\n",
    "    parametros = [-1, 1]\n",
    "    return int((a*parametros[0] + parametros[1]) > 0)"
   ]
  },
  {
   "cell_type": "code",
   "execution_count": 10,
   "metadata": {},
   "outputs": [
    {
     "data": {
      "text/plain": [
       "0"
      ]
     },
     "execution_count": 10,
     "metadata": {},
     "output_type": "execute_result"
    }
   ],
   "source": [
    "fNOT(1)"
   ]
  },
  {
   "cell_type": "code",
   "execution_count": 11,
   "metadata": {},
   "outputs": [
    {
     "data": {
      "text/plain": [
       "1"
      ]
     },
     "execution_count": 11,
     "metadata": {},
     "output_type": "execute_result"
    }
   ],
   "source": [
    "fNOT(0)"
   ]
  },
  {
   "cell_type": "code",
   "execution_count": 12,
   "metadata": {},
   "outputs": [],
   "source": [
    "def fOR(a, b):\n",
    "    parametros = [1, 1, 0]\n",
    "    return int((a*parametros[0] + b*parametros[1] + parametros[2]) > 0)"
   ]
  },
  {
   "cell_type": "code",
   "execution_count": 13,
   "metadata": {},
   "outputs": [
    {
     "data": {
      "text/plain": [
       "0"
      ]
     },
     "execution_count": 13,
     "metadata": {},
     "output_type": "execute_result"
    }
   ],
   "source": [
    "fOR(0, 0)"
   ]
  },
  {
   "cell_type": "code",
   "execution_count": 14,
   "metadata": {},
   "outputs": [
    {
     "data": {
      "text/plain": [
       "1"
      ]
     },
     "execution_count": 14,
     "metadata": {},
     "output_type": "execute_result"
    }
   ],
   "source": [
    "fOR(1, 0)"
   ]
  },
  {
   "cell_type": "code",
   "execution_count": 15,
   "metadata": {},
   "outputs": [],
   "source": [
    "def fAND(a, b):\n",
    "    parametros = [1, 1, -1]\n",
    "    return int((a*parametros[0] + b*parametros[1] + parametros[2]) > 0)"
   ]
  },
  {
   "cell_type": "code",
   "execution_count": 16,
   "metadata": {},
   "outputs": [
    {
     "data": {
      "text/plain": [
       "0"
      ]
     },
     "execution_count": 16,
     "metadata": {},
     "output_type": "execute_result"
    }
   ],
   "source": [
    "fAND(0, 1)"
   ]
  },
  {
   "cell_type": "code",
   "execution_count": 17,
   "metadata": {},
   "outputs": [
    {
     "data": {
      "text/plain": [
       "1"
      ]
     },
     "execution_count": 17,
     "metadata": {},
     "output_type": "execute_result"
    }
   ],
   "source": [
    "fAND(1, 1)"
   ]
  },
  {
   "cell_type": "markdown",
   "metadata": {},
   "source": [
    "Definición de XOR con las funciones anteriores. La función se puede definir como  **( A + B ) ⋅ ¬( A ⋅ B)** según el álgebra booleana."
   ]
  },
  {
   "cell_type": "code",
   "execution_count": 18,
   "metadata": {},
   "outputs": [],
   "source": [
    "def fXOR(a, b):\n",
    "    return fAND(fOR(a, b), fNOT(fAND(a, b)))"
   ]
  },
  {
   "cell_type": "code",
   "execution_count": 19,
   "metadata": {},
   "outputs": [
    {
     "data": {
      "text/plain": [
       "0"
      ]
     },
     "execution_count": 19,
     "metadata": {},
     "output_type": "execute_result"
    }
   ],
   "source": [
    "fXOR(0, 0)"
   ]
  },
  {
   "cell_type": "code",
   "execution_count": 20,
   "metadata": {},
   "outputs": [
    {
     "data": {
      "text/plain": [
       "1"
      ]
     },
     "execution_count": 20,
     "metadata": {},
     "output_type": "execute_result"
    }
   ],
   "source": [
    "fXOR(0, 1)"
   ]
  },
  {
   "cell_type": "code",
   "execution_count": 21,
   "metadata": {},
   "outputs": [
    {
     "data": {
      "text/plain": [
       "1"
      ]
     },
     "execution_count": 21,
     "metadata": {},
     "output_type": "execute_result"
    }
   ],
   "source": [
    "fXOR(1, 0)"
   ]
  },
  {
   "cell_type": "code",
   "execution_count": 22,
   "metadata": {},
   "outputs": [
    {
     "data": {
      "text/plain": [
       "0"
      ]
     },
     "execution_count": 22,
     "metadata": {},
     "output_type": "execute_result"
    }
   ],
   "source": [
    "fXOR(1, 1)"
   ]
  },
  {
   "cell_type": "markdown",
   "metadata": {},
   "source": [
    "## Parte 2: Perceptrón\n",
    "Entrenar dos perceptrones para las funciones AND y OR.\n",
    "\n",
    "Primero se define una función para entrenamiento con la función de activación _step_."
   ]
  },
  {
   "cell_type": "code",
   "execution_count": 34,
   "metadata": {},
   "outputs": [],
   "source": [
    "def entrenar_perceptron(df, labels, lr=0.01):\n",
    "    #Inicialización de pesos con distribución normal\n",
    "    w = np.random.normal(0, 0.1, 3)\n",
    "    w[2] = 0 #El peso del sesgo se inicia en 0\n",
    "    \n",
    "    #Se crea una columna de 1's para usarla como entrada del peso del sesgo\n",
    "    data = np.insert(df, 2, np.ones(len(df)), axis=1).astype(np.float32)\n",
    "    \n",
    "    #Obtener predicciones con activación step (valores >= 0)\n",
    "    tabla_verdad = np.dot(data, w) >= 0\n",
    "    tabla_verdad = tabla_verdad.astype(int)\n",
    "    comparacion = labels == tabla_verdad #Verificar si la tabla de verdad es igual en cada caso\n",
    "    \n",
    "    #Realizar tantas interaciones como sea necesario hasta que la tabla de verdad sea la misma\n",
    "    epoch = 0\n",
    "    while comparacion.all() == False and epoch < 50:\n",
    "        #Recorrer cada fila de la tabla de verdad\n",
    "        for fila in range(0, len(labels)):\n",
    "            signo = np.sign(np.dot(data[fila], w))\n",
    "            \n",
    "            #Si sign nos da diferente al valor esperado\n",
    "            if labels[fila] == 1 and signo < 0: #Se esperaba un 1\n",
    "                w = w + (lr * data[fila]) #Subir el peso para acercar a 1\n",
    "            elif labels[fila] == 0 and signo >= 0:\n",
    "                w = w - (lr * data[fila]) #Bajar el peso para acercar a 0\n",
    "        \n",
    "        #Armar nuevamente la tabla de verdad con los pesos obtenidos\n",
    "        tabla_verdad = np.dot(data, w) >= 0\n",
    "        tabla_verdad = tabla_verdad.astype(int)\n",
    "        comparacion = labels == tabla_verdad\n",
    "        epoch = epoch + 1 \n",
    "            \n",
    "    return w"
   ]
  },
  {
   "cell_type": "code",
   "execution_count": 36,
   "metadata": {},
   "outputs": [],
   "source": [
    "df_and = np.array([[1,1,1],\n",
    "                   [0,1,0],\n",
    "                   [1,0,0],\n",
    "                   [0,0,0]])\n",
    "df_or = np.array([[1,1,1],\n",
    "                  [0,1,1],\n",
    "                  [1,0,1],\n",
    "                  [0,0,0]])"
   ]
  },
  {
   "cell_type": "markdown",
   "metadata": {},
   "source": [
    "Obtener pesos/parametros para las funciones AND y OR"
   ]
  },
  {
   "cell_type": "code",
   "execution_count": 37,
   "metadata": {},
   "outputs": [],
   "source": [
    "w_and = entrenar_perceptron(df_and[:, 0:2], df_and[:, 2])\n",
    "w_or = entrenar_perceptron(df_or[:, 0:2], df_or[:, 2])"
   ]
  },
  {
   "cell_type": "code",
   "execution_count": 38,
   "metadata": {},
   "outputs": [
    {
     "data": {
      "text/plain": [
       "array([ 0.06627083,  0.08296859, -0.09      ])"
      ]
     },
     "execution_count": 38,
     "metadata": {},
     "output_type": "execute_result"
    }
   ],
   "source": [
    "w_and"
   ]
  },
  {
   "cell_type": "code",
   "execution_count": 39,
   "metadata": {},
   "outputs": [
    {
     "data": {
      "text/plain": [
       "array([ 0.01272493,  0.01848006, -0.01      ])"
      ]
     },
     "execution_count": 39,
     "metadata": {},
     "output_type": "execute_result"
    }
   ],
   "source": [
    "w_or"
   ]
  },
  {
   "cell_type": "markdown",
   "metadata": {},
   "source": [
    "Función que acepta los nuevos pesos para realizar su operación"
   ]
  },
  {
   "cell_type": "code",
   "execution_count": 40,
   "metadata": {},
   "outputs": [],
   "source": [
    "def Perceptron(a, b, w):\n",
    "    return int((a*w[0] + b*w[1] + w[2]) > 0)"
   ]
  },
  {
   "cell_type": "code",
   "execution_count": 41,
   "metadata": {},
   "outputs": [],
   "source": [
    "def PerceptronXOR(a, b, w_and, w_or):\n",
    "    return Perceptron(Perceptron(a, b, w_or), fNOT(Perceptron(a, b, w_and)), w_and)"
   ]
  },
  {
   "cell_type": "code",
   "execution_count": 44,
   "metadata": {},
   "outputs": [
    {
     "data": {
      "text/plain": [
       "0"
      ]
     },
     "execution_count": 44,
     "metadata": {},
     "output_type": "execute_result"
    }
   ],
   "source": [
    "PerceptronXOR(0, 0, w_and, w_or)"
   ]
  },
  {
   "cell_type": "code",
   "execution_count": 45,
   "metadata": {},
   "outputs": [
    {
     "data": {
      "text/plain": [
       "1"
      ]
     },
     "execution_count": 45,
     "metadata": {},
     "output_type": "execute_result"
    }
   ],
   "source": [
    "PerceptronXOR(1, 0, w_and, w_or)"
   ]
  },
  {
   "cell_type": "code",
   "execution_count": 46,
   "metadata": {},
   "outputs": [
    {
     "data": {
      "text/plain": [
       "1"
      ]
     },
     "execution_count": 46,
     "metadata": {},
     "output_type": "execute_result"
    }
   ],
   "source": [
    "PerceptronXOR(0, 1, w_and, w_or)"
   ]
  },
  {
   "cell_type": "code",
   "execution_count": 47,
   "metadata": {},
   "outputs": [
    {
     "data": {
      "text/plain": [
       "0"
      ]
     },
     "execution_count": 47,
     "metadata": {},
     "output_type": "execute_result"
    }
   ],
   "source": [
    "PerceptronXOR(1, 1, w_and, w_or)"
   ]
  }
 ],
 "metadata": {
  "kernelspec": {
   "display_name": "Python 3",
   "language": "python",
   "name": "python3"
  },
  "language_info": {
   "codemirror_mode": {
    "name": "ipython",
    "version": 3
   },
   "file_extension": ".py",
   "mimetype": "text/x-python",
   "name": "python",
   "nbconvert_exporter": "python",
   "pygments_lexer": "ipython3",
   "version": "3.7.6"
  }
 },
 "nbformat": 4,
 "nbformat_minor": 4
}
