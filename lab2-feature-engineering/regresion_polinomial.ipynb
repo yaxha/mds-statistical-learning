{
 "cells": [
  {
   "cell_type": "markdown",
   "metadata": {},
   "source": [
    "# Tarea 2 - Regresion Polinomial & Feature engineering\n",
    "\n",
    "### Parte 1 - Modelo exponencial de covid-19 usando feature-eng\n",
    "\n",
    "Usando el ejemplo de covid-19 en el notebook de feature-eng (https://colab.research.google.com/drive/1sJV2HG7tQgCGKES3-dIclzHQJ9qAWB3b?usp=sharing) crear un modelo de covid-19 para Guatemala.\n",
    "\n",
    "* Convertir la fecha a un entero \"número de día\", por ejemplo si se usan datos desde el 22 de abril, este es el día 0, el 23 es el día 1.\n",
    "* Aplicar regresión lineal sobre la variable \"Confirmed\" transformada.\n",
    "* Una vez entrenado el modelo usarlo para aproximar la cantidad de casos confirmados para el 30 de mayo. Se debe reportar la cantidad de casos, no la cantidad transformada obtenida."
   ]
  },
  {
   "cell_type": "code",
   "execution_count": 12,
   "metadata": {},
   "outputs": [],
   "source": [
    "import numpy as np\n",
    "import pandas as pd\n",
    "import matplotlib.pyplot as plt\n",
    "import datetime as dt\n",
    "import tensorflow.compat.v1 as tf\n",
    "from sklearn.preprocessing import PolynomialFeatures"
   ]
  },
  {
   "cell_type": "code",
   "execution_count": 2,
   "metadata": {},
   "outputs": [
    {
     "name": "stdout",
     "output_type": "stream",
     "text": [
      "WARNING:tensorflow:From D:\\Programs\\Anaconda\\envs\\clase22\\lib\\site-packages\\tensorflow_core\\python\\compat\\v2_compat.py:88: disable_resource_variables (from tensorflow.python.ops.variable_scope) is deprecated and will be removed in a future version.\n",
      "Instructions for updating:\n",
      "non-resource variables are not supported in the long term\n",
      "Enabled compatitility to tf1.x\n"
     ]
    }
   ],
   "source": [
    "if tf.__version__.startswith(\"2.\"):\n",
    "  import tensorflow.compat.v1 as tf\n",
    "  tf.compat.v1.disable_v2_behavior()\n",
    "  tf.compat.v1.disable_eager_execution()\n",
    "  print(\"Enabled compatitility to tf1.x\")"
   ]
  },
  {
   "cell_type": "code",
   "execution_count": 2,
   "metadata": {},
   "outputs": [],
   "source": [
    "data_covid = pd.read_csv('covid_19_clean_complete.csv')"
   ]
  },
  {
   "cell_type": "markdown",
   "metadata": {},
   "source": [
    "Convertimos a dataframe de Pandas y obtenemos solo las columnas de País, Fecha y Confirmados"
   ]
  },
  {
   "cell_type": "code",
   "execution_count": 3,
   "metadata": {},
   "outputs": [
    {
     "data": {
      "text/html": [
       "<div>\n",
       "<style scoped>\n",
       "    .dataframe tbody tr th:only-of-type {\n",
       "        vertical-align: middle;\n",
       "    }\n",
       "\n",
       "    .dataframe tbody tr th {\n",
       "        vertical-align: top;\n",
       "    }\n",
       "\n",
       "    .dataframe thead th {\n",
       "        text-align: right;\n",
       "    }\n",
       "</style>\n",
       "<table border=\"1\" class=\"dataframe\">\n",
       "  <thead>\n",
       "    <tr style=\"text-align: right;\">\n",
       "      <th></th>\n",
       "      <th>Country/Region</th>\n",
       "      <th>Date</th>\n",
       "      <th>Confirmed</th>\n",
       "    </tr>\n",
       "  </thead>\n",
       "  <tbody>\n",
       "    <tr>\n",
       "      <th>0</th>\n",
       "      <td>Afghanistan</td>\n",
       "      <td>1/22/20</td>\n",
       "      <td>0</td>\n",
       "    </tr>\n",
       "    <tr>\n",
       "      <th>1</th>\n",
       "      <td>Albania</td>\n",
       "      <td>1/22/20</td>\n",
       "      <td>0</td>\n",
       "    </tr>\n",
       "    <tr>\n",
       "      <th>2</th>\n",
       "      <td>Algeria</td>\n",
       "      <td>1/22/20</td>\n",
       "      <td>0</td>\n",
       "    </tr>\n",
       "    <tr>\n",
       "      <th>3</th>\n",
       "      <td>Andorra</td>\n",
       "      <td>1/22/20</td>\n",
       "      <td>0</td>\n",
       "    </tr>\n",
       "    <tr>\n",
       "      <th>4</th>\n",
       "      <td>Angola</td>\n",
       "      <td>1/22/20</td>\n",
       "      <td>0</td>\n",
       "    </tr>\n",
       "  </tbody>\n",
       "</table>\n",
       "</div>"
      ],
      "text/plain": [
       "  Country/Region     Date  Confirmed\n",
       "0    Afghanistan  1/22/20          0\n",
       "1        Albania  1/22/20          0\n",
       "2        Algeria  1/22/20          0\n",
       "3        Andorra  1/22/20          0\n",
       "4         Angola  1/22/20          0"
      ]
     },
     "execution_count": 3,
     "metadata": {},
     "output_type": "execute_result"
    }
   ],
   "source": [
    "data_covid = pd.DataFrame(data = data_covid, columns = [\"Country/Region\", \"Date\", \"Confirmed\"])\n",
    "data_covid.head()"
   ]
  },
  {
   "cell_type": "markdown",
   "metadata": {},
   "source": [
    "#### Limpiza de datos\n",
    "Filtramos solo por Guatemala y aprovechamos a quitar la columna de País. \n",
    "\n",
    "Se hará caso omiso a los días que no se hayan reportado casos. Esto quiere decir que el dia 0 no sera el 22/01/2020, sino el 14/03/2020"
   ]
  },
  {
   "cell_type": "code",
   "execution_count": 4,
   "metadata": {},
   "outputs": [
    {
     "data": {
      "text/html": [
       "<div>\n",
       "<style scoped>\n",
       "    .dataframe tbody tr th:only-of-type {\n",
       "        vertical-align: middle;\n",
       "    }\n",
       "\n",
       "    .dataframe tbody tr th {\n",
       "        vertical-align: top;\n",
       "    }\n",
       "\n",
       "    .dataframe thead th {\n",
       "        text-align: right;\n",
       "    }\n",
       "</style>\n",
       "<table border=\"1\" class=\"dataframe\">\n",
       "  <thead>\n",
       "    <tr style=\"text-align: right;\">\n",
       "      <th></th>\n",
       "      <th>Date</th>\n",
       "      <th>Confirmed</th>\n",
       "    </tr>\n",
       "  </thead>\n",
       "  <tbody>\n",
       "    <tr>\n",
       "      <th>13851</th>\n",
       "      <td>3/14/20</td>\n",
       "      <td>1</td>\n",
       "    </tr>\n",
       "    <tr>\n",
       "      <th>14115</th>\n",
       "      <td>3/15/20</td>\n",
       "      <td>1</td>\n",
       "    </tr>\n",
       "    <tr>\n",
       "      <th>14379</th>\n",
       "      <td>3/16/20</td>\n",
       "      <td>2</td>\n",
       "    </tr>\n",
       "    <tr>\n",
       "      <th>14643</th>\n",
       "      <td>3/17/20</td>\n",
       "      <td>6</td>\n",
       "    </tr>\n",
       "    <tr>\n",
       "      <th>14907</th>\n",
       "      <td>3/18/20</td>\n",
       "      <td>6</td>\n",
       "    </tr>\n",
       "  </tbody>\n",
       "</table>\n",
       "</div>"
      ],
      "text/plain": [
       "          Date  Confirmed\n",
       "13851  3/14/20          1\n",
       "14115  3/15/20          1\n",
       "14379  3/16/20          2\n",
       "14643  3/17/20          6\n",
       "14907  3/18/20          6"
      ]
     },
     "execution_count": 4,
     "metadata": {},
     "output_type": "execute_result"
    }
   ],
   "source": [
    "data_covid = data_covid[data_covid[\"Country/Region\"] == \"Guatemala\"]\n",
    "data_covid = data_covid[data_covid[\"Confirmed\"] > 0]\n",
    "\n",
    "data_covid = data_covid.drop(\"Country/Region\", axis = 1)\n",
    "data_covid.head()"
   ]
  },
  {
   "cell_type": "markdown",
   "metadata": {},
   "source": [
    "Creamos la transformación de la columna de Fecha a números enteros. Para volver el 14 de marzo el día 0 e irle sumando 1 al cada uno de los días que le siguen."
   ]
  },
  {
   "cell_type": "code",
   "execution_count": 5,
   "metadata": {},
   "outputs": [
    {
     "data": {
      "text/html": [
       "<div>\n",
       "<style scoped>\n",
       "    .dataframe tbody tr th:only-of-type {\n",
       "        vertical-align: middle;\n",
       "    }\n",
       "\n",
       "    .dataframe tbody tr th {\n",
       "        vertical-align: top;\n",
       "    }\n",
       "\n",
       "    .dataframe thead th {\n",
       "        text-align: right;\n",
       "    }\n",
       "</style>\n",
       "<table border=\"1\" class=\"dataframe\">\n",
       "  <thead>\n",
       "    <tr style=\"text-align: right;\">\n",
       "      <th></th>\n",
       "      <th>Date</th>\n",
       "      <th>Confirmed</th>\n",
       "      <th>Day</th>\n",
       "    </tr>\n",
       "  </thead>\n",
       "  <tbody>\n",
       "    <tr>\n",
       "      <th>13851</th>\n",
       "      <td>3/14/20</td>\n",
       "      <td>1</td>\n",
       "      <td>0</td>\n",
       "    </tr>\n",
       "    <tr>\n",
       "      <th>14115</th>\n",
       "      <td>3/15/20</td>\n",
       "      <td>1</td>\n",
       "      <td>1</td>\n",
       "    </tr>\n",
       "    <tr>\n",
       "      <th>14379</th>\n",
       "      <td>3/16/20</td>\n",
       "      <td>2</td>\n",
       "      <td>2</td>\n",
       "    </tr>\n",
       "    <tr>\n",
       "      <th>14643</th>\n",
       "      <td>3/17/20</td>\n",
       "      <td>6</td>\n",
       "      <td>3</td>\n",
       "    </tr>\n",
       "    <tr>\n",
       "      <th>14907</th>\n",
       "      <td>3/18/20</td>\n",
       "      <td>6</td>\n",
       "      <td>4</td>\n",
       "    </tr>\n",
       "  </tbody>\n",
       "</table>\n",
       "</div>"
      ],
      "text/plain": [
       "          Date  Confirmed  Day\n",
       "13851  3/14/20          1    0\n",
       "14115  3/15/20          1    1\n",
       "14379  3/16/20          2    2\n",
       "14643  3/17/20          6    3\n",
       "14907  3/18/20          6    4"
      ]
     },
     "execution_count": 5,
     "metadata": {},
     "output_type": "execute_result"
    }
   ],
   "source": [
    "data_covid[\"Day\"] = data_covid[\"Date\"].apply(lambda x: \n",
    "                                    (dt.datetime.strptime(x,'%m/%d/%y').date() - dt.datetime.strptime(\"3/14/20\", '%m/%d/%y').date()).days)\n",
    "data_covid.head()"
   ]
  },
  {
   "cell_type": "markdown",
   "metadata": {},
   "source": [
    "Ahora creamos una columna para los casos confirmados por día. Actualmente tenemos el acumulado, pero necesitamos los casos que se dieron por día."
   ]
  },
  {
   "cell_type": "code",
   "execution_count": 6,
   "metadata": {},
   "outputs": [
    {
     "data": {
      "text/html": [
       "<div>\n",
       "<style scoped>\n",
       "    .dataframe tbody tr th:only-of-type {\n",
       "        vertical-align: middle;\n",
       "    }\n",
       "\n",
       "    .dataframe tbody tr th {\n",
       "        vertical-align: top;\n",
       "    }\n",
       "\n",
       "    .dataframe thead th {\n",
       "        text-align: right;\n",
       "    }\n",
       "</style>\n",
       "<table border=\"1\" class=\"dataframe\">\n",
       "  <thead>\n",
       "    <tr style=\"text-align: right;\">\n",
       "      <th></th>\n",
       "      <th>Date</th>\n",
       "      <th>Confirmed</th>\n",
       "      <th>Day</th>\n",
       "      <th>Cases</th>\n",
       "    </tr>\n",
       "  </thead>\n",
       "  <tbody>\n",
       "    <tr>\n",
       "      <th>13851</th>\n",
       "      <td>3/14/20</td>\n",
       "      <td>1</td>\n",
       "      <td>0</td>\n",
       "      <td>0</td>\n",
       "    </tr>\n",
       "    <tr>\n",
       "      <th>14115</th>\n",
       "      <td>3/15/20</td>\n",
       "      <td>1</td>\n",
       "      <td>1</td>\n",
       "      <td>0</td>\n",
       "    </tr>\n",
       "    <tr>\n",
       "      <th>14379</th>\n",
       "      <td>3/16/20</td>\n",
       "      <td>2</td>\n",
       "      <td>2</td>\n",
       "      <td>0</td>\n",
       "    </tr>\n",
       "    <tr>\n",
       "      <th>14643</th>\n",
       "      <td>3/17/20</td>\n",
       "      <td>6</td>\n",
       "      <td>3</td>\n",
       "      <td>0</td>\n",
       "    </tr>\n",
       "    <tr>\n",
       "      <th>14907</th>\n",
       "      <td>3/18/20</td>\n",
       "      <td>6</td>\n",
       "      <td>4</td>\n",
       "      <td>0</td>\n",
       "    </tr>\n",
       "  </tbody>\n",
       "</table>\n",
       "</div>"
      ],
      "text/plain": [
       "          Date  Confirmed  Day  Cases\n",
       "13851  3/14/20          1    0      0\n",
       "14115  3/15/20          1    1      0\n",
       "14379  3/16/20          2    2      0\n",
       "14643  3/17/20          6    3      0\n",
       "14907  3/18/20          6    4      0"
      ]
     },
     "execution_count": 6,
     "metadata": {},
     "output_type": "execute_result"
    }
   ],
   "source": [
    "data_covid[\"Cases\"] = np.zeros(data_covid[\"Day\"].shape, dtype=int)\n",
    "data_covid.head()"
   ]
  },
  {
   "cell_type": "code",
   "execution_count": 16,
   "metadata": {},
   "outputs": [
    {
     "data": {
      "text/html": [
       "<div>\n",
       "<style scoped>\n",
       "    .dataframe tbody tr th:only-of-type {\n",
       "        vertical-align: middle;\n",
       "    }\n",
       "\n",
       "    .dataframe tbody tr th {\n",
       "        vertical-align: top;\n",
       "    }\n",
       "\n",
       "    .dataframe thead th {\n",
       "        text-align: right;\n",
       "    }\n",
       "</style>\n",
       "<table border=\"1\" class=\"dataframe\">\n",
       "  <thead>\n",
       "    <tr style=\"text-align: right;\">\n",
       "      <th></th>\n",
       "      <th>Date</th>\n",
       "      <th>Confirmed</th>\n",
       "      <th>Day</th>\n",
       "      <th>Cases</th>\n",
       "    </tr>\n",
       "  </thead>\n",
       "  <tbody>\n",
       "    <tr>\n",
       "      <th>13851</th>\n",
       "      <td>3/14/20</td>\n",
       "      <td>1</td>\n",
       "      <td>0</td>\n",
       "      <td>1</td>\n",
       "    </tr>\n",
       "    <tr>\n",
       "      <th>14115</th>\n",
       "      <td>3/15/20</td>\n",
       "      <td>1</td>\n",
       "      <td>1</td>\n",
       "      <td>0</td>\n",
       "    </tr>\n",
       "    <tr>\n",
       "      <th>14379</th>\n",
       "      <td>3/16/20</td>\n",
       "      <td>2</td>\n",
       "      <td>2</td>\n",
       "      <td>1</td>\n",
       "    </tr>\n",
       "    <tr>\n",
       "      <th>14643</th>\n",
       "      <td>3/17/20</td>\n",
       "      <td>6</td>\n",
       "      <td>3</td>\n",
       "      <td>4</td>\n",
       "    </tr>\n",
       "    <tr>\n",
       "      <th>14907</th>\n",
       "      <td>3/18/20</td>\n",
       "      <td>6</td>\n",
       "      <td>4</td>\n",
       "      <td>0</td>\n",
       "    </tr>\n",
       "  </tbody>\n",
       "</table>\n",
       "</div>"
      ],
      "text/plain": [
       "          Date  Confirmed  Day  Cases\n",
       "13851  3/14/20          1    0      1\n",
       "14115  3/15/20          1    1      0\n",
       "14379  3/16/20          2    2      1\n",
       "14643  3/17/20          6    3      4\n",
       "14907  3/18/20          6    4      0"
      ]
     },
     "execution_count": 16,
     "metadata": {},
     "output_type": "execute_result"
    }
   ],
   "source": [
    "data_covid.iloc[0, 3] = data_covid.iloc[0, 1]\n",
    "for i in range(1, len(data_covid[\"Cases\"])):\n",
    "    data_covid.iloc[i, 3] = data_covid.iloc[i, 1] - data_covid.iloc[i-1, 1]\n",
    "data_covid.head()"
   ]
  },
  {
   "cell_type": "code",
   "execution_count": 19,
   "metadata": {},
   "outputs": [
    {
     "data": {
      "image/png": "[encoded data removed]",
      "text/plain": [
       "<Figure size 432x288 with 1 Axes>"
      ]
     },
     "metadata": {
      "needs_background": "light"
     },
     "output_type": "display_data"
    }
   ],
   "source": [
    "fig = plt.figure()\n",
    "ax = fig.add_subplot(1, 1, 1)\n",
    "ax.scatter(data_covid[\"Day\"], data_covid[\"Cases\"])\n",
    "ax.set_xlabel(\"Día\")\n",
    "ax.set_ylabel(\"Casos nuevos\")\n",
    "ax.set_title(\"Casos nuevos por día\")\n",
    "ax.set_aspect('auto')\n",
    "    \n",
    "plt.show()"
   ]
  },
  {
   "cell_type": "markdown",
   "metadata": {},
   "source": [
    "#### Entrenamiento del modelo\n",
    "Procedemos a crear una clase que nos devuelva los parámetros $\\theta$ luego de un entrenamiento."
   ]
  },
  {
   "cell_type": "code",
   "execution_count": 22,
   "metadata": {},
   "outputs": [],
   "source": [
    "class LinearRegression:\n",
    "    #Inicializador de thetas a 0\n",
    "    def __init__(self, n): \n",
    "        self.theta = tf.get_variable(\"theta\", dtype=tf.float32, shape=[1, n], initializer=tf.zeros_initializer())\n",
    "\n",
    "    def __call__(self, x):\n",
    "        return tf.matmul(self.theta, x)\n",
    "    \n",
    "    #Función a optimizar por tf.gradients\n",
    "    def mse(self, x, y):\n",
    "        mse = 0.5 * tf.reduce_mean(tf.math.square(y - self(x)))\n",
    "        return mse\n",
    "    \n",
    "    #Actualización de thetas\n",
    "    def update(self, x, y, learning_rate):\n",
    "        with tf.name_scope(\"cost_function\"):\n",
    "            mse = self.mse(x, y)\n",
    "            mse_summary = tf.summary.scalar(\"mse_summary\", mse)\n",
    "        gradients = tf.gradients(mse, [self.theta])\n",
    "        theta_new = tf.assign(self.theta, self.theta - learning_rate * gradients[0])\n",
    "        return theta_new, mse, mse_summary"
   ]
  },
  {
   "cell_type": "code",
   "execution_count": 37,
   "metadata": {},
   "outputs": [],
   "source": [
    "def LinearTraining(x, y, epochs, imprimir_error_cada, learning_rate):\n",
    "    #log_name = './logs/'+ datetime.datetime.now().strftime(\"%Y%m%d-%H%M%S\") + '_lr=' + str(learning_rate)+ '_epochs=' + str(epochs)\n",
    "    n, m = x.shape\n",
    "    salida = np.array((1, n))\n",
    "    g = tf.Graph()\n",
    "    with g.as_default():\n",
    "        model = LinearRegression(n)\n",
    "        tensor_x = tf.placeholder(tf.float32, [n, m], \"tensor_x\")\n",
    "        tensor_y = tf.placeholder(tf.float32, [m], \"tensor_y\")\n",
    "        \n",
    "        update_parameters = model.update(tensor_x, tensor_y, learning_rate)\n",
    "        \n",
    "        #writer = tf.summary.FileWriter(log_name, g)\n",
    "        \n",
    "        with tf.train.MonitoredSession() as session:\n",
    "            parameters_dict = {tensor_x:x, tensor_y:y}\n",
    "            for i in range(epochs + 1):\n",
    "                training = session.run(update_parameters, feed_dict = parameters_dict)\n",
    "                salida = training[0]\n",
    "            \n",
    "                if (i % imprimir_error_cada) == 0:\n",
    "                    W = session.run(model.theta, feed_dict = parameters_dict)\n",
    "                    #writer.add_summary(training[2], i)\n",
    "                    print(\"Epoch \", i, \": Thetas: \", W, \"Cost: \", training[1])\n",
    "                    \n",
    "    return(salida)"
   ]
  },
  {
   "cell_type": "code",
   "execution_count": 24,
   "metadata": {},
   "outputs": [],
   "source": [
    "y = data_covid[\"Cases\"]\n",
    "x = data_covid[\"Day\"]\n",
    "x = np.array([x, np.ones_like(x)], dtype = \"float32\")"
   ]
  },
  {
   "cell_type": "code",
   "execution_count": 38,
   "metadata": {},
   "outputs": [
    {
     "name": "stdout",
     "output_type": "stream",
     "text": [
      "INFO:tensorflow:Graph was finalized.\n",
      "INFO:tensorflow:Running local_init_op.\n",
      "INFO:tensorflow:Done running local_init_op.\n",
      "Epoch  0 : Thetas:  [[0.97616374 0.02267241]] Cost:  368.86206\n",
      "Epoch  500 : Thetas:  [[ 0.7480541 -1.2760627]] Cost:  87.115456\n",
      "Epoch  1000 : Thetas:  [[ 0.77677274 -2.3766851 ]] Cost:  85.17087\n",
      "Epoch  1500 : Thetas:  [[ 0.80123913 -3.3143444 ]] Cost:  83.7595\n",
      "Epoch  2000 : Thetas:  [[ 0.8220833 -4.1131825]] Cost:  82.7351\n",
      "Epoch  2500 : Thetas:  [[ 0.8398409 -4.79373  ]] Cost:  81.99163\n",
      "Epoch  3000 : Thetas:  [[ 0.8549692 -5.373513 ]] Cost:  81.452\n",
      "Epoch  3500 : Thetas:  [[ 0.86785764 -5.8674536 ]] Cost:  81.060356\n",
      "Epoch  4000 : Thetas:  [[ 0.87883776 -6.288259  ]] Cost:  80.77609\n",
      "Epoch  4500 : Thetas:  [[ 0.8881921 -6.646759 ]] Cost:  80.56978\n",
      "Epoch  5000 : Thetas:  [[ 0.8961614 -6.9521766]] Cost:  80.42004\n",
      "Epoch  5500 : Thetas:  [[ 0.9029509 -7.2123804]] Cost:  80.311356\n",
      "Epoch  6000 : Thetas:  [[ 0.908735  -7.4340525]] Cost:  80.232475\n",
      "Epoch  6500 : Thetas:  [[ 0.9136627 -7.6229033]] Cost:  80.17522\n",
      "Epoch  7000 : Thetas:  [[ 0.91786075 -7.783791  ]] Cost:  80.133675\n",
      "Epoch  7500 : Thetas:  [[ 0.92143726 -7.9208593 ]] Cost:  80.103516\n",
      "Epoch  8000 : Thetas:  [[ 0.92448425 -8.037629  ]] Cost:  80.08162\n",
      "Epoch  8500 : Thetas:  [[ 0.9270801 -8.137115 ]] Cost:  80.065735\n",
      "Epoch  9000 : Thetas:  [[ 0.9292914 -8.221865 ]] Cost:  80.0542\n",
      "Epoch  9500 : Thetas:  [[ 0.93117553 -8.294071  ]] Cost:  80.04583\n",
      "Epoch  10000 : Thetas:  [[ 0.93278056 -8.355583  ]] Cost:  80.03975\n",
      "Epoch  10500 : Thetas:  [[ 0.93414813 -8.407992  ]] Cost:  80.03535\n",
      "Epoch  11000 : Thetas:  [[ 0.93531305 -8.452638  ]] Cost:  80.03214\n",
      "Epoch  11500 : Thetas:  [[ 0.9363056 -8.490677 ]] Cost:  80.02983\n",
      "Epoch  12000 : Thetas:  [[ 0.937151 -8.523078]] Cost:  80.02814\n",
      "Epoch  12500 : Thetas:  [[ 0.93787134 -8.550684  ]] Cost:  80.02692\n",
      "Epoch  13000 : Thetas:  [[ 0.9384851 -8.574204 ]] Cost:  80.02603\n",
      "Epoch  13500 : Thetas:  [[ 0.93900776 -8.594235  ]] Cost:  80.02539\n",
      "Epoch  14000 : Thetas:  [[ 0.93945307 -8.611302  ]] Cost:  80.02492\n",
      "Epoch  14500 : Thetas:  [[ 0.9398325 -8.625844 ]] Cost:  80.024574\n",
      "Epoch  15000 : Thetas:  [[ 0.94015574 -8.638231  ]] Cost:  80.02433\n"
     ]
    }
   ],
   "source": [
    "theta = LinearTraining(x, y, 15000, 500, 0.00125)"
   ]
  },
  {
   "cell_type": "code",
   "execution_count": 53,
   "metadata": {},
   "outputs": [
    {
     "name": "stdout",
     "output_type": "stream",
     "text": [
      "Pesos determinados:  [[ 0.94015574 -8.638231  ]]\n"
     ]
    }
   ],
   "source": [
    "print(\"Pesos determinados: \", theta)"
   ]
  },
  {
   "cell_type": "code",
   "execution_count": 56,
   "metadata": {},
   "outputs": [
    {
     "data": {
      "image/png": "[encoded data removed]",
      "text/plain": [
       "<Figure size 432x288 with 1 Axes>"
      ]
     },
     "metadata": {
      "needs_background": "light"
     },
     "output_type": "display_data"
    }
   ],
   "source": [
    "fig = plt.figure()\n",
    "ax = fig.add_subplot(1, 1, 1)\n",
    "ax.scatter(data_covid[\"Day\"], data_covid[\"Cases\"])\n",
    "ax.plot(data_covid[\"Day\"], data_covid[\"Day\"]*theta[0, 0] + theta[0, 1], 'r')\n",
    "ax.set_xlabel(\"Día\")\n",
    "ax.set_ylabel(\"Casos nuevos\")\n",
    "ax.set_title(\"Casos nuevos por día y recta de regresión lineal\")\n",
    "ax.set_aspect('auto')\n",
    "    \n",
    "plt.show()"
   ]
  },
  {
   "cell_type": "markdown",
   "metadata": {},
   "source": [
    "#### Predición\n",
    "Ya que tenemos los parámetros, los utilizamos para predecir los casos del día 83, ya que ese sería el correspondiente para el 30 de mayo.\n",
    "\n",
    "Primero, insertamos las suficientes filas para llegar al día 83. Luego, creamos una nueva columna con los casos predichos por el modelo. Acá se hace una corrección porque no puede haber una cantidad negativa de casos, por lo que cualquier número negativo se volverá a 0."
   ]
  },
  {
   "cell_type": "code",
   "execution_count": 75,
   "metadata": {},
   "outputs": [],
   "source": [
    "for i in range(58, 84):\n",
    "    data_covid = data_covid.append({'Date': '--', 'Confirmed': 0, 'Day': i, 'Cases': 0}, ignore_index=True)"
   ]
  },
  {
   "cell_type": "code",
   "execution_count": 85,
   "metadata": {},
   "outputs": [],
   "source": [
    "data_covid[\"Predicted\"] = np.zeros(data_covid[\"Day\"].shape, dtype=int)\n",
    "for i in range(1, len(data_covid[\"Day\"])):\n",
    "    nuevos_casos = int(data_covid.iloc[i, 2] * theta[0, 0] + theta[0, 1])\n",
    "    if(nuevos_casos < 0):\n",
    "        nuevos_casos = 0\n",
    "    data_covid.iloc[i, 3] = nuevos_casos\n",
    "    data_covid.iloc[i, 4] = data_covid.iloc[i-1, 4] + nuevos_casos"
   ]
  },
  {
   "cell_type": "code",
   "execution_count": 86,
   "metadata": {},
   "outputs": [
    {
     "data": {
      "text/html": [
       "<div>\n",
       "<style scoped>\n",
       "    .dataframe tbody tr th:only-of-type {\n",
       "        vertical-align: middle;\n",
       "    }\n",
       "\n",
       "    .dataframe tbody tr th {\n",
       "        vertical-align: top;\n",
       "    }\n",
       "\n",
       "    .dataframe thead th {\n",
       "        text-align: right;\n",
       "    }\n",
       "</style>\n",
       "<table border=\"1\" class=\"dataframe\">\n",
       "  <thead>\n",
       "    <tr style=\"text-align: right;\">\n",
       "      <th></th>\n",
       "      <th>Date</th>\n",
       "      <th>Confirmed</th>\n",
       "      <th>Day</th>\n",
       "      <th>Cases</th>\n",
       "      <th>Predicted</th>\n",
       "    </tr>\n",
       "  </thead>\n",
       "  <tbody>\n",
       "    <tr>\n",
       "      <th>0</th>\n",
       "      <td>3/14/20</td>\n",
       "      <td>1</td>\n",
       "      <td>0</td>\n",
       "      <td>1</td>\n",
       "      <td>0</td>\n",
       "    </tr>\n",
       "    <tr>\n",
       "      <th>1</th>\n",
       "      <td>3/15/20</td>\n",
       "      <td>1</td>\n",
       "      <td>1</td>\n",
       "      <td>0</td>\n",
       "      <td>0</td>\n",
       "    </tr>\n",
       "    <tr>\n",
       "      <th>2</th>\n",
       "      <td>3/16/20</td>\n",
       "      <td>2</td>\n",
       "      <td>2</td>\n",
       "      <td>0</td>\n",
       "      <td>0</td>\n",
       "    </tr>\n",
       "    <tr>\n",
       "      <th>3</th>\n",
       "      <td>3/17/20</td>\n",
       "      <td>6</td>\n",
       "      <td>3</td>\n",
       "      <td>0</td>\n",
       "      <td>0</td>\n",
       "    </tr>\n",
       "    <tr>\n",
       "      <th>4</th>\n",
       "      <td>3/18/20</td>\n",
       "      <td>6</td>\n",
       "      <td>4</td>\n",
       "      <td>0</td>\n",
       "      <td>0</td>\n",
       "    </tr>\n",
       "    <tr>\n",
       "      <th>...</th>\n",
       "      <td>...</td>\n",
       "      <td>...</td>\n",
       "      <td>...</td>\n",
       "      <td>...</td>\n",
       "      <td>...</td>\n",
       "    </tr>\n",
       "    <tr>\n",
       "      <th>79</th>\n",
       "      <td>--</td>\n",
       "      <td>0</td>\n",
       "      <td>79</td>\n",
       "      <td>65</td>\n",
       "      <td>2288</td>\n",
       "    </tr>\n",
       "    <tr>\n",
       "      <th>80</th>\n",
       "      <td>--</td>\n",
       "      <td>0</td>\n",
       "      <td>80</td>\n",
       "      <td>66</td>\n",
       "      <td>2354</td>\n",
       "    </tr>\n",
       "    <tr>\n",
       "      <th>81</th>\n",
       "      <td>--</td>\n",
       "      <td>0</td>\n",
       "      <td>81</td>\n",
       "      <td>67</td>\n",
       "      <td>2421</td>\n",
       "    </tr>\n",
       "    <tr>\n",
       "      <th>82</th>\n",
       "      <td>--</td>\n",
       "      <td>0</td>\n",
       "      <td>82</td>\n",
       "      <td>68</td>\n",
       "      <td>2489</td>\n",
       "    </tr>\n",
       "    <tr>\n",
       "      <th>83</th>\n",
       "      <td>--</td>\n",
       "      <td>0</td>\n",
       "      <td>83</td>\n",
       "      <td>69</td>\n",
       "      <td>2558</td>\n",
       "    </tr>\n",
       "  </tbody>\n",
       "</table>\n",
       "<p>84 rows × 5 columns</p>\n",
       "</div>"
      ],
      "text/plain": [
       "       Date  Confirmed  Day  Cases  Predicted\n",
       "0   3/14/20          1    0      1          0\n",
       "1   3/15/20          1    1      0          0\n",
       "2   3/16/20          2    2      0          0\n",
       "3   3/17/20          6    3      0          0\n",
       "4   3/18/20          6    4      0          0\n",
       "..      ...        ...  ...    ...        ...\n",
       "79       --          0   79     65       2288\n",
       "80       --          0   80     66       2354\n",
       "81       --          0   81     67       2421\n",
       "82       --          0   82     68       2489\n",
       "83       --          0   83     69       2558\n",
       "\n",
       "[84 rows x 5 columns]"
      ]
     },
     "execution_count": 86,
     "metadata": {},
     "output_type": "execute_result"
    }
   ],
   "source": [
    "data_covid"
   ]
  },
  {
   "cell_type": "markdown",
   "metadata": {},
   "source": [
    "#### Respuesta\n",
    "Según el modelo obtenido, el 30 de mayo debería haber un **total de 2558 casos activos**. \n",
    "> La información oficial para ese día fue de 3929 casos activos. El modelo está muy lejos del dato real.\n",
    "\n"
   ]
  },
  {
   "cell_type": "markdown",
   "metadata": {},
   "source": [
    "### Parte 2 - Modelo polinomial de calidad de vinos"
   ]
  },
  {
   "cell_type": "markdown",
   "metadata": {},
   "source": [
    "Es permitido utilizar [sklearn.preprocessing.polynomialfeatures](https://scikit-learn.org/stable/modules/generated/sklearn.preprocessing.PolynomialFeatures.html)\n",
    "\n",
    "\n",
    "### Instrucciones\n",
    "\n",
    "1. Seleccionar y transformar(generando las combinaciones polinomiales para un polinomio de grado dos o tres a elección) las features que considere que son las mejores para predecir la calidad del vino, utilizar como minimo 2 features. Para seleccionar las features, hacer un analisis exploratorio por ejemplo(pero no limitado a ):  graficando y viendo la forma en que se comportan los datos.\n",
    "\n",
    " Por ejemplo, se tienen las features \"a\" y \"b\" y seleccionamos polinomio de grado 2, hacemos feature engineering para obtener :\n",
    " \n",
    " $[a,b,a^{2},b^{2},ab]$\n",
    " \n",
    " No olvidar el \"bias\" (parámetro multiplicado por 1) ,con lo cual el dataset puede quedar con las columnas:\n",
    " \n",
    " $[1,a,b,a^{2},b^{2},ab]$\n",
    "2. Una vez transformada la data aplicar regresion lineal con las features polinomiales usando Tensorflow.\n",
    "\n",
    "Requisitos adicionales:\n",
    "* Se debe agregar al notebook un screenshot del grafo de tensorboard, simplificando(usando  names , y name_scope como visto en clase).\n",
    "\n",
    "* Se debe generar un directorio de logs de tensorboard para cada corrida/experimento , con cada directorio identificando facilmente la configuración del experimento como visto en clase, por ejemplo para un experimento con learning rate = 0.1 , y polinomio grado 2  crear un directorio: lr=0.1_polinomio_grado=2. (Agregar al notebook un screenshot de estas gráficas)\n",
    "\n",
    "* Concluir en markdown cual es el mejor modelo para este caso basado en la comparativa entre curvas de costo/error en tensorboard."
   ]
  },
  {
   "cell_type": "code",
   "execution_count": 3,
   "metadata": {},
   "outputs": [],
   "source": [
    "data_vino = pd.read_csv('winequality-red.csv')"
   ]
  },
  {
   "cell_type": "markdown",
   "metadata": {},
   "source": [
    "### Red Wine Quality Data\n",
    "\n",
    "Se aplicará regresión para crear un modelo de la calidad de vino en función de características del mismo, siendo 1 el peor vino y 10 el mejor.\n",
    "\n",
    "Variables de entrada:\n",
    "1. fixed acidity \n",
    "2. volatile acidity \n",
    "3. citric acid \n",
    "4. residual sugar \n",
    "5. chlorides \n",
    "6. free sulfur dioxide \n",
    "7. total sulfur dioxide \n",
    "8. density \n",
    "9. pH \n",
    "10. sulphates \n",
    "11. alcohol \n",
    "\n",
    "Varaible a predecir: \n",
    "12. quality (puntuacion  entre 0 y 10) \n",
    "\n"
   ]
  },
  {
   "cell_type": "code",
   "execution_count": 4,
   "metadata": {},
   "outputs": [
    {
     "data": {
      "text/html": [
       "<div>\n",
       "<style scoped>\n",
       "    .dataframe tbody tr th:only-of-type {\n",
       "        vertical-align: middle;\n",
       "    }\n",
       "\n",
       "    .dataframe tbody tr th {\n",
       "        vertical-align: top;\n",
       "    }\n",
       "\n",
       "    .dataframe thead th {\n",
       "        text-align: right;\n",
       "    }\n",
       "</style>\n",
       "<table border=\"1\" class=\"dataframe\">\n",
       "  <thead>\n",
       "    <tr style=\"text-align: right;\">\n",
       "      <th></th>\n",
       "      <th>fixed acidity</th>\n",
       "      <th>volatile acidity</th>\n",
       "      <th>citric acid</th>\n",
       "      <th>residual sugar</th>\n",
       "      <th>chlorides</th>\n",
       "      <th>free sulfur dioxide</th>\n",
       "      <th>total sulfur dioxide</th>\n",
       "      <th>density</th>\n",
       "      <th>pH</th>\n",
       "      <th>sulphates</th>\n",
       "      <th>alcohol</th>\n",
       "      <th>quality</th>\n",
       "    </tr>\n",
       "  </thead>\n",
       "  <tbody>\n",
       "    <tr>\n",
       "      <th>0</th>\n",
       "      <td>7.4</td>\n",
       "      <td>0.70</td>\n",
       "      <td>0.00</td>\n",
       "      <td>1.9</td>\n",
       "      <td>0.076</td>\n",
       "      <td>11.0</td>\n",
       "      <td>34.0</td>\n",
       "      <td>0.9978</td>\n",
       "      <td>3.51</td>\n",
       "      <td>0.56</td>\n",
       "      <td>9.4</td>\n",
       "      <td>5</td>\n",
       "    </tr>\n",
       "    <tr>\n",
       "      <th>1</th>\n",
       "      <td>7.8</td>\n",
       "      <td>0.88</td>\n",
       "      <td>0.00</td>\n",
       "      <td>2.6</td>\n",
       "      <td>0.098</td>\n",
       "      <td>25.0</td>\n",
       "      <td>67.0</td>\n",
       "      <td>0.9968</td>\n",
       "      <td>3.20</td>\n",
       "      <td>0.68</td>\n",
       "      <td>9.8</td>\n",
       "      <td>5</td>\n",
       "    </tr>\n",
       "    <tr>\n",
       "      <th>2</th>\n",
       "      <td>7.8</td>\n",
       "      <td>0.76</td>\n",
       "      <td>0.04</td>\n",
       "      <td>2.3</td>\n",
       "      <td>0.092</td>\n",
       "      <td>15.0</td>\n",
       "      <td>54.0</td>\n",
       "      <td>0.9970</td>\n",
       "      <td>3.26</td>\n",
       "      <td>0.65</td>\n",
       "      <td>9.8</td>\n",
       "      <td>5</td>\n",
       "    </tr>\n",
       "    <tr>\n",
       "      <th>3</th>\n",
       "      <td>11.2</td>\n",
       "      <td>0.28</td>\n",
       "      <td>0.56</td>\n",
       "      <td>1.9</td>\n",
       "      <td>0.075</td>\n",
       "      <td>17.0</td>\n",
       "      <td>60.0</td>\n",
       "      <td>0.9980</td>\n",
       "      <td>3.16</td>\n",
       "      <td>0.58</td>\n",
       "      <td>9.8</td>\n",
       "      <td>6</td>\n",
       "    </tr>\n",
       "    <tr>\n",
       "      <th>4</th>\n",
       "      <td>7.4</td>\n",
       "      <td>0.70</td>\n",
       "      <td>0.00</td>\n",
       "      <td>1.9</td>\n",
       "      <td>0.076</td>\n",
       "      <td>11.0</td>\n",
       "      <td>34.0</td>\n",
       "      <td>0.9978</td>\n",
       "      <td>3.51</td>\n",
       "      <td>0.56</td>\n",
       "      <td>9.4</td>\n",
       "      <td>5</td>\n",
       "    </tr>\n",
       "  </tbody>\n",
       "</table>\n",
       "</div>"
      ],
      "text/plain": [
       "   fixed acidity  volatile acidity  citric acid  residual sugar  chlorides  \\\n",
       "0            7.4              0.70         0.00             1.9      0.076   \n",
       "1            7.8              0.88         0.00             2.6      0.098   \n",
       "2            7.8              0.76         0.04             2.3      0.092   \n",
       "3           11.2              0.28         0.56             1.9      0.075   \n",
       "4            7.4              0.70         0.00             1.9      0.076   \n",
       "\n",
       "   free sulfur dioxide  total sulfur dioxide  density    pH  sulphates  \\\n",
       "0                 11.0                  34.0   0.9978  3.51       0.56   \n",
       "1                 25.0                  67.0   0.9968  3.20       0.68   \n",
       "2                 15.0                  54.0   0.9970  3.26       0.65   \n",
       "3                 17.0                  60.0   0.9980  3.16       0.58   \n",
       "4                 11.0                  34.0   0.9978  3.51       0.56   \n",
       "\n",
       "   alcohol  quality  \n",
       "0      9.4        5  \n",
       "1      9.8        5  \n",
       "2      9.8        5  \n",
       "3      9.8        6  \n",
       "4      9.4        5  "
      ]
     },
     "execution_count": 4,
     "metadata": {},
     "output_type": "execute_result"
    }
   ],
   "source": [
    "data_vino.head()"
   ]
  },
  {
   "cell_type": "code",
   "execution_count": 8,
   "metadata": {},
   "outputs": [],
   "source": [
    "data_vino = pd.DataFrame(data = data_vino, columns = [\"fixed acidity\", \n",
    "                                                      \"volatile acidity\",\n",
    "                                                      \"citric acid\", \n",
    "                                                      \"residual sugar\", \n",
    "                                                      \"chlorides\", \n",
    "                                                      \"free sulfur dioxide\", \n",
    "                                                      \"total sulfur dioxide\", \n",
    "                                                      \"density\", \n",
    "                                                      \"pH\", \n",
    "                                                      \"sulphates\", \n",
    "                                                      \"alcohol\",\n",
    "                                                      \"quality\" ])\n",
    "data_vino = data_vino.astype({\"fixed acidity\" : float, \n",
    "                         \"volatile acidity\" : float, \n",
    "                         \"citric acid\" : float, \n",
    "                         \"residual sugar\" : float, \n",
    "                         \"chlorides\" : float, \n",
    "                         \"free sulfur dioxide\" : float, \n",
    "                         \"total sulfur dioxide\" : float,\n",
    "                         \"density\" : float, \n",
    "                         \"pH\" : float,\n",
    "                         \"sulphates\" : float, \n",
    "                         \"alcohol\" : float, \n",
    "                         \"quality\" : int})"
   ]
  },
  {
   "cell_type": "markdown",
   "metadata": {},
   "source": [
    "Se determinará la correlación entre las variables independientes y quality, para decidir cuales 2 o 3 features utilizar para generar el modelo."
   ]
  },
  {
   "cell_type": "code",
   "execution_count": 11,
   "metadata": {},
   "outputs": [
    {
     "data": {
      "image/png": "[encoded data removed]",
      "text/plain": [
       "<Figure size 432x288 with 1 Axes>"
      ]
     },
     "metadata": {
      "needs_background": "light"
     },
     "output_type": "display_data"
    },
    {
     "data": {
      "image/png": "[encoded data removed]",
      "text/plain": [
       "<Figure size 432x288 with 1 Axes>"
      ]
     },
     "metadata": {
      "needs_background": "light"
     },
     "output_type": "display_data"
    },
    {
     "data": {
      "image/png": "[encoded data removed]",
      "text/plain": [
       "<Figure size 432x288 with 1 Axes>"
      ]
     },
     "metadata": {
      "needs_background": "light"
     },
     "output_type": "display_data"
    },
    {
     "data": {
      "image/png": "[encoded data removed]",
      "text/plain": [
       "<Figure size 432x288 with 1 Axes>"
      ]
     },
     "metadata": {
      "needs_background": "light"
     },
     "output_type": "display_data"
    },
    {
     "data": {
      "image/png": "[encoded data removed]",
      "text/plain": [
       "<Figure size 432x288 with 1 Axes>"
      ]
     },
     "metadata": {
      "needs_background": "light"
     },
     "output_type": "display_data"
    },
    {
     "data": {
      "image/png": "[encoded data removed]",
      "text/plain": [
       "<Figure size 432x288 with 1 Axes>"
      ]
     },
     "metadata": {
      "needs_background": "light"
     },
     "output_type": "display_data"
    },
    {
     "data": {
      "image/png": "[encoded data removed]",
      "text/plain": [
       "<Figure size 432x288 with 1 Axes>"
      ]
     },
     "metadata": {
      "needs_background": "light"
     },
     "output_type": "display_data"
    },
    {
     "data": {
      "image/png": "[encoded data removed]",
      "text/plain": [
       "<Figure size 432x288 with 1 Axes>"
      ]
     },
     "metadata": {
      "needs_background": "light"
     },
     "output_type": "display_data"
    },
    {
     "data": {
      "image/png": "[encoded data removed]",
      "text/plain": [
       "<Figure size 432x288 with 1 Axes>"
      ]
     },
     "metadata": {
      "needs_background": "light"
     },
     "output_type": "display_data"
    },
    {
     "data": {
      "image/png": "[encoded data removed]",
      "text/plain": [
       "<Figure size 432x288 with 1 Axes>"
      ]
     },
     "metadata": {
      "needs_background": "light"
     },
     "output_type": "display_data"
    },
    {
     "data": {
      "image/png": "[encoded data removed]",
      "text/plain": [
       "<Figure size 432x288 with 1 Axes>"
      ]
     },
     "metadata": {
      "needs_background": "light"
     },
     "output_type": "display_data"
    }
   ],
   "source": [
    "#Determinar la correlación entre las variables con quality\n",
    "for col in data_vino.columns:\n",
    "    if(col != 'quality'):\n",
    "        cor = round(data_vino['quality'].corr(data_vino[col]),4)\n",
    "        \n",
    "        fig = plt.figure()\n",
    "        ax = fig.add_subplot(1, 1, 1)\n",
    "        ax.scatter(data_vino[col], data_vino[\"quality\"])\n",
    "        ax.set_xlabel(col)\n",
    "        ax.set_ylabel(\"Quality\")\n",
    "        ax.set_title('R = ' + str(cor))\n",
    "        ax.set_aspect('auto')\n",
    "    \n",
    "plt.show()"
   ]
  },
  {
   "cell_type": "markdown",
   "metadata": {},
   "source": [
    "Las dos variables independientes con la correlación más alta (valor absoluto) son **alcohol** y **volatile acidity**, así que estas serán las variables que se usaran en nuestro modelo."
   ]
  },
  {
   "cell_type": "code",
   "execution_count": 16,
   "metadata": {},
   "outputs": [
    {
     "data": {
      "text/html": [
       "<div>\n",
       "<style scoped>\n",
       "    .dataframe tbody tr th:only-of-type {\n",
       "        vertical-align: middle;\n",
       "    }\n",
       "\n",
       "    .dataframe tbody tr th {\n",
       "        vertical-align: top;\n",
       "    }\n",
       "\n",
       "    .dataframe thead th {\n",
       "        text-align: right;\n",
       "    }\n",
       "</style>\n",
       "<table border=\"1\" class=\"dataframe\">\n",
       "  <thead>\n",
       "    <tr style=\"text-align: right;\">\n",
       "      <th></th>\n",
       "      <th>volatile acidity</th>\n",
       "      <th>alcohol</th>\n",
       "    </tr>\n",
       "  </thead>\n",
       "  <tbody>\n",
       "    <tr>\n",
       "      <th>0</th>\n",
       "      <td>0.70</td>\n",
       "      <td>9.4</td>\n",
       "    </tr>\n",
       "    <tr>\n",
       "      <th>1</th>\n",
       "      <td>0.88</td>\n",
       "      <td>9.8</td>\n",
       "    </tr>\n",
       "    <tr>\n",
       "      <th>2</th>\n",
       "      <td>0.76</td>\n",
       "      <td>9.8</td>\n",
       "    </tr>\n",
       "    <tr>\n",
       "      <th>3</th>\n",
       "      <td>0.28</td>\n",
       "      <td>9.8</td>\n",
       "    </tr>\n",
       "    <tr>\n",
       "      <th>4</th>\n",
       "      <td>0.70</td>\n",
       "      <td>9.4</td>\n",
       "    </tr>\n",
       "  </tbody>\n",
       "</table>\n",
       "</div>"
      ],
      "text/plain": [
       "   volatile acidity  alcohol\n",
       "0              0.70      9.4\n",
       "1              0.88      9.8\n",
       "2              0.76      9.8\n",
       "3              0.28      9.8\n",
       "4              0.70      9.4"
      ]
     },
     "execution_count": 16,
     "metadata": {},
     "output_type": "execute_result"
    }
   ],
   "source": [
    "data_vino_seleccionadas = pd.DataFrame(data = data_vino, columns = [\"volatile acidity\", \"alcohol\"])\n",
    "data_vino_seleccionadas = data_vino_seleccionadas.astype({\"volatile acidity\" : float,  \"alcohol\" : float})\n",
    "data_vino_seleccionadas.head()"
   ]
  },
  {
   "cell_type": "code",
   "execution_count": 21,
   "metadata": {},
   "outputs": [],
   "source": [
    "poly = PolynomialFeatures(2)\n",
    "transformada = poly.fit_transform(data_vino_seleccionadas)"
   ]
  },
  {
   "cell_type": "markdown",
   "metadata": {},
   "source": [
    "Se obtuvo un array con las columnas [$1, a, b, a^2, ab, b^2$], donde a = _volatile acidity_ y b = _alcohol_"
   ]
  },
  {
   "cell_type": "code",
   "execution_count": 34,
   "metadata": {},
   "outputs": [
    {
     "data": {
      "text/plain": [
       "array([[  1.     ,   0.7    ,   9.4    ,   0.49   ,   6.58   ,  88.36   ],\n",
       "       [  1.     ,   0.88   ,   9.8    ,   0.7744 ,   8.624  ,  96.04   ],\n",
       "       [  1.     ,   0.76   ,   9.8    ,   0.5776 ,   7.448  ,  96.04   ],\n",
       "       ...,\n",
       "       [  1.     ,   0.51   ,  11.     ,   0.2601 ,   5.61   , 121.     ],\n",
       "       [  1.     ,   0.645  ,  10.2    ,   0.41603,   6.579  , 104.04   ],\n",
       "       [  1.     ,   0.31   ,  11.     ,   0.0961 ,   3.41   , 121.     ]])"
      ]
     },
     "execution_count": 34,
     "metadata": {},
     "output_type": "execute_result"
    }
   ],
   "source": [
    "np.set_printoptions(precision=5)\n",
    "np.set_printoptions(suppress=True)\n",
    "transformada.view()"
   ]
  }
 ],
 "metadata": {
  "kernelspec": {
   "display_name": "Python 3",
   "language": "python",
   "name": "python3"
  },
  "language_info": {
   "codemirror_mode": {
    "name": "ipython",
    "version": 3
   },
   "file_extension": ".py",
   "mimetype": "text/x-python",
   "name": "python",
   "nbconvert_exporter": "python",
   "pygments_lexer": "ipython3",
   "version": "3.7.6"
  }
 },
 "nbformat": 4,
 "nbformat_minor": 4
}
